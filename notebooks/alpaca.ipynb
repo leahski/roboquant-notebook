{
 "cells": [
  {
   "cell_type": "markdown",
   "metadata": {},
   "source": [
    "# Introduction\n",
    "This notebook demonstrates the integration capabilities of roboquant with Alpaca. Alpaca is a new broker with an \"API-first\" approach, so a great fit for algorithmic trading. Besides being a broker that offers US stocks & crypto assets for trading, they also provide a nice data api. \n",
    "\n",
    "<img src=\"https://roboquant.org/img/thirdparty/alpaca.jpg\" alt=\"Alpaca\" width=\"400\"/>\n",
    "\n",
    "Under the hood roboquant uses the excellent [alpaca-java](https://petersoj.github.io/alpaca-java/) library by jacob Peterson to do much of the heavy lifting. There are currently three types of integration available:\n",
    "\n",
    "1. Use the historic data from Alpaca\n",
    "2. Use live data from Alpaca\n",
    "3. Use the Alpaca broker functionality (WIP)\n",
    "\n",
    "Alpaca has different subscription models which offer different functionality. This notebook should however run fine even with the free-tier and just the default paper-trading account.  \n",
    "\n",
    "We'll run a very simple strategy since the focus is Alpaca integration for this notebook. But there are other notebooks available that focus on how to develop custom strategies and other aspect of roboquant like charting.\n",
    "\n",
    "By default the required Alpaca classes are not imported, so we need to do that first. This will load the Feed and Broker classes for integrating with Alpaca"
   ]
  },
  {
   "cell_type": "code",
   "metadata": {
    "ExecuteTime": {
     "end_time": "2025-05-06T08:36:15.221345Z",
     "start_time": "2025-05-06T08:36:12.692917Z"
    }
   },
   "source": [
    "%use roboquant(version=3.0.0-SNAPSHOT, modules=alpaca)\n",
    "\n",
    "import org.roboquant.alpaca.*\n",
    "Welcome()"
   ],
   "outputs": [
    {
     "data": {
      "text/html": [
       "            <div id=\"kotlin_out_0\"></div>\n",
       "            <script type=\"text/javascript\">\n",
       "                            if(!window.kotlinQueues) {\n",
       "                window.kotlinQueues = {};\n",
       "            }\n",
       "            if(!window.kotlinQueues[\"echarts\"]) {\n",
       "                var resQueue = [];\n",
       "                window.kotlinQueues[\"echarts\"] = resQueue;\n",
       "                window[\"call_echarts\"] = function(f) {\n",
       "                    resQueue.push(f);\n",
       "                }\n",
       "            }\n",
       "            (function (){\n",
       "                var modifiers = [(function(script) {\n",
       "    script.src = \"https://cdn.jsdelivr.net/gh/neurallayer/roboquant-jupyter-js@fddcad9e93c1c15495c70f358f1ccbb595f0964f/echarts.min.js?version=fddcad9e93c1c15495c70f358f1ccbb595f0964f\"\n",
       "    script.type = \"text/javascript\";\n",
       "})];\n",
       "                var e = document.getElementById(\"kotlin_out_0\");\n",
       "                modifiers.forEach(function (gen) {\n",
       "                    var script = document.createElement(\"script\");\n",
       "                    gen(script)\n",
       "                    script.addEventListener(\"load\", function() {\n",
       "                        window[\"call_echarts\"] = function(f) {f();};\n",
       "                        window.kotlinQueues[\"echarts\"].forEach(function(f) {f();});\n",
       "                        window.kotlinQueues[\"echarts\"] = [];\n",
       "                    }, false);\n",
       "                    script.addEventListener(\"error\", function() {\n",
       "                        window[\"call_echarts\"] = function(f) {};\n",
       "                        window.kotlinQueues[\"echarts\"] = [];\n",
       "                        var div = document.createElement(\"div\");\n",
       "                        div.style.color = 'darkred';\n",
       "                        div.textContent = 'Error loading resource echarts';\n",
       "                        document.getElementById(\"kotlin_out_0\").appendChild(div);\n",
       "                    }, false);\n",
       "                    \n",
       "                    e.appendChild(script);\n",
       "                });\n",
       "            })();\n",
       "            </script>"
      ]
     },
     "metadata": {},
     "output_type": "display_data"
    },
    {
     "data": {
      "text/html": [
       "<img src=\"https://roboquant.org/img/avatar.png\" alt=\"roboquant logo\" align=\"left\" style=\"margin-right: 20px; max-height:160px;\"/>\n",
       "<span>\n",
       "    <b style=\"color: rgb(50,150,200);font-size: 150%;\"> roboquant </b> 3.0.0-SNAPSHOT<br>\n",
       "    <b> build:</b> 2025-05-06T06:39:03Z<br>\n",
       "    <b> home:</b> /Users/peter/.roboquant<br>\n",
       "    <b> os:</b> Mac OS X 15.4.1<br>\n",
       "    <b> jvm:</b> OpenJDK 64-Bit Server VM 17.0.14<br>\n",
       "    <b> memory:</b> 3256 MB<br>\n",
       "    <b> cpu cores:</b> 8<br>\n",
       "</span>"
      ]
     },
     "execution_count": 1,
     "metadata": {},
     "output_type": "execute_result"
    }
   ],
   "execution_count": 1
  },
  {
   "cell_type": "markdown",
   "metadata": {},
   "source": [
    "# Setup\n",
    "We now create, as usual, the strategy we want to test. There is nothing specific to Alpaca Feed that the strategy needs to be aware of.  And we create an instance of Roboquant with the strategy we just defined and some metrics to later see how we have done. Again this is all independent of the data feed we are going to use. Please note we create a very fast EMA (Exponential Moving Average) Crossover. Not a very common practice, but for the purpose of this demo we don't want to have to wait too long before any results can be observed.  "
   ]
  },
  {
   "cell_type": "code",
   "metadata": {
    "ExecuteTime": {
     "end_time": "2025-05-06T08:36:15.358618Z",
     "start_time": "2025-05-06T08:36:15.234440Z"
    }
   },
   "source": [
    "val symbols = listOf(\"AAPL\", \"IBM\", \"JPM\", \"MSFT\", \"TSLA\", \"GOOGL\", \"AMZN\").toTypedArray()"
   ],
   "outputs": [],
   "execution_count": 2
  },
  {
   "cell_type": "markdown",
   "metadata": {},
   "source": [
    "# Back Testing\n",
    "The first example shows how to use historic data from Alpaca in a back test. To use Alpaca you'll need to authenticate with a Key and Secret. There are several ways to pass them to the feed, either directly or through system environment or a property file:\n",
    "\n",
    "* Setting the environment or JVM variables `alpaca.public.key` and `alpaca.secret.key`\n",
    "* Or pass them as parameters to the *AlpacaFeed* constructor. If you take this approach, make sure you don't accidentally share your notebook with anyone. \n",
    "* Or specify them in the dotenv file found in the same directory. The one included in the same directory as the notebooks, already has the keys defined. So if you edit that file with your specific key and secret, roboquant will use those.\n",
    "\n",
    "\n",
    "<div class=\"alert alert-block alert-info\">\n",
    "Make sure you use the KEY/SECRET for the paper trading since roboquant is still very much in Beta\n",
    "</div>"
   ]
  },
  {
   "cell_type": "code",
   "metadata": {
    "ExecuteTime": {
     "end_time": "2025-05-06T08:38:12.495384Z",
     "start_time": "2025-05-06T08:38:11.779659Z"
    }
   },
   "source": [
    "val feed = AlpacaHistoricFeed()\n",
    "\n",
    "// We get the data for last 200 days. The minus 15.minutes is to make sure we only request data that \n",
    "// the free subscriptions is entitled to and not the last 15 minutes. \n",
    "val tf = Timeframe.past(200.days) - 15.minutes\n",
    "feed.retrieveStockPriceBars(symbols, timeframe = tf)\n",
    "feed.assets"
   ],
   "outputs": [
    {
     "data": {
      "text/plain": [
       "[Stock(symbol=AAPL, currency=USD), Stock(symbol=AMZN, currency=USD), Stock(symbol=GOOGL, currency=USD), Stock(symbol=IBM, currency=USD), Stock(symbol=JPM, currency=USD), Stock(symbol=MSFT, currency=USD), Stock(symbol=TSLA, currency=USD)]"
      ]
     },
     "execution_count": 6,
     "metadata": {},
     "output_type": "execute_result"
    }
   ],
   "execution_count": 6
  },
  {
   "cell_type": "code",
   "metadata": {
    "ExecuteTime": {
     "end_time": "2025-05-06T08:38:52.728412Z",
     "start_time": "2025-05-06T08:38:52.605160Z"
    }
   },
   "source": [
    "val strategy = EMACrossover(3, 5)\n",
    "run(feed, strategy)"
   ],
   "outputs": [
    {
     "data": {
      "text/plain": [
       "last update  : 2025-05-05T04:00:00Z\n",
       "cash         : USD 974,566.77\n",
       "buying Power : USD 974,566.77\n",
       "equity       : USD 1,004,994.63\n",
       "positions    : 0@GOOGL, 0@IBM, 34@TSLA, 48@AAPL, 0@JPM, 0@AMZN, 26@MSFT\n",
       "open orders  : 53@AMZN, -34@TSLA"
      ]
     },
     "execution_count": 8,
     "metadata": {},
     "output_type": "execute_result"
    }
   ],
   "execution_count": 8
  },
  {
   "cell_type": "markdown",
   "metadata": {},
   "source": [
    "# Forward Testing\n",
    "Now we create an instance of the AlpacaLiveFeed and subscribe to one or more assets. \n",
    "\n",
    "Alpaca offers the prices for many stocks. For this notebook we're going to limit that a bit, we just get all the stocks who's symbol name starts with \"A\" and then subscribe to them. Alpaca has a generous API rate limit, so it is possible for example to subscribe to all S&P 500 assets."
   ]
  },
  {
   "cell_type": "code",
   "metadata": {
    "ExecuteTime": {
     "end_time": "2025-05-06T08:39:25.370473Z",
     "start_time": "2025-05-06T08:39:24.047566Z"
    }
   },
   "source": [
    "val feed = AlpacaLiveFeed()\n",
    "feed.subscribeStocks(*symbols)\n",
    "feed"
   ],
   "outputs": [
    {
     "data": {
      "text/plain": [
       "org.roboquant.alpaca.AlpacaLiveFeed@20a7e17d"
      ]
     },
     "execution_count": 10,
     "metadata": {},
     "output_type": "execute_result"
    }
   ],
   "execution_count": 10
  },
  {
   "cell_type": "markdown",
   "metadata": {},
   "source": [
    "We have all the components assembled that we need to start the test. All that remains, is to start the run and evaluate the strategy against the feed. \n",
    "We'll run it for 60 minutes, but you can change this. But remember the EMA Crossover is only going to evaluate after at least 5 observations.\n",
    "\n",
    "If the time that is displayed in the progress bar looks off by a few hours, please realize that roboquant uses a timezone independent representation for all internal time processing (same as UTC)."
   ]
  },
  {
   "cell_type": "code",
   "execution_count": null,
   "metadata": {
    "tags": []
   },
   "outputs": [],
   "source": [
    "val timeframe = Timeframe.next(60.minutes)\n",
    "val strategy = EMAStrategy(3, 5)\n",
    "val roboquant = Roboquant(strategy, AccountMetric())\n",
    "roboquant.run(feed, timeframe)"
   ]
  },
  {
   "cell_type": "markdown",
   "metadata": {},
   "source": [
    "## Results\n",
    "The run has completed, lets see a few result. Of course if the run was outside trading hours without any price action, there will not be much to see."
   ]
  },
  {
   "cell_type": "code",
   "execution_count": null,
   "metadata": {},
   "outputs": [],
   "source": [
    "val account = roboquant.broker.account\n",
    "account.fullSummary()"
   ]
  },
  {
   "cell_type": "code",
   "execution_count": null,
   "metadata": {},
   "outputs": [],
   "source": [
    "val accountValue = roboquant.logger.getMetric(\"account.equity\")\n",
    "TimeSeriesChart(accountValue)"
   ]
  },
  {
   "cell_type": "code",
   "execution_count": null,
   "metadata": {},
   "outputs": [],
   "source": [
    "TradeChart(account.trades)"
   ]
  },
  {
   "cell_type": "markdown",
   "metadata": {
    "tags": []
   },
   "source": [
    "# Paper Trading\n",
    "And just as it was the case in the previous section, most live feeds will only generate data during trading hours. So if you run these code cells outside trading hours, you won't see signals and orders being generated.\n",
    "\n",
    "<div class=\"alert alert-block alert-warning\">\n",
    "The integration with the Alpaca broker and trading API is still very much work in progress, so only use this with a paper trading account\n",
    "</div>"
   ]
  },
  {
   "cell_type": "code",
   "execution_count": null,
   "metadata": {},
   "outputs": [],
   "source": [
    "val broker = AlpacaBroker()\n",
    "val account = broker.account\n",
    "account.fullSummary()"
   ]
  },
  {
   "cell_type": "code",
   "execution_count": null,
   "metadata": {},
   "outputs": [],
   "source": [
    "val strategy = EMAStrategy.PERIODS_5_15\n",
    "val roboquant = Roboquant(strategy, AccountMetric(), broker = broker)"
   ]
  },
  {
   "cell_type": "markdown",
   "metadata": {},
   "source": [
    "The setup of the feed is exactly the same as before. There is no difference in the feed if you use it for forward testing with the builtin Simulated Broker or paper- and live-trading."
   ]
  },
  {
   "cell_type": "code",
   "execution_count": null,
   "metadata": {
    "tags": []
   },
   "outputs": [],
   "source": [
    "val timeframe = Timeframe.next(60.minutes)\n",
    "roboquant.run(feed, timeframe)"
   ]
  },
  {
   "cell_type": "code",
   "execution_count": null,
   "metadata": {},
   "outputs": [],
   "source": [
    "val account = roboquant.broker.account\n",
    "account.fullSummary()"
   ]
  },
  {
   "cell_type": "code",
   "execution_count": null,
   "metadata": {},
   "outputs": [],
   "source": [
    "feed.close()"
   ]
  }
 ],
 "metadata": {
  "kernelspec": {
   "display_name": "Kotlin",
   "language": "kotlin",
   "name": "kotlin"
  },
  "language_info": {
   "codemirror_mode": "text/x-kotlin",
   "file_extension": ".kt",
   "mimetype": "text/x-kotlin",
   "name": "kotlin",
   "nbconvert_exporter": "",
   "pygments_lexer": "kotlin",
   "version": "1.9.0"
  }
 },
 "nbformat": 4,
 "nbformat_minor": 4
}
