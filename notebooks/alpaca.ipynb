{
 "cells": [
  {
   "cell_type": "markdown",
   "metadata": {},
   "source": [
    "# Introduction\n",
    "This notebook demonstrates the integration capabilities of roboquant with Alpaca. Alpaca is a new broker with an \"API-first\" approach, so a great fit for algorithmic trading. Besides being a broker that offers US stocks & crypto assets for trading, they also provide a nice data api. \n",
    "\n",
    "<img src=\"https://roboquant.org/img/thirdparty/alpaca.jpg\" alt=\"Alpaca\" width=\"400\"/>\n",
    "\n",
    "Under the hood roboquant uses the excellent [alpaca-java](https://petersoj.github.io/alpaca-java/) library by jacob Peterson to do much of the heavy lifting. There are currently three types of integration available:\n",
    "\n",
    "1. Use the historic data from Alpaca\n",
    "2. Use live data from Alpaca\n",
    "3. Use the Alpaca broker functionality (WIP)\n",
    "\n",
    "Alpaca has different subscription models which offer different functionality. This notebook should however run fine even with the free-tier and just the default paper-trading account.  \n",
    "\n",
    "We'll run a very simple strategy since the focus is Alpaca integration for this notebook. But there are other notebooks available that focus on how to develop custom strategies and other aspect of roboquant like charting.\n",
    "\n",
    "By default the required Alpaca classes are not imported, so we need to do that first. This will load the Feed and Broker classes for integrating with Alpaca"
   ]
  },
  {
   "cell_type": "code",
   "execution_count": null,
   "metadata": {},
   "outputs": [],
   "source": [
    "%use roboquant(version=1.5.0-SNAPSHOT, modules=extra)\n",
    "\n",
    "import org.roboquant.alpaca.*\n",
    "Welcome()"
   ]
  },
  {
   "cell_type": "markdown",
   "metadata": {},
   "source": [
    "# Setup\n",
    "We now create, as usual, the strategy we want to test. There is nothing specific to Alpaca Feed that the strategy needs to be aware of.  And we create an instance of Roboquant with the strategy we just defined and some metrics to later see how we have done. Again this is all independent of the data feed we are going to use. Please note we create a very fast EMA (Exponential Moving Average) Crossover. Not a very common practice, but for the purpose of this demo we don't want to have to wait too long before any results can be observed.  "
   ]
  },
  {
   "cell_type": "code",
   "execution_count": null,
   "metadata": {},
   "outputs": [],
   "source": [
    "val symbols = listOf(\"AAPL\", \"IBM\", \"JPM\", \"MSFT\", \"TSLA\", \"GOOGL\", \"AMZN\").toTypedArray()"
   ]
  },
  {
   "cell_type": "markdown",
   "metadata": {},
   "source": [
    "# Back Testing\n",
    "The first example shows how to use historic data from Alpaca in a back test. To use Alpaca you'll need to authenticate with a Key and Secret. There are several ways to pass them to the feed, either directly or through system environment or a property file:\n",
    "\n",
    "* Setting the environment or JVM variables `alpaca.public.key` and `alpaca.secret.key`\n",
    "* Or pass them as parameters to the *AlpacaFeed* constructor. If you take this approach, make sure you don't accidentally share your notebook with anyone. \n",
    "* Or specify them in the dotenv file found in the same directory. The one included in the same directory as the notebooks, already has the keys defined. So if you edit that file with your specific key and secret, roboquant will use those.\n",
    "\n",
    "\n",
    "<div class=\"alert alert-block alert-info\">\n",
    "Make sure you use the KEY/SECRET for the paper trading since roboquant is still very much in Beta\n",
    "</div>"
   ]
  },
  {
   "cell_type": "code",
   "execution_count": null,
   "metadata": {},
   "outputs": [],
   "source": [
    "val feed = AlpacaHistoricFeed()\n",
    "\n",
    "// We get the data for last 200 days. The minus 15.minutes is to make sure we only request data that \n",
    "// the free subscriptions is entitled to and not the last 15 minutes. \n",
    "val tf = Timeframe.past(200.days) - 15.minutes\n",
    "feed.retrieveStockPriceBars(*symbols, timeframe = tf)\n",
    "feed.assets.summary()"
   ]
  },
  {
   "cell_type": "code",
   "execution_count": null,
   "metadata": {},
   "outputs": [],
   "source": [
    "val strategy = EMAStrategy(3, 5)\n",
    "val roboquant = Roboquant(strategy, AccountMetric(), ProgressMetric())\n",
    "roboquant.run(feed)"
   ]
  },
  {
   "cell_type": "code",
   "execution_count": null,
   "metadata": {},
   "outputs": [],
   "source": [
    "val account = roboquant.broker.account\n",
    "account.summary()"
   ]
  },
  {
   "cell_type": "code",
   "execution_count": null,
   "metadata": {},
   "outputs": [],
   "source": [
    "account.positions.summary()"
   ]
  },
  {
   "cell_type": "code",
   "execution_count": null,
   "metadata": {},
   "outputs": [],
   "source": [
    "val metric = roboquant.logger.getMetric(\"account.equity\")\n",
    "MetricChart(metric)"
   ]
  },
  {
   "cell_type": "code",
   "execution_count": null,
   "metadata": {},
   "outputs": [],
   "source": [
    "val asset = account.trades.first().asset\n",
    "PriceBarChart(feed, asset, account.trades)"
   ]
  },
  {
   "cell_type": "markdown",
   "metadata": {},
   "source": [
    "# Forward Testing\n",
    "Now we create an instance of the AlpacaLiveFeed and subscribe to one or more assets. \n",
    "\n",
    "Alpaca offers the prices for many stocks. For this notebook we're going to limit that a bit, we just get all the stocks who's symbol name starts with \"A\" and then subscribe to them. Alpaca has a generous API rate limit, so it is possible for example to subscribe to all S&P 500 assets."
   ]
  },
  {
   "cell_type": "code",
   "execution_count": null,
   "metadata": {},
   "outputs": [],
   "source": [
    "val feed = AlpacaLiveFeed()\n",
    "feed.subscribeStocks(*symbols)\n",
    "feed.assets.summary()"
   ]
  },
  {
   "cell_type": "markdown",
   "metadata": {},
   "source": [
    "We have all the components assembled that we need to start the test. All that remains, is to start the run and evaluate the strategy against the feed. \n",
    "We'll run it for 60 minutes, but you can change this. But remember the EMA Crossover is only going to evaluate after at least 5 observations.\n",
    "\n",
    "If the time that is displayed in the progress bar looks off by a few hours, please realize that roboquant uses a timezone independent representation for all internal time processing (same as UTC)."
   ]
  },
  {
   "cell_type": "code",
   "execution_count": null,
   "metadata": {
    "tags": []
   },
   "outputs": [],
   "source": [
    "val timeframe = Timeframe.next(60.minutes)\n",
    "val strategy = EMAStrategy(3, 5)\n",
    "val roboquant = Roboquant(strategy, AccountMetric())\n",
    "roboquant.run(feed, timeframe)"
   ]
  },
  {
   "cell_type": "markdown",
   "metadata": {},
   "source": [
    "## Results\n",
    "The run has completed, lets see a few result. Of course if the run was outside trading hours without any price action, there will not be much to see."
   ]
  },
  {
   "cell_type": "code",
   "execution_count": null,
   "metadata": {},
   "outputs": [],
   "source": [
    "val account = roboquant.broker.account\n",
    "account.fullSummary()"
   ]
  },
  {
   "cell_type": "code",
   "execution_count": null,
   "metadata": {},
   "outputs": [],
   "source": [
    "val accountValue = roboquant.logger.getMetric(\"account.equity\")\n",
    "MetricChart(accountValue)"
   ]
  },
  {
   "cell_type": "code",
   "execution_count": null,
   "metadata": {},
   "outputs": [],
   "source": [
    "TradeChart(account.trades)"
   ]
  },
  {
   "cell_type": "markdown",
   "metadata": {
    "tags": []
   },
   "source": [
    "# Paper Trading\n",
    "And just as it was the case in the previous section, most live feeds will only generate data during trading hours. So if you run these code cells outside trading hours, you won't see signals and orders being generated.\n",
    "\n",
    "<div class=\"alert alert-block alert-warning\">\n",
    "The integration with the Alpaca broker and trading API is still very much work in progress, so only use this with a paper trading account\n",
    "</div>"
   ]
  },
  {
   "cell_type": "code",
   "execution_count": null,
   "metadata": {},
   "outputs": [],
   "source": [
    "val broker = AlpacaBroker()\n",
    "val account = broker.account\n",
    "account.fullSummary()"
   ]
  },
  {
   "cell_type": "code",
   "execution_count": null,
   "metadata": {},
   "outputs": [],
   "source": [
    "val strategy = EMAStrategy.PERIODS_5_15\n",
    "val roboquant = Roboquant(strategy, AccountMetric(), broker = broker)"
   ]
  },
  {
   "cell_type": "markdown",
   "metadata": {},
   "source": [
    "The setup of the feed is exactly the same as before. There is no difference in the feed if you use it for forward testing with the builtin Simulated Broker or paper- and live-trading."
   ]
  },
  {
   "cell_type": "code",
   "execution_count": null,
   "metadata": {
    "tags": []
   },
   "outputs": [],
   "source": [
    "val timeframe = Timeframe.next(60.minutes)\n",
    "roboquant.run(feed, timeframe)"
   ]
  },
  {
   "cell_type": "code",
   "execution_count": null,
   "metadata": {},
   "outputs": [],
   "source": [
    "val account = roboquant.broker.account\n",
    "account.fullSummary()"
   ]
  },
  {
   "cell_type": "code",
   "execution_count": null,
   "metadata": {},
   "outputs": [],
   "source": [
    "feed.close()"
   ]
  }
 ],
 "metadata": {
  "kernelspec": {
   "display_name": "Kotlin",
   "language": "kotlin",
   "name": "kotlin"
  },
  "language_info": {
   "codemirror_mode": "text/x-kotlin",
   "file_extension": ".kt",
   "mimetype": "text/x-kotlin",
   "name": "kotlin",
   "nbconvert_exporter": "",
   "pygments_lexer": "kotlin",
   "version": "1.8.20-Beta"
  }
 },
 "nbformat": 4,
 "nbformat_minor": 4
}
