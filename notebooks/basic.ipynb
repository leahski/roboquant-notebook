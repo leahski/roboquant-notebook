{
 "cells": [
  {
   "cell_type": "markdown",
   "id": "c1e58f18-c076-4254-ba2e-471db51f1243",
   "metadata": {},
   "source": [
    "# Introduction\n",
    "This notebook contains a basic breakout strategy that can be used as a starting point to build and test your own strategy upon."
   ]
  },
  {
   "cell_type": "code",
   "execution_count": null,
   "id": "70773d5b-d049-4cce-84b7-a9b719981c8e",
   "metadata": {},
   "outputs": [],
   "source": [
    "%use roboquant(1.3.0-SNAPSHOT)\n",
    "Welcome()"
   ]
  },
  {
   "cell_type": "code",
   "execution_count": null,
   "id": "fff81ffc",
   "metadata": {},
   "outputs": [],
   "source": [
    "/**\n",
    " * Basic breakout strategy.\n",
    " *\n",
    " * @param period the historic period to use for checking this is a breakout\n",
    " */\n",
    "class MyStrategy(period: Int) : HistoricPriceStrategy(period) {\n",
    "\n",
    "    /**\n",
    "     * This method will be called by the superclass for every asset in the feed once\n",
    "     * there is enough data collected for that asset.\n",
    "     */\n",
    "    override fun generateRating(data: DoubleArray): Rating? {\n",
    "        return when (data.last()) {\n",
    "            data.max() -> Rating.BUY\n",
    "            data.min() -> Rating.SELL\n",
    "            else -> null\n",
    "        }\n",
    "    }\n",
    "\n",
    "}"
   ]
  },
  {
   "cell_type": "code",
   "execution_count": null,
   "id": "3166b1d5",
   "metadata": {},
   "outputs": [],
   "source": [
    "// Create an instance of MyStrategy with 26 days worth of history\n",
    "val strategy = MyStrategy(period = 26)\n",
    "\n",
    "// Define the metric(s) you want to monitor\n",
    "val metric = AccountMetric()\n",
    "\n",
    "// Create an instance of Roboquant\n",
    "val roboquant = Roboquant(strategy, metric)\n",
    "\n",
    "// Create the data feed that will be used during the back test\n",
    "val feed = AvroFeed.sp500()"
   ]
  },
  {
   "cell_type": "code",
   "execution_count": null,
   "id": "04fa3d1a",
   "metadata": {},
   "outputs": [],
   "source": [
    "// Run the back test\n",
    "roboquant.run(feed)"
   ]
  },
  {
   "cell_type": "code",
   "execution_count": null,
   "id": "2367fa2c",
   "metadata": {},
   "outputs": [],
   "source": [
    "// Print the account summary\n",
    "roboquant.broker.account.summary()"
   ]
  },
  {
   "cell_type": "code",
   "execution_count": null,
   "id": "1189d896",
   "metadata": {},
   "outputs": [],
   "source": [
    "// Plot the equity metric\n",
    "val equity = roboquant.logger.getMetric(\"account.equity\")\n",
    "MetricChart(equity)"
   ]
  },
  {
   "cell_type": "code",
   "execution_count": null,
   "id": "101a3525",
   "metadata": {},
   "outputs": [],
   "source": []
  }
 ],
 "metadata": {
  "kernelspec": {
   "display_name": "Kotlin",
   "language": "kotlin",
   "name": "kotlin"
  },
  "language_info": {
   "codemirror_mode": "text/x-kotlin",
   "file_extension": ".kt",
   "mimetype": "text/x-kotlin",
   "name": "kotlin",
   "nbconvert_exporter": "",
   "pygments_lexer": "kotlin",
   "version": "1.8.20-Beta"
  }
 },
 "nbformat": 4,
 "nbformat_minor": 5
}
