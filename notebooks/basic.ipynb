{
 "cells": [
  {
   "cell_type": "markdown",
   "id": "c1e58f18-c076-4254-ba2e-471db51f1243",
   "metadata": {},
   "source": [
    "# Introduction\n",
    "This notebook contains a basic trend-following breakout strategy that can be used as a starting point to build and test your own strategy upon."
   ]
  },
  {
   "cell_type": "code",
   "execution_count": null,
   "id": "70773d5b-d049-4cce-84b7-a9b719981c8e",
   "metadata": {
    "ExecuteTime": {
     "end_time": "2025-05-06T10:05:22.198606Z",
     "start_time": "2025-05-06T10:05:21.550614Z"
    }
   },
   "outputs": [],
   "source": [
    "%use roboquant(3.0.0-SNAPSHOT)\n",
    "Welcome()"
   ]
  },
  {
   "cell_type": "markdown",
   "id": "9e1e0a46-289c-4114-abfe-74553da67a6c",
   "metadata": {},
   "source": [
    "Below is the barebone minumum to run a back test. It uses a feed and strategy that come out of the box with roboquant:\n",
    "\n",
    "- A feed containing the prices for the 25 most active US stocks from the past 4 years (S&P 25)\n",
    "- The EMA Crossover strategy with its default settings."
   ]
  },
  {
   "cell_type": "code",
   "execution_count": null,
   "id": "71fe5db7-41b4-4c92-be67-816aa1cc80fa",
   "metadata": {
    "ExecuteTime": {
     "end_time": "2025-05-06T10:05:22.755599Z",
     "start_time": "2025-05-06T10:05:22.220394Z"
    }
   },
   "outputs": [],
   "source": [
    "val feed = AvroFeed.sp25()\n",
    "val strategy = EMACrossover()\n",
    "run(feed, strategy)"
   ]
  },
  {
   "cell_type": "markdown",
   "id": "6574290a-1586-48e4-8d4c-d8b1ecf66c42",
   "metadata": {},
   "source": [
    "Typically however you'll want to develop your own strategy. Below a simple trend following strategy that implements the following rules:\n",
    "\n",
    "- If the last price is the maximum price over the past <period> days, generate a BUY rating (1.0)\n",
    "- If the last price is the minimum price over the past <period> days, generate a SELL rating (-1.0)\n",
    "- In all other cases don't generate a rating"
   ]
  },
  {
   "cell_type": "code",
   "execution_count": null,
   "id": "fff81ffc",
   "metadata": {
    "ExecuteTime": {
     "end_time": "2025-05-06T10:05:23.023958Z",
     "start_time": "2025-05-06T10:05:22.770560Z"
    }
   },
   "outputs": [],
   "source": [
    "/**\n",
    " * Basic breakout strategy.\n",
    " *\n",
    " * @param period the historic period to use for checking this is a breakout\n",
    " */\n",
    "class MyStrategy(period: Int) : HistoricPriceStrategy(period) {\n",
    "\n",
    "    /**\n",
    "     * This method will be called by the superclass for every asset in the feed once\n",
    "     * there is enough data collected for that asset.\n",
    "     */\n",
    "    override fun generateRating(data: DoubleArray): Double? {\n",
    "        return when (data.last()) {\n",
    "            data.max() -> BUY\n",
    "            data.min() -> SELL\n",
    "            else -> null\n",
    "        }\n",
    "    }\n",
    "\n",
    "}"
   ]
  },
  {
   "cell_type": "code",
   "execution_count": null,
   "id": "3166b1d5",
   "metadata": {
    "ExecuteTime": {
     "end_time": "2025-05-06T10:05:23.071335Z",
     "start_time": "2025-05-06T10:05:23.028279Z"
    }
   },
   "outputs": [],
   "source": [
    "// Create an instance of MyStrategy with 26 days worth of history\n",
    "val strategy = MyStrategy(period = 26)\n",
    "\n",
    "// Define the metric(s) you want to monitor\n",
    "val journal = MemoryJournal(AccountMetric())"
   ]
  },
  {
   "cell_type": "code",
   "execution_count": null,
   "id": "04fa3d1a",
   "metadata": {
    "ExecuteTime": {
     "end_time": "2025-05-06T10:05:23.217010Z",
     "start_time": "2025-05-06T10:05:23.076768Z"
    }
   },
   "outputs": [],
   "source": [
    "// Run the back test\n",
    "run(feed, strategy, journal)"
   ]
  },
  {
   "cell_type": "code",
   "execution_count": null,
   "id": "1189d896",
   "metadata": {
    "ExecuteTime": {
     "end_time": "2025-05-06T10:05:23.411517Z",
     "start_time": "2025-05-06T10:05:23.232381Z"
    }
   },
   "outputs": [],
   "source": [
    "// Plot the equity curve\n",
    "val equity = journal.getMetric(\"account.equity\")\n",
    "TimeSeriesChart(equity)"
   ]
  },
  {
   "cell_type": "markdown",
   "id": "06323c53-f6b8-4e5c-81c1-cf167a917f0f",
   "metadata": {},
   "source": [
    "A very simple walkforward test over 1-year periods and at the end of the run printing the total equity hold in the account"
   ]
  },
  {
   "cell_type": "code",
   "execution_count": null,
   "id": "101a3525",
   "metadata": {
    "ExecuteTime": {
     "end_time": "2025-05-06T10:05:23.892397Z",
     "start_time": "2025-05-06T10:05:23.429958Z"
    }
   },
   "outputs": [],
   "source": [
    "feed.timeframe.split(1.years).forEach { \n",
    "    val account = run(feed, EMACrossover(), timeframe=it)\n",
    "    println(\"$it => ${account.equity()}\")\n",
    "}"
   ]
  },
  {
   "cell_type": "code",
   "execution_count": null,
   "id": "cc6b6666-04ff-41df-aa22-9d64d08838da",
   "metadata": {
    "ExecuteTime": {
     "end_time": "2025-05-06T10:05:23.916883Z",
     "start_time": "2025-05-06T10:05:23.913963Z"
    }
   },
   "outputs": [],
   "source": []
  }
 ],
 "metadata": {
  "kernelspec": {
   "display_name": "Kotlin",
   "language": "kotlin",
   "name": "kotlin"
  },
  "language_info": {
   "codemirror_mode": "text/x-kotlin",
   "file_extension": ".kt",
   "mimetype": "text/x-kotlin",
   "name": "kotlin",
   "nbconvert_exporter": "",
   "pygments_lexer": "kotlin",
   "version": "1.9.0"
  }
 },
 "nbformat": 4,
 "nbformat_minor": 5
}
