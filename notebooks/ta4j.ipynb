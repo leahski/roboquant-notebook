{
 "cells": [
  {
   "cell_type": "markdown",
   "metadata": {},
   "source": [
    "# Technical Analysis using Ta4j\n",
    "\n",
    "Roboquant comes out of box with support for technical analysis. It does this by having dedicate support for the popular technical analysis library Ta4j. Ta4j contains over 130 technical indicators and has a flexible engine to define your own trading rules."
   ]
  },
  {
   "cell_type": "code",
   "execution_count": null,
   "metadata": {},
   "outputs": [],
   "source": [
    "%use roboquant(1.6.0-SNAPSHOT)\n",
    "Welcome()"
   ]
  },
  {
   "cell_type": "code",
   "execution_count": null,
   "metadata": {},
   "outputs": [],
   "source": [
    "// We first setup the feed we'll use in the examples below\n",
    "val feed = AvroFeed.sp500()"
   ]
  },
  {
   "cell_type": "markdown",
   "metadata": {},
   "source": [
    "We'll now will define a strategy using indicators and rules found in the `ta4j` library and the roboquant `Ta4jStrategy` strategy class. The `Ta4jStrategy` allows to define flexible rules to generate BUY or SELL signals for assets using standard `ta4j` indicators and rules. Please note that indicators and rules from `ta4j` can be freely used and mixed, but defining strategies and back tests are done using roboquant constructs like the `Ta4jStrategy`, so not the `ta4j` back-test framework.\n",
    "\n",
    "You can find out more on using `ta4j` on the wiki site  https://ta4j.github.io/ta4j-wiki/Trading-strategies.html or visit the `ta4j` Discord server. \n",
    "\n",
    "The main steps to follow are:\n",
    "\n",
    "1. Import the ta4j packages that you want to use (in future releases of roboquant this might be done automatically) \n",
    "2. Create a `Ta4jStrategy` instance and (optional) indicate how much history we want to track\n",
    "3. Define the buying and selling rules\n",
    "4. Run a back test and evaluate the results (this is not specific to `ta4j` based strategies)\n",
    "\n",
    "<div class=\"alert alert-block alert-info\">\n",
    "If you are coming from `ta4j` please note: an important difference with `ta4j` back testing and `roboquant` is that in roboquant by default the buying and selling rules apply to all assets found in a feed. So in the below example the defined strategy is applied to all the S&P 500 stocks and not just a single stock. \n",
    "</div>"
   ]
  },
  {
   "cell_type": "code",
   "execution_count": null,
   "metadata": {},
   "outputs": [],
   "source": [
    "import org.ta4j.core.indicators.*\n",
    "import org.ta4j.core.rules.*\n",
    "import org.ta4j.core.indicators.helpers.*"
   ]
  },
  {
   "cell_type": "code",
   "execution_count": null,
   "metadata": {},
   "outputs": [],
   "source": [
    "val strategy = Ta4jStrategy(maxBarCount = 30)\n",
    "\n",
    "strategy.buy { series ->\n",
    "    val closePrice = ClosePriceIndicator(series)\n",
    "    val shortSma = SMAIndicator(closePrice, 5)\n",
    "    val longSma = SMAIndicator(closePrice, 30)\n",
    "    CrossedUpIndicatorRule(shortSma, longSma)\n",
    "}\n",
    "\n",
    "strategy.sell { series ->\n",
    "    val closePrice = ClosePriceIndicator(series)\n",
    "    val shortSma = SMAIndicator(closePrice, 5)\n",
    "    val longSma = SMAIndicator(closePrice, 30)\n",
    "    CrossedDownIndicatorRule(shortSma, longSma)\n",
    "        .or(StopLossRule(closePrice, 3.0))\n",
    "        .or(StopGainRule(closePrice, 2.0))\n",
    "}"
   ]
  },
  {
   "cell_type": "code",
   "execution_count": null,
   "metadata": {
    "tags": []
   },
   "outputs": [],
   "source": [
    "val roboquant =  Roboquant(strategy, AccountMetric())\n",
    "roboquant.run(feed)"
   ]
  },
  {
   "cell_type": "code",
   "execution_count": null,
   "metadata": {},
   "outputs": [],
   "source": [
    "roboquant.broker.account.summary()"
   ]
  },
  {
   "cell_type": "code",
   "execution_count": null,
   "metadata": {},
   "outputs": [],
   "source": [
    "val metricData = roboquant.logger.getMetric(\"account.equity\")\n",
    "TimeSeriesChart(metricData)"
   ]
  },
  {
   "cell_type": "markdown",
   "metadata": {},
   "source": [
    "## Bollinger Bands\n",
    "\n",
    "This is a similar Bollinger Bands strategy as the one above for Ta-Lib. "
   ]
  },
  {
   "cell_type": "code",
   "execution_count": null,
   "metadata": {},
   "outputs": [],
   "source": [
    "import org.ta4j.core.indicators.bollinger.BollingerBandFacade\n",
    "import org.ta4j.core.indicators.helpers.ClosePriceIndicator\n",
    "import org.ta4j.core.rules.CrossedUpIndicatorRule\n",
    "\n",
    "// How big a look-back period should we use\n",
    "val period = 20\n",
    "\n",
    "val strategy = Ta4jStrategy(maxBarCount = period)\n",
    "\n",
    "strategy.buy { series ->\n",
    "    val b = BollingerBandFacade(series, period, 1.0)\n",
    "    val closePrice = ClosePriceIndicator(series)\n",
    "    CrossedUpIndicatorRule(closePrice, b.upper())\n",
    "}\n",
    "\n",
    "strategy.sell { series ->\n",
    "    val b = BollingerBandFacade(series, period, 1.0)\n",
    "    val closePrice = ClosePriceIndicator(series)\n",
    "    CrossedUpIndicatorRule(closePrice, b.lower())\n",
    "}\n"
   ]
  },
  {
   "cell_type": "code",
   "execution_count": null,
   "metadata": {},
   "outputs": [],
   "source": [
    "val roboquant =  Roboquant(strategy, AccountMetric())\n",
    "roboquant.run(feed)"
   ]
  },
  {
   "cell_type": "code",
   "execution_count": null,
   "metadata": {},
   "outputs": [],
   "source": [
    "roboquant.broker.account.summary()"
   ]
  },
  {
   "cell_type": "code",
   "execution_count": null,
   "metadata": {},
   "outputs": [],
   "source": [
    "val metricData = roboquant.logger.getMetric(\"account.equity\")\n",
    "TimeSeriesChart(metricData)"
   ]
  },
  {
   "cell_type": "markdown",
   "metadata": {},
   "source": [
    "# Indicators"
   ]
  },
  {
   "cell_type": "code",
   "execution_count": null,
   "metadata": {},
   "outputs": [],
   "source": [
    "// This indicator calculates the percentage bandwith of Bollinger bands\n",
    "val indicator = Ta4jIndicator(maxBarCount = 100) { series ->\n",
    "    val b = BollingerBandFacade(series, 20, 1.0) \n",
    "    val value = b.percentB().getValue(series.endIndex).doubleValue()\n",
    "    mapOf(\"bandwidth\" to value)\n",
    "}"
   ]
  },
  {
   "cell_type": "code",
   "execution_count": null,
   "metadata": {},
   "outputs": [],
   "source": [
    "val apple = feed.assets.getBySymbol(\"AAPL\")\n",
    "val tesla = feed.assets.getBySymbol(\"TSLA\")\n",
    "val data = feed.apply(indicator, apple, tesla)\n",
    "TimeSeriesChart(data)"
   ]
  },
  {
   "cell_type": "code",
   "execution_count": null,
   "metadata": {},
   "outputs": [],
   "source": [
    "val emaIndicator = Ta4jIndicator(maxBarCount = 30) { series ->\n",
    "    val closePrice = ClosePriceIndicator(series)\n",
    "    val slow = EMAIndicator(closePrice, 26).getValue(series.endIndex).doubleValue() \n",
    "    val fast = EMAIndicator(closePrice, 12).getValue(series.endIndex).doubleValue() \n",
    "    mapOf(\"ema.slow\" to slow, \"ema.fast\" to fast)\n",
    "}"
   ]
  },
  {
   "cell_type": "code",
   "execution_count": null,
   "metadata": {},
   "outputs": [],
   "source": [
    "val data = feed.apply(emaIndicator, apple)\n",
    "TimeSeriesChart(data)"
   ]
  },
  {
   "cell_type": "code",
   "execution_count": null,
   "metadata": {},
   "outputs": [],
   "source": []
  }
 ],
 "metadata": {
  "kernelspec": {
   "display_name": "Kotlin",
   "language": "kotlin",
   "name": "kotlin"
  },
  "language_info": {
   "codemirror_mode": "text/x-kotlin",
   "file_extension": ".kt",
   "mimetype": "text/x-kotlin",
   "name": "kotlin",
   "nbconvert_exporter": "",
   "pygments_lexer": "kotlin",
   "version": "1.8.20-Beta"
  }
 },
 "nbformat": 4,
 "nbformat_minor": 4
}
