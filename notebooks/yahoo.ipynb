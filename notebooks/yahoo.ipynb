{
 "cells": [
  {
   "cell_type": "markdown",
   "metadata": {},
   "source": [
    "# Introduction\n",
    "This notebook demonstrates how to use Yahoo Finance to download historic data and run a back test over it."
   ]
  },
  {
   "cell_type": "code",
   "execution_count": null,
   "metadata": {},
   "outputs": [],
   "source": [
    "// YahooHistoricFeed is part of the roboquant-extra module, so we include that also\n",
    "%use roboquant(version=1.3.0-SNAPSHOT, modules=extra)\n",
    "\n",
    "\n",
    "// and we import the yahoo package\n",
    "import org.roboquant.yahoo.*\n",
    "\n",
    "Welcome()"
   ]
  },
  {
   "cell_type": "markdown",
   "metadata": {},
   "source": [
    "# Create the Feed"
   ]
  },
  {
   "cell_type": "code",
   "execution_count": null,
   "metadata": {},
   "outputs": [],
   "source": [
    "val feed = YahooHistoricFeed()\n",
    "\n",
    "// We retrieve the data for last 5 years for a number of symbols\n",
    "val tf = Timeframe.past(5.years)\n",
    "feed.retrieve(\"AAPL\", \"IBM\", \"JPM\", \"MSFT\", \"TSLA\", \"GOOGL\", \"AMZN\", timeframe = tf)"
   ]
  },
  {
   "cell_type": "code",
   "execution_count": null,
   "metadata": {},
   "outputs": [],
   "source": [
    "println(feed.assets.summary())\n",
    "println(feed.timeframe)"
   ]
  },
  {
   "cell_type": "code",
   "execution_count": null,
   "metadata": {},
   "outputs": [],
   "source": [
    "val apple = feed.assets.getBySymbol(\"AAPL\")\n",
    "PriceBarChart(feed, apple)"
   ]
  },
  {
   "cell_type": "markdown",
   "metadata": {},
   "source": [
    "# Run a Strategy\n",
    "We run a back test using the default EMA Crossover Strategy and use all the data in the feed."
   ]
  },
  {
   "cell_type": "code",
   "execution_count": null,
   "metadata": {},
   "outputs": [],
   "source": [
    "val strategy = EMAStrategy()\n",
    "val roboquant = Roboquant(strategy, AccountMetric())\n",
    "roboquant.run(feed)"
   ]
  },
  {
   "cell_type": "code",
   "execution_count": null,
   "metadata": {},
   "outputs": [],
   "source": [
    "// How does the account look like at the end of the back test\n",
    "val account = roboquant.broker.account\n",
    "account.summary()"
   ]
  },
  {
   "cell_type": "code",
   "execution_count": null,
   "metadata": {},
   "outputs": [],
   "source": [
    "// Plot the equity curve\n",
    "val metric = roboquant.logger.getMetric(\"account.equity\")\n",
    "MetricChart(metric)"
   ]
  },
  {
   "cell_type": "markdown",
   "metadata": {},
   "source": [
    "# Offline usage\n",
    "It is easy to make the data just retrieved from Yahoo Finance available for offline usage. We'll be using the AvroFeed for this, which is memory efficient as well as very fast.\n",
    "\n",
    "Please note this approach works for any feed with prices, not only a YahooHistoricFeed."
   ]
  },
  {
   "cell_type": "code",
   "execution_count": null,
   "metadata": {},
   "outputs": [],
   "source": [
    "// Record all the prices in the feed to a Avro file.\n",
    "AvroFeed.record(feed, \"/tmp/yahoo_finance.avro\")"
   ]
  },
  {
   "cell_type": "markdown",
   "metadata": {},
   "source": [
    "From now on you can use the AvroFeed which has the same data as the YahooHistoricFeed which we just recorded. Just to demonstrate it is the same data, we plot the Apple stock prices again but now using the AvroFeed."
   ]
  },
  {
   "cell_type": "code",
   "execution_count": null,
   "metadata": {},
   "outputs": [],
   "source": [
    "val feed = AvroFeed(\"/tmp/yahoo_finance.avro\")\n",
    "val apple = feed.assets.getBySymbol(\"AAPL\")\n",
    "PriceBarChart(feed, apple)"
   ]
  },
  {
   "cell_type": "code",
   "execution_count": null,
   "metadata": {},
   "outputs": [],
   "source": []
  }
 ],
 "metadata": {
  "kernelspec": {
   "display_name": "Kotlin",
   "language": "kotlin",
   "name": "kotlin"
  },
  "language_info": {
   "codemirror_mode": "text/x-kotlin",
   "file_extension": ".kt",
   "mimetype": "text/x-kotlin",
   "name": "kotlin",
   "nbconvert_exporter": "",
   "pygments_lexer": "kotlin",
   "version": "1.8.20-Beta"
  }
 },
 "nbformat": 4,
 "nbformat_minor": 4
}
