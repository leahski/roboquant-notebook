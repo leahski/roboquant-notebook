{
 "cells": [
  {
   "cell_type": "markdown",
   "id": "ab35ce75-287f-4e4a-b145-1310482217b7",
   "metadata": {},
   "source": [
    "# Intro\n",
    "\n",
    "This notebooks shows how to use Kotlin dataframes in combination with roboquant. It is important to note that roboquant make it very conveninet to manipulate often encountered collections like Orders, Trades, Positions. In general you have two flavors at your disposal, you manipulate before or after you turn a collection into a dataframe.\n",
    "\n",
    "- account.positions.filter { ... }.toDataFrame() \n",
    "- account.positions.toDataFrame().filter { ... } \n"
   ]
  },
  {
   "cell_type": "code",
   "execution_count": null,
   "id": "4a1ff15a-d09b-48b9-a8d3-125400f179f7",
   "metadata": {},
   "outputs": [],
   "source": [
    "%useLatestDescriptors\n",
    "%use dataframe\n",
    "\n",
    "// Some settings that can help to improve the display of tables\n",
    "dataFrameConfig.display.cellContentLimit = 100\n",
    "dataFrameConfig.display.rowsLimit = 20\n",
    "dataFrameConfig.display.nestedRowsLimit = 4\n",
    "\n",
    "%use roboquant(2.1.0)"
   ]
  },
  {
   "cell_type": "code",
   "execution_count": null,
   "id": "6bd51da8-8a5b-48b7-b89a-4d0cdb6f3ecc",
   "metadata": {},
   "outputs": [],
   "source": [
    "// Lets run a back test so we have some data to play it.\n",
    "val strategy = EMAStrategy()\n",
    "val metric = AccountMetric()\n",
    "val roboquant = Roboquant(strategy, metric)\n",
    "\n",
    "val feed = AvroFeed.sp500()\n",
    "roboquant.run(feed)"
   ]
  },
  {
   "cell_type": "code",
   "execution_count": null,
   "id": "0235c03d-5933-42fa-aacc-b735d2ec1562",
   "metadata": {},
   "outputs": [],
   "source": [
    "val account = roboquant.broker.account\n",
    "account.positions.filter { ! it.unrealizedPNL.isPositive}.toDataFrame()"
   ]
  },
  {
   "cell_type": "code",
   "execution_count": null,
   "id": "9e045c6a-a6b4-4a7b-91a7-ff81ae1764df",
   "metadata": {},
   "outputs": [],
   "source": [
    "account.trades.toDataFrame()"
   ]
  },
  {
   "cell_type": "markdown",
   "id": "c31e01f4-ac5c-455a-9276-c10e25b49fb6",
   "metadata": {},
   "source": [
    "# Two flavors\n",
    "Below are two different approaches how you can filter a collection of closed orders to only show the ones that are related to Apple. "
   ]
  },
  {
   "cell_type": "code",
   "execution_count": null,
   "id": "9c9a8f71-2719-4924-8c1b-4ba03c79e831",
   "metadata": {},
   "outputs": [],
   "source": [
    "// Using standard Kotlin collection filter \n",
    "account.closedOrders.filter { it.asset.symbol == \"AAPL\"}.toDataFrame()"
   ]
  },
  {
   "cell_type": "code",
   "execution_count": null,
   "id": "f40e1564-02a7-488f-9003-3d37ac5ca47a",
   "metadata": {},
   "outputs": [],
   "source": [
    "// Using DataFrame filter \n",
    "account.closedOrders.toDataFrame().filter { \"asset\"<Asset>().symbol == \"AAPL\" } "
   ]
  },
  {
   "cell_type": "markdown",
   "id": "e9ef694d-85bd-4aec-b8af-9df37fbeb89e",
   "metadata": {},
   "source": [
    "# Metric results\n",
    "You can also use dataframes to analyse metric results."
   ]
  },
  {
   "cell_type": "code",
   "execution_count": null,
   "id": "c7e2388d-e703-4ebc-a3d9-d2a6c7fd50d9",
   "metadata": {},
   "outputs": [],
   "source": [
    "val df = roboquant.logger.getMetric(\"account.equity\").toDataFrame()\n",
    "df.last()"
   ]
  },
  {
   "cell_type": "code",
   "execution_count": null,
   "id": "a183a664-aa48-4abf-a457-03842ccf88b4",
   "metadata": {},
   "outputs": [],
   "source": [
    "val run = roboquant.logger.getRuns().first()\n",
    "df.describe(run)"
   ]
  }
 ],
 "metadata": {
  "kernelspec": {
   "display_name": "Kotlin",
   "language": "kotlin",
   "name": "kotlin"
  },
  "language_info": {
   "codemirror_mode": "text/x-kotlin",
   "file_extension": ".kt",
   "mimetype": "text/x-kotlin",
   "name": "kotlin",
   "nbconvert_exporter": "",
   "pygments_lexer": "kotlin",
   "version": "1.8.20-Beta"
  }
 },
 "nbformat": 4,
 "nbformat_minor": 5
}
