{
 "cells": [
  {
   "cell_type": "markdown",
   "metadata": {},
   "source": [
    "# Charts\n",
    "_Roboquant_ notebooks come out of the box with support for several types of charts. These charts will help to better understand: \n",
    "\n",
    "1. what is going on during a run and evaluate the performance of the underlying strategy and policy. \n",
    "2. visualize the data feed you are using\n",
    "\n",
    "<div class=\"alert alert-block alert-info\">\n",
    "    <b>Tip:</b> when using Jupyter Lab, roboquant will by default adapt to the configured theme. So if you select the dark theme in the settings menu of Jupyter Lab, the charts rendered by roboquant from then on will use an appropriate color scheme and everything will look great.\n",
    "</div>"
   ]
  },
  {
   "cell_type": "code",
   "execution_count": null,
   "metadata": {
    "tags": []
   },
   "outputs": [],
   "source": [
    "%use roboquant(1.6.0)\n",
    "Welcome()"
   ]
  },
  {
   "cell_type": "markdown",
   "metadata": {
    "tags": []
   },
   "source": [
    "## Price Feeds\n",
    "\n",
    "A feed represents a stream of events you can use in your strategies. There are several type of feeds supported, like the one for Avro files used here. \n",
    "\n",
    "The file we are using in this notebook contains few years of S&P 500 daily prices (OHLCV). The Avro file format allows to store, access and compress data efficiently and works great for historic prices used in back-testing. \n",
    "\n",
    "This feed implementation also has low memory consumption since it only loads data when required. If you want to find out more about Avro files, check out their [documentation pages](https://avro.apache.org/docs/current/index.html)."
   ]
  },
  {
   "cell_type": "code",
   "execution_count": null,
   "metadata": {},
   "outputs": [],
   "source": [
    "val feed = AvroFeed.sp500()\n",
    "\n",
    "// We define some assets we are going to use\n",
    "val apple = feed.assets.getBySymbol(\"AAPL\")\n",
    "val tesla = feed.assets.getBySymbol(\"TSLA\")\n",
    "val popularAssets = feed.assets.findBySymbols(\"AAPL\", \"GOOGL\", \"F\", \"BAC\", \"T\", \"MSFT\", \"CAT\", \"JPM\", \"IBM\", \"PFE\")\n",
    "\n",
    "// Show the first 10 assets in this feed\n",
    "feed.assets.take(10).summary()"
   ]
  },
  {
   "cell_type": "markdown",
   "metadata": {},
   "source": [
    "## Performance Chart\n",
    "This chart enables you to see which assets got most traded and how they performed:\n",
    "\n",
    "1. The volume decides how big the asset is plotted. The volume = (price of the asset denoted in the base currency) x (the number unit traded).\n",
    "2. The return (in %) decides the color that is used. \n",
    "\n",
    "You can use the slider at the top to filter an a particular range of interest, for example only the big losers."
   ]
  },
  {
   "cell_type": "code",
   "execution_count": null,
   "metadata": {},
   "outputs": [],
   "source": [
    "val timeframe = Timeframe.fromYears(2022, 2023)\n",
    "PerformanceChart(feed, timeframe = timeframe)"
   ]
  },
  {
   "cell_type": "markdown",
   "metadata": {},
   "source": [
    "## Price Chart\n",
    "Roboquant charts aren't designed to be a tool where you manually draw support lines on price charts to make trading decisions. \n",
    "\n",
    "But that doesn't mean price charts cannot come in handy. For example to validate if the data in a feed is not corrupted or has some other strange anomalies. \n",
    "\n",
    "There are two type of price charts:\n",
    "\n",
    "1. PriceChart, this one support any type of pricing info\n",
    "\n",
    "2. PriecBarChart, that only support price-bars (candlestick) data\n",
    "\n",
    "A price chart will always plot the prices for a single asset. If we don't supply a timeframe, so all prices in the feed will be displayed. In the top right part of the plotted graph there is a toolbox that you can use to zoom into a particular area of interest."
   ]
  },
  {
   "cell_type": "code",
   "execution_count": null,
   "metadata": {
    "tags": []
   },
   "outputs": [],
   "source": [
    "PriceChart(feed, \"AAPL\", timeframe = timeframe)"
   ]
  },
  {
   "cell_type": "code",
   "execution_count": null,
   "metadata": {},
   "outputs": [],
   "source": [
    "val ind = TaLibIndicator.bbands()\n",
    "val chart = PriceChart(feed, tesla, priceType = \"CLOSE\", indicators = arrayOf(ind))\n",
    "chart.height = 900\n",
    "chart"
   ]
  },
  {
   "cell_type": "code",
   "execution_count": null,
   "metadata": {
    "tags": []
   },
   "outputs": [],
   "source": [
    "val ema26 = TaLibIndicator.ema(26)\n",
    "val ema12 = TaLibIndicator.ema(12)\n",
    "PriceBarChart(feed, apple, indicators = arrayOf(ema12, ema26))"
   ]
  },
  {
   "cell_type": "markdown",
   "metadata": {},
   "source": [
    "### Correlation Chart\n",
    "This chart shows the correlation matrix of the prices of a number of assets within a feed. In this example we select some well popular stocks from different sectors and see how these are correlated."
   ]
  },
  {
   "cell_type": "code",
   "execution_count": null,
   "metadata": {},
   "outputs": [],
   "source": [
    "CorrelationChart(feed, popularAssets)"
   ]
  },
  {
   "cell_type": "markdown",
   "metadata": {},
   "source": [
    "### Indicators\n",
    "To get further insights into the price behavior of assets, you can use indicators. You can define your own, use one of the prebuilt ones like the `rsi` indicator in the example below."
   ]
  },
  {
   "cell_type": "code",
   "execution_count": null,
   "metadata": {},
   "outputs": [],
   "source": [
    "val rsi = TaLibIndicator.rsi(10)\n",
    "val data = feed.apply(rsi, apple, tesla)\n",
    "TimeSeriesChart(data)"
   ]
  },
  {
   "cell_type": "markdown",
   "metadata": {},
   "source": [
    "### Strategy & Signals\n",
    "\n",
    "Before running a back-test, you might want to validate the type of signals that your strategy is producing. You can do so, using the SignalChart. This chart plots the signals and the rating (value from -2 to 2) over time.\n",
    "For this notebook we'll use the EMA crossover strategy with its default settings"
   ]
  },
  {
   "cell_type": "code",
   "execution_count": null,
   "metadata": {},
   "outputs": [],
   "source": [
    "val strategy = EMAStrategy()\n",
    "SignalChart(feed, strategy)"
   ]
  },
  {
   "cell_type": "markdown",
   "metadata": {},
   "source": [
    "### Account\n",
    "We run a simple strategy over the feed we just created to get some results to use for the charts. We'll also capture the AccountMetric metrics. After the run has finished, the account contains the latest state. There are several charts that provide some insights into this. "
   ]
  },
  {
   "cell_type": "code",
   "execution_count": null,
   "metadata": {
    "tags": []
   },
   "outputs": [],
   "source": [
    "val roboquant = Roboquant(strategy, AccountMetric())\n",
    "roboquant.run(feed)"
   ]
  },
  {
   "cell_type": "markdown",
   "metadata": {},
   "source": [
    "## Asset Allocation Charts\n",
    "Lets see what assets are in our portfolio at the end of the run. We can plot only the assets (pie chart) or plot the assets grouped per asset-class (sunburst chart). Optionally we can also say if the cash positions in the account should be included in the chart."
   ]
  },
  {
   "cell_type": "code",
   "execution_count": null,
   "metadata": {},
   "outputs": [],
   "source": [
    "val account = roboquant.broker.account\n",
    "AllocationChart(account.positions, includeAssetClass=false)"
   ]
  },
  {
   "cell_type": "code",
   "execution_count": null,
   "metadata": {},
   "outputs": [],
   "source": [
    "AllocationChart(account.positions, includeAssetClass=true)"
   ]
  },
  {
   "cell_type": "code",
   "execution_count": null,
   "metadata": {},
   "outputs": [],
   "source": [
    "// You can of course also just print a summary\n",
    "account.positions.summary()"
   ]
  },
  {
   "cell_type": "markdown",
   "metadata": {},
   "source": [
    "## Trade Chart\n",
    "Another important aspect is to see which trades has been executed as part of the run and how they performed. "
   ]
  },
  {
   "cell_type": "code",
   "execution_count": null,
   "metadata": {},
   "outputs": [],
   "source": [
    "val trades = account.trades.takeLast(100)\n",
    "TradeChart(trades)"
   ]
  },
  {
   "cell_type": "code",
   "execution_count": null,
   "metadata": {
    "tags": []
   },
   "outputs": [],
   "source": [
    "val chart = TradeChart(trades, perAsset = true)\n",
    "chart.height = 600\n",
    "chart"
   ]
  },
  {
   "cell_type": "code",
   "execution_count": null,
   "metadata": {},
   "outputs": [],
   "source": [
    "// Lets plot biggest loosing trades\n",
    "val trades = account.trades.filter { it.pnl < -1000 }\n",
    "TradeChart(trades, aspect = \"pnl\") "
   ]
  },
  {
   "cell_type": "code",
   "execution_count": null,
   "metadata": {},
   "outputs": [],
   "source": [
    "PriceBarChart(feed, \"AAPL\", account.trades)"
   ]
  },
  {
   "cell_type": "markdown",
   "metadata": {},
   "source": [
    "##  Order Chart \n",
    "We can also view the orders that were created as part of the run. This time we don't plot the orders of all assets that are still in our portfolio."
   ]
  },
  {
   "cell_type": "code",
   "execution_count": null,
   "metadata": {},
   "outputs": [],
   "source": [
    "val assets = account.positions.assets\n",
    "val orders = account.closedOrders.filter { it.asset in assets }\n",
    "OrderChart(orders) "
   ]
  },
  {
   "cell_type": "markdown",
   "metadata": {},
   "source": [
    "# Metrics\n",
    "\n",
    "Besides the charts for account related data, we can also plot the metrics that where captured during the run. Where an Account contains only the end state after the run has finished, metrics are captured during each step of the run. This allows for charts that provide more insights into different periods of the run. We used the AccountMetric metric that keeps track of how our account performs during the back-test. We use the account value (= cash + positions), for this sample"
   ]
  },
  {
   "cell_type": "code",
   "execution_count": null,
   "metadata": {},
   "outputs": [],
   "source": [
    "val logger = roboquant.logger\n",
    "\n",
    "// What metrics are available\n",
    "logger.metricNames.summary(\"Metrics Names\")"
   ]
  },
  {
   "cell_type": "markdown",
   "metadata": {},
   "source": [
    "## Metric Chart"
   ]
  },
  {
   "cell_type": "code",
   "execution_count": null,
   "metadata": {
    "tags": []
   },
   "outputs": [],
   "source": [
    "val data = logger.getMetric(\"account.equity\").latestRun()\n",
    "TimeSeriesChart(data)"
   ]
  },
  {
   "cell_type": "markdown",
   "metadata": {},
   "source": [
    "## Metric Box Chart\n",
    "If you want to inspect how volatile the performance of a strategy is, the metric box chart comes in handy. It provides insights into how a metric is distributed over a period of time. If provides the following info per box:\n",
    "\n",
    "- The minimum\n",
    "- low percentile (default is 25.0)\n",
    "- mid percentile (default is 50.0, aka median)\n",
    "- high percentile (default is 75.0)\n",
    "- the maximum \n",
    "\n",
    "So in this case it shows these statistics of the **daily equity returns** based on the monthly aggregate of daily values."
   ]
  },
  {
   "cell_type": "code",
   "execution_count": null,
   "metadata": {},
   "outputs": [],
   "source": [
    "BoxChart(data.returns())"
   ]
  },
  {
   "cell_type": "code",
   "execution_count": null,
   "metadata": {},
   "outputs": [],
   "source": [
    "BoxChart(data.returns(), period=ChronoUnit.YEARS, lowPercentile = 10.0, highPercentile = 90.0)"
   ]
  },
  {
   "cell_type": "markdown",
   "metadata": {},
   "source": [
    "## Metric Histogram Chart\n",
    "If we want to see the distribution of the metric values, we can use the MetricHistogram chart. Besides the metric data that needs to be plot, you can also specify the number of bins. On the x-axis the upperbound of each bin is displayed and on the y-axis how many observations fit in that bin. "
   ]
  },
  {
   "cell_type": "code",
   "execution_count": null,
   "metadata": {},
   "outputs": [],
   "source": [
    "HistogramChart(data.diff(), 15)"
   ]
  },
  {
   "cell_type": "markdown",
   "metadata": {
    "tags": []
   },
   "source": [
    "## Calender Chart\n",
    "When evaluating the performance of a strategy, it is sometimes required to find out when the strategy was performing good and bad. A calendar charts allows you to plot a metric value per day, so it is easy to find out which days to further investigate. The slider at top of the chart allows for filtering only those days that are of interest based on their value.\n",
    "\n",
    "In the example below we plot the daily account change and loss to see when the strategy performed good (green) and when bad (red). It also demonstrates how to display metrics only for a limited timeframe."
   ]
  },
  {
   "cell_type": "code",
   "execution_count": null,
   "metadata": {
    "tags": []
   },
   "outputs": [],
   "source": [
    "CalendarChart(data.diff())"
   ]
  },
  {
   "cell_type": "markdown",
   "metadata": {},
   "source": [
    "# Multi-run tests\n",
    "A good way to back-test your strategy is to run it multiple times over different time-frames. This section shows how charts that come in handy to better understand the results of those type of back-tests. \n",
    "\n",
    "## Walk-forward\n",
    "A commonly used approach in back-testing is the so called walk-forward. The historic data is split in a number of equal periods and then the strategy is run for each period separately. This shows how the strategy would have performed during these different periods and possible different regimes.\n",
    "\n",
    "In the following code we split the data in periods of 1 year and for each period run it. We then plot again the account value as observed during each run."
   ]
  },
  {
   "cell_type": "code",
   "execution_count": null,
   "metadata": {},
   "outputs": [],
   "source": [
    "roboquant.reset()\n",
    "\n",
    "feed.timeframe.split(6.months).forEach { \n",
    "    roboquant.run(feed, it)   \n",
    "}\n",
    "\n",
    "val data = roboquant.logger.getMetric(\"account.equity\")\n",
    "TimeSeriesChart(data)"
   ]
  },
  {
   "cell_type": "markdown",
   "metadata": {},
   "source": [
    "## Monte Carlo Simulation\n",
    "Another great way to back-test your strategy is to run it for a fixed duration at many random starting points in time. This gives you a good insight what could be a good and bad outcome of your strategy. The following piece of code runs the strategy 25 times, each time for the duration of 6 months. Feel free to change the number of runs from 25 to a higher value like 50 or 100. It is kept small so that also people with older or less powerful computers don't have to wait too long.\n",
    "\n",
    "In this case we plot the *account value* (= cash + positions) again and you can see there are times we do well but there are also periods when we loose money."
   ]
  },
  {
   "cell_type": "code",
   "execution_count": null,
   "metadata": {
    "tags": []
   },
   "outputs": [],
   "source": [
    "roboquant.reset()\n",
    "\n",
    "feed.timeframe.sample(6.months, 50).forEach {\n",
    "    roboquant.run(feed, it) \n",
    "}"
   ]
  },
  {
   "cell_type": "code",
   "execution_count": null,
   "metadata": {},
   "outputs": [],
   "source": [
    "val data = roboquant.logger.getMetric(\"account.equity\")\n",
    "TimeSeriesChart(data, useTime=false)"
   ]
  },
  {
   "cell_type": "markdown",
   "metadata": {},
   "source": [
    "If you want to see the same data, but this time plotted in time, you can use the same TimeSeriesChart class and provide the *useTime=true* parameter. This shows in which periods the strategy is performing well and in which periods it is struggling. It is similar to the walk-forward approach, but provides at each moment in time multiple samples."
   ]
  },
  {
   "cell_type": "code",
   "execution_count": null,
   "metadata": {},
   "outputs": [],
   "source": [
    "TimeSeriesChart(data, useTime=true)"
   ]
  },
  {
   "cell_type": "markdown",
   "metadata": {},
   "source": [
    "# Displaying multiple charts\n",
    "By using the *chart.render()* method you can display multiple charts in the output section of a single cell. The following code selects 2 random assets from the feed and renders a candlestick chart for each one of them. It also demonstrates the excellent performance of the ECharts library, since every chart contains many data points."
   ]
  },
  {
   "cell_type": "code",
   "execution_count": null,
   "metadata": {
    "tags": []
   },
   "outputs": [],
   "source": [
    "for (asset in popularAssets.take(2)) PriceBarChart(feed, asset).render()"
   ]
  },
  {
   "cell_type": "markdown",
   "metadata": {},
   "source": [
    "Another example, lets see how the correlation between assets differs over timeframes of maximum 1 year."
   ]
  },
  {
   "cell_type": "code",
   "execution_count": null,
   "metadata": {},
   "outputs": [],
   "source": [
    "val assets = feed.assets.random(10)\n",
    "feed.timeframe.split(1.years).forEach { \n",
    "    val chart = CorrelationChart(feed, assets, it)\n",
    "    chart.title = \"correlations $it\"\n",
    "    chart.render()\n",
    "}"
   ]
  },
  {
   "cell_type": "code",
   "execution_count": null,
   "metadata": {},
   "outputs": [],
   "source": []
  }
 ],
 "metadata": {
  "kernelspec": {
   "display_name": "Kotlin",
   "language": "kotlin",
   "name": "kotlin"
  },
  "language_info": {
   "codemirror_mode": "text/x-kotlin",
   "file_extension": ".kt",
   "mimetype": "text/x-kotlin",
   "name": "kotlin",
   "nbconvert_exporter": "",
   "pygments_lexer": "kotlin",
   "version": "1.8.20-Beta"
  }
 },
 "nbformat": 4,
 "nbformat_minor": 4
}
