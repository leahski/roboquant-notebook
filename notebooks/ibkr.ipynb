{
 "cells": [
  {
   "cell_type": "markdown",
   "metadata": {
    "pycharm": {
     "name": "#%% md\n"
    }
   },
   "source": [
    "# Introduction\n",
    "This notebook demonstrates the integration of _roboquant_ with Interactive Brokers (IBKR). \n",
    "\n",
    "> Disclaimer: roboquant is not affiliated with Interactive Brokers Group, Inc.’s.\n",
    "\n",
    "\n",
    "There are currently 3 types of integration available:\n",
    "\n",
    "1. Use historic data from IBKR (for back testing) \n",
    "2. Use live data from IBKR (for forward testing) \n",
    "2. Use the IBKR trading functionality (WIP) for paper trading and live trading\n",
    "\n",
    "<div class=\"alert alert-block alert-warning\">\n",
    "Make sure you always select paper trading account in your IB Gateway or Trader Workstation, since roboquant is still very much beta. If you didn't yet setup a paper trading account, click this <a href=\"https://ibkr.info/node/663\">article</a>  for some more info\n",
    "</div>\n",
    "\n",
    "\n",
    "# Extra installation steps\n",
    "The setup and integration with IBKR is a more complicated than with other brokers. The two extra steps that are required:\n",
    "\n",
    "1.You cannot connect directly to an IBKR server. You will always need to run either ```IB Gateway``` or ```Trader Workstation```, and roboquant will connect to that instance. ```IB Gateway``` is the better option of the two, since it provides nice insights into the called API's and is less heavy weight. If you don't have it yet installed, you can download IB Gateway from [here](https://www.interactivebrokers.co.uk/en/index.php?f=16454)\n",
    "\n",
    "> Because you need a running IB Gateway that is accessible, you won't be able to successfully run this notebook on public infrastructure like MyBinder.org.\n",
    "\n",
    "2. The TWS-API client cannot be packaged together with _roboquant_ due to license constraints. So you'll have to download this file yourself, and then make it available to roboquant by uploading it to the notebooks directory.  \n",
    "\n",
    "    - Download the [TWS API client](https://interactivebrokers.github.io/downloads/twsapi_macunix.976.01.zip) from the IBKR website.\n",
    "    - Unzip the downloaded file and locate the file called ```TwsApi.jar```. This jar can be found at following path ```IBJts/source/JavaClient/TwsApi.jar``` inside the extracted folder.\n",
    "    - Upload this single jar file to the notebook directory.\n",
    "\n",
    "\n",
    "After that, you can run the next cell and if no errors show up you are good to go."
   ]
  },
  {
   "cell_type": "code",
   "execution_count": 1,
   "metadata": {
    "pycharm": {
     "name": "#%%\n"
    }
   },
   "outputs": [
    {
     "data": {
      "text/html": [
       "            <div id=\"kotlin_out_0\"/>\n",
       "            <script type=\"text/javascript\">\n",
       "                            if(!window.kotlinQueues) {\n",
       "                window.kotlinQueues = {};\n",
       "            }\n",
       "            if(!window.kotlinQueues[\"echarts\"]) {\n",
       "                var resQueue = [];\n",
       "                window.kotlinQueues[\"echarts\"] = resQueue;\n",
       "                window[\"call_echarts\"] = function(f) {\n",
       "                    resQueue.push(f);\n",
       "                }\n",
       "            }\n",
       "            (function (){\n",
       "                var modifiers = [(function(script) {\n",
       "    script.src = \"https://cdn.jsdelivr.net/gh/neurallayer/roboquant@1.1.0/roboquant-jupyter/src/main/resources/js/echarts.min.js\"\n",
       "    script.type = \"text/javascript\";\n",
       "})];\n",
       "                var e = document.getElementById(\"kotlin_out_0\");\n",
       "                modifiers.forEach(function (gen) {\n",
       "                    var script = document.createElement(\"script\");\n",
       "                    gen(script)\n",
       "                    script.addEventListener(\"load\", function() {\n",
       "                        window[\"call_echarts\"] = function(f) {f();};\n",
       "                        window.kotlinQueues[\"echarts\"].forEach(function(f) {f();});\n",
       "                        window.kotlinQueues[\"echarts\"] = [];\n",
       "                    }, false);\n",
       "                    script.addEventListener(\"error\", function() {\n",
       "                        window[\"call_echarts\"] = function(f) {};\n",
       "                        window.kotlinQueues[\"echarts\"] = [];\n",
       "                        var div = document.createElement(\"div\");\n",
       "                        div.style.color = 'darkred';\n",
       "                        div.textContent = 'Error loading resource echarts';\n",
       "                        document.getElementById(\"kotlin_out_0\").appendChild(div);\n",
       "                    }, false);\n",
       "                    \n",
       "                    e.appendChild(script);\n",
       "                });\n",
       "            })();\n",
       "            </script>"
      ]
     },
     "metadata": {},
     "output_type": "display_data"
    },
    {
     "data": {
      "text/html": [
       "<img src=\"https://roboquant.org/img/avatar.png\" alt=\"roboquant logo\" align=\"left\" style=\"margin-right: 20px; max-height:160px;\"/>\n",
       "<span>\n",
       "    <b style=\"color: rgb(50,150,200);font-size: 150%;\"> roboquant </b> 1.2.0-SNAPSHOT<br>\n",
       "    <b> build:</b> 2023-03-14T09:49:32Z<br>\n",
       "    <b> home:</b> /Users/peter/.roboquant<br>\n",
       "    <b> os:</b> Mac OS X 13.2.1<br>\n",
       "    <b> jvm:</b> OpenJDK 64-Bit Server VM 19.0.2<br>\n",
       "    <b> memory:</b> 4096 MB<br>\n",
       "    <b> cpu cores:</b> 8<br>\n",
       "</span>"
      ]
     },
     "execution_count": 1,
     "metadata": {},
     "output_type": "execute_result"
    }
   ],
   "source": [
    "@file:DependsOn(\"TwsApi.jar\")\n",
    "@file:DependsOn(\"org.roboquant:roboquant-ibkr:1.2.0-SNAPSHOT\")\n",
    "%use @http://roboquant.org/roboquant.json(1.2.0-SNAPSHOT)\n",
    "\n",
    "import org.roboquant.ibkr.*\n",
    "Welcome()"
   ]
  },
  {
   "cell_type": "markdown",
   "metadata": {
    "pycharm": {
     "name": "#%% md\n"
    },
    "tags": []
   },
   "source": [
    "# Back Testing\n",
    "\n",
    "The first part shows how to retrieve historic prices from IBKR and run a back test. Because IBKR offers data for many different assets in different markets, you need to specify what specific assets you are interested in. A simple symbol name won't be sufficient. For stock type of assets, at least supply the Symbol, Currency and possible the Exchange.\n",
    "\n",
    "\n",
    "> Typically a paid subscription is required to receive market data from IBKR. Also IBKR has strict limitations on how often you can make an API call. So if you require high frequency market data for running your strategy, IBKR market data subscriptions might not be the best fit."
   ]
  },
  {
   "cell_type": "code",
   "execution_count": 2,
   "metadata": {
    "pycharm": {
     "name": "#%%\n"
    }
   },
   "outputs": [],
   "source": [
    "// Uncomment an asset that you have a market data subscription for\n",
    "val symbols = listOf(\"TSLA\", \"MSFT\", \"GOOGL\", \"JPM\")\n",
    "val assets = symbols.map { Asset(it) }.toTypedArray()"
   ]
  },
  {
   "cell_type": "code",
   "execution_count": 3,
   "metadata": {},
   "outputs": [],
   "source": [
    "val symbols = listOf(\"ABN\", \"ASML\", \"KPN\")\n",
    "val assets = symbols.map { Asset(it, AssetType.STOCK, \"EUR\", \"AEB\") }.toTypedArray()"
   ]
  },
  {
   "cell_type": "code",
   "execution_count": 4,
   "metadata": {
    "pycharm": {
     "name": "#%%\n"
    }
   },
   "outputs": [
    {
     "data": {
      "text/html": [
       "           <details class=\"jp-RenderedText\" data-mime-type=\"application/vnd.jupyter.stderr\">\n",
       "                <summary>com/ib/client/DefaultEWrapper</summary>\n",
       "                <pre style=\"background: transparent;\">java.lang.NoClassDefFoundError: com/ib/client/DefaultEWrapper\n",
       "\tat java.base/java.lang.ClassLoader.defineClass1(Native Method)\n",
       "\tat java.base/java.lang.ClassLoader.defineClass(ClassLoader.java:1013)\n",
       "\tat java.base/java.security.SecureClassLoader.defineClass(SecureClassLoader.java:150)\n",
       "\tat java.base/java.net.URLClassLoader.defineClass(URLClassLoader.java:524)\n",
       "\tat java.base/java.net.URLClassLoader$1.run(URLClassLoader.java:427)\n",
       "\tat java.base/java.net.URLClassLoader$1.run(URLClassLoader.java:421)\n",
       "\tat java.base/java.security.AccessController.doPrivileged(AccessController.java:712)\n",
       "\tat java.base/java.net.URLClassLoader.findClass(URLClassLoader.java:420)\n",
       "\tat java.base/java.lang.ClassLoader.loadClass(ClassLoader.java:588)\n",
       "\tat java.base/java.lang.ClassLoader.loadClass(ClassLoader.java:521)\n",
       "\tat java.base/java.lang.ClassLoader.defineClass1(Native Method)\n",
       "\tat java.base/java.lang.ClassLoader.defineClass(ClassLoader.java:1013)\n",
       "\tat java.base/java.security.SecureClassLoader.defineClass(SecureClassLoader.java:150)\n",
       "\tat java.base/java.net.URLClassLoader.defineClass(URLClassLoader.java:524)\n",
       "\tat java.base/java.net.URLClassLoader$1.run(URLClassLoader.java:427)\n",
       "\tat java.base/java.net.URLClassLoader$1.run(URLClassLoader.java:421)\n",
       "\tat java.base/java.security.AccessController.doPrivileged(AccessController.java:712)\n",
       "\tat java.base/java.net.URLClassLoader.findClass(URLClassLoader.java:420)\n",
       "\tat java.base/java.lang.ClassLoader.loadClass(ClassLoader.java:588)\n",
       "\tat java.base/java.lang.ClassLoader.loadClass(ClassLoader.java:521)\n",
       "\tat org.roboquant.ibkr.IBKRHistoricFeed.&#60;init&#62;(IBKRHistoricFeed.kt:56)\n",
       "\tat org.roboquant.ibkr.IBKRHistoricFeed.&#60;init&#62;(IBKRHistoricFeed.kt:44)\n",
       "\tat Line_5_jupyter.&#60;init&#62;(Line_5.jupyter.kts:1)\n",
       "\tat java.base/jdk.internal.reflect.DirectConstructorHandleAccessor.newInstance(DirectConstructorHandleAccessor.java:67)\n",
       "\tat java.base/java.lang.reflect.Constructor.newInstanceWithCaller(Constructor.java:500)\n",
       "\tat java.base/java.lang.reflect.Constructor.newInstance(Constructor.java:484)\n",
       "\tat kotlin.script.experimental.jvm.BasicJvmScriptEvaluator.evalWithConfigAndOtherScriptsResults(BasicJvmScriptEvaluator.kt:105)\n",
       "\tat kotlin.script.experimental.jvm.BasicJvmScriptEvaluator.invoke$suspendImpl(BasicJvmScriptEvaluator.kt:47)\n",
       "\tat kotlin.script.experimental.jvm.BasicJvmScriptEvaluator.invoke(BasicJvmScriptEvaluator.kt)\n",
       "\tat kotlin.script.experimental.jvm.BasicJvmReplEvaluator.eval(BasicJvmReplEvaluator.kt:49)\n",
       "\tat org.jetbrains.kotlinx.jupyter.repl.impl.InternalEvaluatorImpl$eval$resultWithDiagnostics$1.invokeSuspend(InternalEvaluatorImpl.kt:103)\n",
       "\tat kotlin.coroutines.jvm.internal.BaseContinuationImpl.resumeWith(ContinuationImpl.kt:33)\n",
       "\tat kotlinx.coroutines.DispatchedTask.run(DispatchedTask.kt:106)\n",
       "\tat kotlinx.coroutines.EventLoopImplBase.processNextEvent(EventLoop.common.kt:284)\n",
       "\tat kotlinx.coroutines.BlockingCoroutine.joinBlocking(Builders.kt:85)\n",
       "\tat kotlinx.coroutines.BuildersKt__BuildersKt.runBlocking(Builders.kt:59)\n",
       "\tat kotlinx.coroutines.BuildersKt.runBlocking(Unknown Source)\n",
       "\tat kotlinx.coroutines.BuildersKt__BuildersKt.runBlocking$default(Builders.kt:38)\n",
       "\tat kotlinx.coroutines.BuildersKt.runBlocking$default(Unknown Source)\n",
       "\tat org.jetbrains.kotlinx.jupyter.repl.impl.InternalEvaluatorImpl.eval(InternalEvaluatorImpl.kt:103)\n",
       "\tat org.jetbrains.kotlinx.jupyter.repl.impl.CellExecutorImpl$execute$1$result$1.invoke(CellExecutorImpl.kt:75)\n",
       "\tat org.jetbrains.kotlinx.jupyter.repl.impl.CellExecutorImpl$execute$1$result$1.invoke(CellExecutorImpl.kt:73)\n",
       "\tat org.jetbrains.kotlinx.jupyter.ReplForJupyterImpl.withHost(repl.kt:660)\n",
       "\tat org.jetbrains.kotlinx.jupyter.repl.impl.CellExecutorImpl.execute(CellExecutorImpl.kt:73)\n",
       "\tat org.jetbrains.kotlinx.jupyter.repl.CellExecutor$DefaultImpls.execute$default(CellExecutor.kt:15)\n",
       "\tat org.jetbrains.kotlinx.jupyter.ReplForJupyterImpl$evalEx$1.invoke(repl.kt:466)\n",
       "\tat org.jetbrains.kotlinx.jupyter.ReplForJupyterImpl$evalEx$1.invoke(repl.kt:455)\n",
       "\tat org.jetbrains.kotlinx.jupyter.ReplForJupyterImpl.withEvalContext(repl.kt:419)\n",
       "\tat org.jetbrains.kotlinx.jupyter.ReplForJupyterImpl.evalEx(repl.kt:455)\n",
       "\tat org.jetbrains.kotlinx.jupyter.messaging.ProtocolKt$shellMessagesHandler$2$res$1.invoke(protocol.kt:312)\n",
       "\tat org.jetbrains.kotlinx.jupyter.messaging.ProtocolKt$shellMessagesHandler$2$res$1.invoke(protocol.kt:311)\n",
       "\tat org.jetbrains.kotlinx.jupyter.JupyterExecutorImpl$runExecution$execThread$1.invoke(execution.kt:33)\n",
       "\tat org.jetbrains.kotlinx.jupyter.JupyterExecutorImpl$runExecution$execThread$1.invoke(execution.kt:31)\n",
       "\tat kotlin.concurrent.ThreadsKt$thread$thread$1.run(Thread.kt:30)\n",
       "Caused by: java.lang.ClassNotFoundException: com.ib.client.DefaultEWrapper\n",
       "\tat java.base/java.net.URLClassLoader.findClass(URLClassLoader.java:445)\n",
       "\tat java.base/java.lang.ClassLoader.loadClass(ClassLoader.java:588)\n",
       "\tat java.base/java.lang.ClassLoader.loadClass(ClassLoader.java:521)\n",
       "\t... 54 more\n",
       "</pre>         \n",
       "           </details>      "
      ]
     },
     "execution_count": 4,
     "metadata": {},
     "output_type": "execute_result"
    }
   ],
   "source": [
    "val feed = IBKRHistoricFeed()\n",
    "feed.retrieve(*assets)\n",
    "feed.waitTillRetrieved()\n",
    "feed.assets"
   ]
  },
  {
   "cell_type": "code",
   "execution_count": null,
   "metadata": {
    "pycharm": {
     "name": "#%%\n"
    }
   },
   "outputs": [],
   "source": [
    "PriceBarChart(feed, feed.assets.first())"
   ]
  },
  {
   "cell_type": "code",
   "execution_count": null,
   "metadata": {
    "pycharm": {
     "name": "#%%\n"
    }
   },
   "outputs": [],
   "source": [
    "val strategy = EMAStrategy(3, 5)\n",
    "val roboquant =  Roboquant(strategy, AccountMetric())\n",
    "roboquant.run(feed)"
   ]
  },
  {
   "cell_type": "code",
   "execution_count": null,
   "metadata": {
    "pycharm": {
     "name": "#%%\n"
    }
   },
   "outputs": [],
   "source": [
    "val account = roboquant.broker.account\n",
    "account.summary()"
   ]
  },
  {
   "cell_type": "code",
   "execution_count": null,
   "metadata": {
    "pycharm": {
     "name": "#%%\n"
    }
   },
   "outputs": [],
   "source": [
    "val metricResults = roboquant.logger.getMetric(\"account.equity\")\n",
    "MetricChart(metricResults)"
   ]
  },
  {
   "cell_type": "code",
   "execution_count": null,
   "metadata": {
    "pycharm": {
     "name": "#%%\n"
    },
    "tags": []
   },
   "outputs": [],
   "source": [
    "PriceChart(feed, assets.first(), account.trades)"
   ]
  },
  {
   "cell_type": "markdown",
   "metadata": {
    "pycharm": {
     "name": "#%% md\n"
    }
   },
   "source": [
    "# Forward Testing\n",
    "Now we create an instance of the IBKRFeed and subscribe to the same asset. The setup is very much identical as back testing, the only difference is that now we use a live data feed instead of a historic data feed.\n",
    "Of course, outside trading hours there won't be price data and no signals or orders will be generated.  "
   ]
  },
  {
   "cell_type": "code",
   "execution_count": null,
   "metadata": {
    "pycharm": {
     "name": "#%%\n"
    },
    "tags": []
   },
   "outputs": [],
   "source": [
    "val feed = IBKRLiveFeed()\n",
    "feed.subscribe(*assets)"
   ]
  },
  {
   "cell_type": "code",
   "execution_count": null,
   "metadata": {
    "pycharm": {
     "name": "#%%\n"
    }
   },
   "outputs": [],
   "source": [
    "val strategy = EMAStrategy(3, 5)\n",
    "val roboquant =  Roboquant(strategy, AccountMetric())"
   ]
  },
  {
   "cell_type": "markdown",
   "metadata": {
    "pycharm": {
     "name": "#%% md\n"
    }
   },
   "source": [
    "We have all the components assembled that we need to start the test. All that remains, is to start the run and evaluate the strategy against the feed. \n",
    "We'll run it for 60 minutes, but you can change this. But remember the EMA Crossover is only going to evaluate after at least three observations.\n",
    "\n",
    "If the time that is displayed in the progress bar looks off by a few hours, please realize that roboquant uses a timezone independent representation for all internal time processing (same as UTC)."
   ]
  },
  {
   "cell_type": "code",
   "execution_count": null,
   "metadata": {
    "pycharm": {
     "name": "#%%\n"
    }
   },
   "outputs": [],
   "source": [
    "val timeframe = Timeframe.next(60.minutes)\n",
    "roboquant.run(feed, timeframe)\n",
    "feed.disconnect()"
   ]
  },
  {
   "cell_type": "markdown",
   "metadata": {
    "pycharm": {
     "name": "#%% md\n"
    }
   },
   "source": [
    "## Results\n",
    "The run has completed, lets see a few result. Of course if the run was outside trading hours without any price action, there will not be much to see."
   ]
  },
  {
   "cell_type": "code",
   "execution_count": null,
   "metadata": {
    "pycharm": {
     "name": "#%%\n"
    }
   },
   "outputs": [],
   "source": [
    "val account = roboquant.broker.account\n",
    "account.summary()"
   ]
  },
  {
   "cell_type": "code",
   "execution_count": null,
   "metadata": {
    "pycharm": {
     "name": "#%%\n"
    }
   },
   "outputs": [],
   "source": [
    "account.positions.summary()"
   ]
  },
  {
   "cell_type": "markdown",
   "metadata": {
    "pycharm": {
     "name": "#%% md\n"
    }
   },
   "source": [
    "## Charts\n",
    "Also lets plot two charts. See also the visualization notebook for examples of how to use charts to display results"
   ]
  },
  {
   "cell_type": "code",
   "execution_count": null,
   "metadata": {
    "pycharm": {
     "name": "#%%\n"
    }
   },
   "outputs": [],
   "source": [
    "val logger = roboquant.logger\n",
    "logger.metricNames.summary()"
   ]
  },
  {
   "cell_type": "code",
   "execution_count": null,
   "metadata": {
    "pycharm": {
     "name": "#%%\n"
    }
   },
   "outputs": [],
   "source": [
    "val accountValue = logger.getMetric(\"account.equity\")\n",
    "MetricChart(accountValue, useTime = false)"
   ]
  },
  {
   "cell_type": "code",
   "execution_count": null,
   "metadata": {
    "pycharm": {
     "name": "#%%\n"
    }
   },
   "outputs": [],
   "source": [
    "TradeChart(account.trades)"
   ]
  },
  {
   "cell_type": "markdown",
   "metadata": {
    "pycharm": {
     "name": "#%% md\n"
    }
   },
   "source": [
    "# Paper Trading\n",
    "And just as it was the case in the previous sections, most live feeds will only generate data during trading hours. So if you run these code cells outside trading hours, you won't see signals and orders being generated (depending of course on the used strategy).\n",
    "\n",
    "<div class=\"alert alert-block alert-warning\">\n",
    "The integration with the trading API is still very much work in progress, so only use this with a paper trading account and even then it can lead to unwanted updates to your paper trading account.\n",
    "</div>"
   ]
  },
  {
   "cell_type": "code",
   "execution_count": null,
   "metadata": {
    "pycharm": {
     "name": "#%%\n"
    }
   },
   "outputs": [],
   "source": [
    "val broker = IBKRBroker(enableOrders = true)\n",
    "Config.exchangeRates = FixedExchangeRates(Currency.USD, Currency.EUR to 1.10)\n",
    "Thread.sleep(5000)"
   ]
  },
  {
   "cell_type": "code",
   "execution_count": null,
   "metadata": {
    "pycharm": {
     "name": "#%%\n"
    }
   },
   "outputs": [],
   "source": [
    "val account = broker.account\n",
    "account.fullSummary()"
   ]
  },
  {
   "cell_type": "markdown",
   "metadata": {
    "pycharm": {
     "name": "#%% md\n"
    }
   },
   "source": [
    "## Place an order directly\n",
    "Besides using strategies and policies to generate orders, you can also call the `broker.place` method directly to place an order. Again, use this only with paper trading accounts. "
   ]
  },
  {
   "cell_type": "code",
   "execution_count": null,
   "metadata": {
    "pycharm": {
     "name": "#%%\n"
    }
   },
   "outputs": [],
   "source": [
    "val asset = account.assets.first()\n",
    "val order = MarketOrder(asset, 2.0)\n",
    "broker.place(listOf(order), Event.empty())\n",
    "\n",
    "// Should show up as an open order initially\n",
    "println(broker.account.fullSummary())\n",
    "\n",
    "\n",
    "// Now should show up as an extra closed order (if placed during trading hours)\n",
    "// Also you might hear TWS say \"Order Filled\"\n",
    "Thread.sleep(5000)\n",
    "val account = broker.account\n",
    "account.fullSummary()"
   ]
  },
  {
   "cell_type": "code",
   "execution_count": null,
   "metadata": {
    "pycharm": {
     "name": "#%%\n"
    }
   },
   "outputs": [],
   "source": [
    "broker.account.trades"
   ]
  },
  {
   "cell_type": "markdown",
   "metadata": {
    "pycharm": {
     "name": "#%% md\n"
    }
   },
   "source": [
    "The setup of the feed is exactly the same as before. There is no difference in the feed if you use it for forward testing with the builtin Simulated Broker or paper- and live-trading. Also, this time we'll run it for 60 minutes."
   ]
  },
  {
   "cell_type": "code",
   "execution_count": null,
   "metadata": {
    "pycharm": {
     "name": "#%%\n"
    }
   },
   "outputs": [],
   "source": [
    "val strategy = EMAStrategy(3, 5)\n",
    "val roboquant = Roboquant(strategy, AccountMetric(), broker = broker)\n",
    "\n",
    "val timeframe = Timeframe.next(60.minutes)\n",
    "roboquant.run(feed, timeframe)"
   ]
  },
  {
   "cell_type": "code",
   "execution_count": null,
   "metadata": {
    "pycharm": {
     "name": "#%%\n"
    }
   },
   "outputs": [],
   "source": [
    "broker.account.positions.summary()"
   ]
  },
  {
   "cell_type": "code",
   "execution_count": null,
   "metadata": {
    "pycharm": {
     "name": "#%%\n"
    }
   },
   "outputs": [],
   "source": [
    "feed.disconnect()"
   ]
  },
  {
   "cell_type": "code",
   "execution_count": null,
   "metadata": {
    "pycharm": {
     "name": "#%%\n"
    }
   },
   "outputs": [],
   "source": [
    "broker.disconnect()"
   ]
  },
  {
   "cell_type": "code",
   "execution_count": null,
   "metadata": {
    "pycharm": {
     "name": "#%%\n"
    }
   },
   "outputs": [],
   "source": []
  }
 ],
 "metadata": {
  "kernelspec": {
   "display_name": "Kotlin",
   "language": "kotlin",
   "name": "kotlin"
  },
  "language_info": {
   "codemirror_mode": "text/x-kotlin",
   "file_extension": ".kt",
   "mimetype": "text/x-kotlin",
   "name": "kotlin",
   "nbconvert_exporter": "",
   "pygments_lexer": "kotlin",
   "version": "1.8.20-Beta"
  }
 },
 "nbformat": 4,
 "nbformat_minor": 4
}
