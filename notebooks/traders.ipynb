{
 "cells": [
  {
   "cell_type": "markdown",
   "metadata": {},
   "source": [
    "# Traders\n",
    "This notebook shows how to create your own trader. There are two ways to do so:\n",
    "\n",
    "1. Extend the `FlexTarder`: this approach is mostly suitable if you just require some minor changes to the default behavior, like creating different order types.\n",
    "2. Implement the `Trader` from scratch: this approach provides full flexibility on what the policy should do."
   ]
  },
  {
   "cell_type": "code",
   "execution_count": null,
   "metadata": {
    "ExecuteTime": {
     "end_time": "2025-05-06T10:03:01.992627Z",
     "start_time": "2025-05-06T10:03:01.408991Z"
    }
   },
   "outputs": [],
   "source": [
    "%use roboquant(3.0.0-SNAPSHOT)\n",
    "Welcome()"
   ]
  },
  {
   "cell_type": "markdown",
   "metadata": {},
   "source": [
    "# Implementing the `Trader` interface\n",
    "\n",
    "The following cell shows a very minimalistic implementation of a Trader in which BUY ratings are generating buy market orders and SELL ratings are generating sell market orders if there is an open position.\n",
    "\n",
    "NOTE: In general it is important that a Trader is very robust, especially if you intent to use it also for live trading. It means that all kind of corner cases need to be catered for. A simple implementation as the one below isn't sufficient. Have a look at the `FlexTrader` in the roboquant GitHub repo to see a more complete implementation."
   ]
  },
  {
   "cell_type": "code",
   "execution_count": null,
   "metadata": {
    "ExecuteTime": {
     "end_time": "2025-05-06T10:03:02.308932Z",
     "start_time": "2025-05-06T10:03:02.001229Z"
    }
   },
   "outputs": [],
   "source": [
    "class MyTrader : Trader {\n",
    "\n",
    "    // This is the only method that is required to implement and transforms incoming signals into orders\n",
    "    override public fun createOrders(signals: List<Signal>, account: Account, event: Event): List<Order> {\n",
    "\n",
    "        val orders = mutableListOf<Order>()\n",
    "        \n",
    "        for (signal in signals) {\n",
    "            val asset = signal.asset\n",
    "            val price = event.getPrice(asset, \"CLOSE\") ?: continue\n",
    "            val positionSize = account.positionSize(asset)\n",
    "\n",
    "            if (signal.rating > 0)\n",
    "                orders.add(Order(asset, Size(10), price))\n",
    "            else if (signal.rating < 0 && positionSize > 0)\n",
    "                orders.add(Order(asset, -positionSize, price))\n",
    "        }\n",
    "        \n",
    "        return orders\n",
    "    }\n",
    "    \n",
    "}"
   ]
  },
  {
   "cell_type": "code",
   "execution_count": null,
   "metadata": {
    "ExecuteTime": {
     "end_time": "2025-05-06T10:03:02.859053Z",
     "start_time": "2025-05-06T10:03:02.331046Z"
    }
   },
   "outputs": [],
   "source": [
    "val feed = AvroFeed.sp25()\n",
    "val strategy = EMACrossover()\n",
    "val trader = MyTrader()\n",
    "run(feed, strategy, trader=trader)"
   ]
  },
  {
   "cell_type": "code",
   "execution_count": null,
   "metadata": {
    "ExecuteTime": {
     "end_time": "2025-05-06T10:03:02.865571Z",
     "start_time": "2025-05-06T10:03:02.863590Z"
    }
   },
   "outputs": [],
   "source": []
  },
  {
   "cell_type": "code",
   "execution_count": null,
   "metadata": {
    "ExecuteTime": {
     "end_time": "2025-05-06T10:03:02.891701Z",
     "start_time": "2025-05-06T10:03:02.889939Z"
    }
   },
   "outputs": [],
   "source": []
  }
 ],
 "metadata": {
  "kernelspec": {
   "display_name": "Kotlin",
   "language": "kotlin",
   "name": "kotlin"
  },
  "language_info": {
   "codemirror_mode": "text/x-kotlin",
   "file_extension": ".kt",
   "mimetype": "text/x-kotlin",
   "name": "kotlin",
   "nbconvert_exporter": "",
   "pygments_lexer": "kotlin",
   "version": "1.9.0"
  }
 },
 "nbformat": 4,
 "nbformat_minor": 4
}
