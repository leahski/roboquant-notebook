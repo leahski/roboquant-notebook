{
 "cells": [
  {
   "cell_type": "markdown",
   "metadata": {},
   "source": [
    "# Traders\n",
    "This notebook shows how to create your own trader. There are two ways to do so:\n",
    "\n",
    "1. Extend the `FlexTarder`: this approach is mostly suitable if you just require some minor changes to the default behavior, like creating different order types.\n",
    "2. Implement the `Trader` from scratch: this approach provides full flexibility on what the policy should do."
   ]
  },
  {
   "metadata": {
    "ExecuteTime": {
     "end_time": "2025-05-06T10:03:01.992627Z",
     "start_time": "2025-05-06T10:03:01.408991Z"
    }
   },
   "cell_type": "code",
   "source": [
    "%use roboquant(3.0.0-SNAPSHOT)\n",
    "Welcome()"
   ],
   "outputs": [
    {
     "data": {
      "text/html": [
       "            <div id=\"kotlin_out_0\"></div>\n",
       "            <script type=\"text/javascript\">\n",
       "                            if(!window.kotlinQueues) {\n",
       "                window.kotlinQueues = {};\n",
       "            }\n",
       "            if(!window.kotlinQueues[\"echarts\"]) {\n",
       "                var resQueue = [];\n",
       "                window.kotlinQueues[\"echarts\"] = resQueue;\n",
       "                window[\"call_echarts\"] = function(f) {\n",
       "                    resQueue.push(f);\n",
       "                }\n",
       "            }\n",
       "            (function (){\n",
       "                var modifiers = [(function(script) {\n",
       "    script.src = \"https://cdn.jsdelivr.net/gh/neurallayer/roboquant-jupyter-js@fddcad9e93c1c15495c70f358f1ccbb595f0964f/echarts.min.js?version=fddcad9e93c1c15495c70f358f1ccbb595f0964f\"\n",
       "    script.type = \"text/javascript\";\n",
       "})];\n",
       "                var e = document.getElementById(\"kotlin_out_0\");\n",
       "                modifiers.forEach(function (gen) {\n",
       "                    var script = document.createElement(\"script\");\n",
       "                    gen(script)\n",
       "                    script.addEventListener(\"load\", function() {\n",
       "                        window[\"call_echarts\"] = function(f) {f();};\n",
       "                        window.kotlinQueues[\"echarts\"].forEach(function(f) {f();});\n",
       "                        window.kotlinQueues[\"echarts\"] = [];\n",
       "                    }, false);\n",
       "                    script.addEventListener(\"error\", function() {\n",
       "                        window[\"call_echarts\"] = function(f) {};\n",
       "                        window.kotlinQueues[\"echarts\"] = [];\n",
       "                        var div = document.createElement(\"div\");\n",
       "                        div.style.color = 'darkred';\n",
       "                        div.textContent = 'Error loading resource echarts';\n",
       "                        document.getElementById(\"kotlin_out_0\").appendChild(div);\n",
       "                    }, false);\n",
       "                    \n",
       "                    e.appendChild(script);\n",
       "                });\n",
       "            })();\n",
       "            </script>"
      ]
     },
     "metadata": {},
     "output_type": "display_data"
    },
    {
     "data": {
      "text/html": [
       "<img src=\"https://roboquant.org/img/avatar.png\" alt=\"roboquant logo\" align=\"left\" style=\"margin-right: 20px; max-height:160px;\"/>\n",
       "<span>\n",
       "    <b style=\"color: rgb(50,150,200);font-size: 150%;\"> roboquant </b> 3.0.0-SNAPSHOT<br>\n",
       "    <b> build:</b> 2025-05-06T09:22:02Z<br>\n",
       "    <b> home:</b> /Users/peter/.roboquant<br>\n",
       "    <b> os:</b> Mac OS X 15.4.1<br>\n",
       "    <b> jvm:</b> OpenJDK 64-Bit Server VM 17.0.15<br>\n",
       "    <b> memory:</b> 3256 MB<br>\n",
       "    <b> cpu cores:</b> 8<br>\n",
       "</span>"
      ]
     },
     "execution_count": 1,
     "metadata": {},
     "output_type": "execute_result"
    }
   ],
   "execution_count": 1
  },
  {
   "cell_type": "markdown",
   "metadata": {},
   "source": [
    "# Implementing the `Trader` interface\n",
    "\n",
    "The following cell shows a very minimalistic implementation of a Trader in which BUY ratings are generating buy market orders and SELL ratings are generating sell market orders if there is an open position.\n",
    "\n",
    "NOTE: In general it is important that a Trader is very robust, especially if you intent to use it also for live trading. It means that all kind of corner cases need to be catered for. A simple implementation as the one below isn't sufficient. Have a look at the `FlexTrader` in the roboquant GitHub repo to see a more complete implementation."
   ]
  },
  {
   "cell_type": "code",
   "metadata": {
    "ExecuteTime": {
     "end_time": "2025-05-06T10:03:02.308932Z",
     "start_time": "2025-05-06T10:03:02.001229Z"
    }
   },
   "source": [
    "class MyTrader : Trader {\n",
    "\n",
    "    // This is the only method that is required to implement and transforms incoming signals into orders\n",
    "    override public fun createOrders(signals: List<Signal>, account: Account, event: Event): List<Order> {\n",
    "\n",
    "        val orders = mutableListOf<Order>()\n",
    "        \n",
    "        for (signal in signals) {\n",
    "            val asset = signal.asset\n",
    "            val price = event.getPrice(asset, \"CLOSE\") ?: continue\n",
    "            val positionSize = account.positionSize(asset)\n",
    "\n",
    "            if (signal.rating > 0)\n",
    "                orders.add(Order(asset, Size(10), price))\n",
    "            else if (signal.rating < 0 && positionSize > 0)\n",
    "                orders.add(Order(asset, -positionSize, price))\n",
    "        }\n",
    "        \n",
    "        return orders\n",
    "    }\n",
    "    \n",
    "}"
   ],
   "outputs": [],
   "execution_count": 2
  },
  {
   "cell_type": "code",
   "metadata": {
    "ExecuteTime": {
     "end_time": "2025-05-06T10:03:02.859053Z",
     "start_time": "2025-05-06T10:03:02.331046Z"
    }
   },
   "source": [
    "val feed = AvroFeed.sp25()\n",
    "val strategy = EMACrossover()\n",
    "val trader = MyTrader()\n",
    "run(feed, strategy, trader=trader)"
   ],
   "outputs": [
    {
     "data": {
      "text/plain": [
       "last update  : 2024-12-31T21:00:00Z\n",
       "cash         : USD 984,792.67\n",
       "buying Power : USD 984,792.67\n",
       "equity       : USD 1,025,469.71\n",
       "positions    : 0@WMT, 20@NVDA, 0@JPM, 0@MA, 0@BRK.B, 0@META, 10@ABBV, 10@V, 0@CVX, 10@AVGO, 0@UNH, 0@GOOGL, 0@GOOG, 0@MSFT, 0@JNJ, 0@TSLA, 10@AMZN, 10@AAPL, 0@NFLX, 20@COST, 0@PG, 0@XOM, 10@LLY, 0@MRK, 0@HD\n",
       "open orders  : -10@AMZN, -20@NVDA"
      ]
     },
     "execution_count": 3,
     "metadata": {},
     "output_type": "execute_result"
    }
   ],
   "execution_count": 3
  },
  {
   "cell_type": "code",
   "metadata": {
    "ExecuteTime": {
     "end_time": "2025-05-06T10:03:02.865571Z",
     "start_time": "2025-05-06T10:03:02.863590Z"
    }
   },
   "source": [],
   "outputs": [],
   "execution_count": null
  },
  {
   "cell_type": "code",
   "metadata": {
    "ExecuteTime": {
     "end_time": "2025-05-06T10:03:02.891701Z",
     "start_time": "2025-05-06T10:03:02.889939Z"
    }
   },
   "source": [],
   "outputs": [],
   "execution_count": null
  }
 ],
 "metadata": {
  "kernelspec": {
   "display_name": "Kotlin",
   "language": "kotlin",
   "name": "kotlin"
  },
  "language_info": {
   "codemirror_mode": "text/x-kotlin",
   "file_extension": ".kt",
   "mimetype": "text/x-kotlin",
   "name": "kotlin",
   "nbconvert_exporter": "",
   "pygments_lexer": "kotlin",
   "version": "1.9.0"
  }
 },
 "nbformat": 4,
 "nbformat_minor": 4
}
