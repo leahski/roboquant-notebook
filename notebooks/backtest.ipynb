{
 "cells": [
  {
   "cell_type": "markdown",
   "metadata": {},
   "source": [
    "# Back Testing\n",
    "\n",
    "This notebook demonstrates several approaches to running back tests: \n",
    "\n",
    "* Single Run\n",
    "* Walk Forward \n",
    "* Monte Carlo Simulation"
   ]
  },
  {
   "cell_type": "code",
   "execution_count": null,
   "metadata": {},
   "outputs": [],
   "source": [
    "%use @http://roboquant.org/roboquant.json\n",
    "Welcome()"
   ]
  },
  {
   "cell_type": "markdown",
   "metadata": {},
   "source": [
    "# Setup\n",
    "We'll use a data feed, strategy and metric that come out of the box with _roboquant_. "
   ]
  },
  {
   "cell_type": "code",
   "execution_count": null,
   "metadata": {},
   "outputs": [],
   "source": [
    "// The data feed we'll be using \n",
    "val feed = AvroFeed.sp500()\n",
    "\n",
    "// Use the default included Exponential Moving Average Crossover strategy\n",
    "val strategy = EMAStrategy()\n",
    "\n",
    "// For this notebook we'll only monitor some key Account metrics\n",
    "val metric = AccountMetric()\n",
    "\n",
    "// Create an instance of Roboquant \n",
    "val roboquant =  Roboquant(strategy, metric)"
   ]
  },
  {
   "cell_type": "markdown",
   "metadata": {},
   "source": [
    "# Single Run\n",
    "The most simple back test approach is to run a single back test over all the data available in the feed."
   ]
  },
  {
   "cell_type": "code",
   "execution_count": null,
   "metadata": {},
   "outputs": [],
   "source": [
    "roboquant.run(feed)"
   ]
  },
  {
   "cell_type": "markdown",
   "metadata": {},
   "source": [
    "## Inspect the account\n",
    "\n",
    "Likely the first thing you want to know after the run has finished is: how does the account look like at the end of the run? \n",
    "\n",
    "An account in roboquant is owned by the broker and contains the following 4 types of data: \n",
    "\n",
    "1. the cash balances\n",
    "2. the open positions\n",
    "3. the orders, both open and closed orders\n",
    "4. any trades made\n",
    "\n",
    "> Please note the use of the **summary()** method in the next notebook cells. Many classes in roboquant implement this method and it provides a nice summary of the state on an object, like in this case the account, positions and orders.\n"
   ]
  },
  {
   "cell_type": "code",
   "execution_count": null,
   "metadata": {},
   "outputs": [],
   "source": [
    "// get a snapshot of the current state of the account\n",
    "val account = roboquant.broker.account\n",
    "account.summary()"
   ]
  },
  {
   "cell_type": "code",
   "execution_count": null,
   "metadata": {},
   "outputs": [],
   "source": [
    "// You can also get more details, for example about the assets in the portfolio\n",
    "account.positions.summary()"
   ]
  },
  {
   "cell_type": "code",
   "execution_count": null,
   "metadata": {},
   "outputs": [],
   "source": [
    "val trades = account.trades\n",
    "trades[0..10].summary()"
   ]
  },
  {
   "cell_type": "code",
   "execution_count": null,
   "metadata": {},
   "outputs": [],
   "source": [
    "account.closedOrders.takeLast(20).summary()"
   ]
  },
  {
   "cell_type": "markdown",
   "metadata": {},
   "source": [
    "## Inspect metrics\n",
    "The account contains the state at the end of the run. But metrics are more powerful in that they capture state during each step of the run. So they give an overview how a metric evolves over time during the run. It is the logger who is responsible for storing or logging the metric results.  "
   ]
  },
  {
   "cell_type": "code",
   "execution_count": null,
   "metadata": {},
   "outputs": [],
   "source": [
    "var logger = roboquant.logger\n",
    "logger.metricNames"
   ]
  },
  {
   "cell_type": "code",
   "execution_count": null,
   "metadata": {},
   "outputs": [],
   "source": [
    "logger.getMetric(\"account.equity\").summary()"
   ]
  },
  {
   "cell_type": "markdown",
   "metadata": {},
   "source": [
    "## More detailed inspections\n",
    "\n",
    "After a quick scan of the results, you might want to dive into some more details. For example how much profit or loss did the strategy make for a single asset, like in this the first asset that was traded?"
   ]
  },
  {
   "cell_type": "code",
   "execution_count": null,
   "metadata": {},
   "outputs": [],
   "source": [
    "val apple = feed.assets.getBySymbol(\"AAPL\")\n",
    "val appleTrades = trades.filter { it.asset == apple }\n",
    "val pnl = appleTrades.realizedPNL\n",
    "println(\"symbol=${apple.symbol} pnl=$pnl\")"
   ]
  },
  {
   "cell_type": "markdown",
   "metadata": {},
   "source": [
    "Or how much profit did we make each year?"
   ]
  },
  {
   "cell_type": "code",
   "execution_count": null,
   "metadata": {},
   "outputs": [],
   "source": [
    "for (timeframe in Timeframe.fromYears(2020, 2023).split(1.years)) { \n",
    "    val pnl = trades.filter { it.time in timeframe }.realizedPNL\n",
    "    println(\"$timeframe => profit is $pnl\")\n",
    "}"
   ]
  },
  {
   "cell_type": "markdown",
   "metadata": {},
   "source": [
    "# Walk Forward\n",
    "\n",
    "To move from a single run to a walk forward back test is simple and requires only a few lines of extra code. We run the back test multiple times with each iteration limited to a certain timeframe. "
   ]
  },
  {
   "cell_type": "code",
   "execution_count": null,
   "metadata": {},
   "outputs": [],
   "source": [
    "// This reset will clear any state the logger has\n",
    "roboquant.reset()\n",
    "\n",
    "feed.split(1.years).forEach { \n",
    "    roboquant.run(feed, it)   \n",
    "}"
   ]
  },
  {
   "cell_type": "code",
   "execution_count": null,
   "metadata": {},
   "outputs": [],
   "source": [
    "val logger = roboquant.logger\n",
    "\n",
    "// print the max equity per run\n",
    "for ((key, value) in logger.getMetric(\"account.equity\").groupBy { it.info.run }) {\n",
    "        val max = value.max().value\n",
    "        println(\"run = $key  max-equity = $max\")\n",
    "}"
   ]
  },
  {
   "cell_type": "markdown",
   "metadata": {},
   "source": [
    "# Monte Carlo Simulation\n",
    "\n",
    "The problem with back testing is that we don't for sure which historic period is most representative for the present. So instead of selecting a set of predefined periods, we'll draw random periods (uniform distributed) from our feed. "
   ]
  },
  {
   "cell_type": "code",
   "execution_count": null,
   "metadata": {},
   "outputs": [],
   "source": [
    "roboquant.reset()\n",
    "\n",
    "// Get 50 samples, each of 250 trading days\n",
    "feed.sample(250, 50).forEach {\n",
    "     roboquant.run(feed, it)\n",
    "}"
   ]
  },
  {
   "cell_type": "code",
   "execution_count": null,
   "metadata": {},
   "outputs": [],
   "source": [
    "// See how our account equity did over all the runs\n",
    "val equity = logger.getMetric(\"account.equity\")\n",
    "equity.summary()"
   ]
  },
  {
   "cell_type": "markdown",
   "metadata": {},
   "source": [
    "# Next Steps\n",
    "A great way to get insights into the performance of your strategies is by using one of the many included charts. If you want to find out more about that, check out the **charts notebook** next. To give an example how a chart can help to visualize the possible outcomes of our Monte Carlo simulation."
   ]
  },
  {
   "cell_type": "code",
   "execution_count": null,
   "metadata": {},
   "outputs": [],
   "source": [
    "MetricChart(equity, useTime = false)"
   ]
  },
  {
   "cell_type": "code",
   "execution_count": null,
   "metadata": {},
   "outputs": [],
   "source": []
  }
 ],
 "metadata": {
  "kernelspec": {
   "display_name": "Kotlin",
   "language": "kotlin",
   "name": "kotlin"
  },
  "language_info": {
   "codemirror_mode": "text/x-kotlin",
   "file_extension": ".kt",
   "mimetype": "text/x-kotlin",
   "name": "kotlin",
   "nbconvert_exporter": "",
   "pygments_lexer": "kotlin",
   "version": "1.8.0-dev-3517"
  }
 },
 "nbformat": 4,
 "nbformat_minor": 4
}
