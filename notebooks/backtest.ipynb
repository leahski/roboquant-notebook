{
 "cells": [
  {
   "cell_type": "markdown",
   "metadata": {},
   "source": [
    "# Introduction\n",
    "\n",
    "This notebook demonstrates a few ways to run backtests. \n",
    "\n",
    "We start with the cell magic **%use** to load the required packages. The **Welcome()** statement is optional, but gives usefull information on the environment the notebook is running in."
   ]
  },
  {
   "cell_type": "code",
   "execution_count": null,
   "metadata": {},
   "outputs": [],
   "source": [
    "%use @http://roboquant.org/roboquant.json\n",
    "Welcome()"
   ]
  },
  {
   "cell_type": "markdown",
   "metadata": {},
   "source": [
    "# Create a Roboquant instance\n",
    "Besides the name of the platform, the `Roboquant` class is also the engine of the framework. It ties all the components together that make-up a back-test. It also runs the actual tests and live trading.\n",
    "\n",
    "There many default values for the constructor of `Roboquant`, so the only two main parameters that need to be passed to get started are:\n",
    "\n",
    "1. The strategy we want to test. For this example we use a Exponential Moving Average Crossover with its default settings. This comes out-of-the-box with roboquant.\n",
    "2. Any metrics we want to captured during the run to see how our run is performing. In this case we use the AccountSummary metric.\n",
    "\n",
    "roboquant allows for much more customization, but for this introduction notebook we'll keep it simple.  "
   ]
  },
  {
   "cell_type": "code",
   "execution_count": null,
   "metadata": {},
   "outputs": [],
   "source": [
    "// The data feed we'll be using \n",
    "val feed = AvroFeed.sp500()\n",
    "\n",
    "// Use the default included Exponential Moving Average Crossover strategy\n",
    "val strategy = EMACrossover()\n",
    "\n",
    "// For this notebook we'll only monitor the AccountSummary metrics (and epecially the total equity) \n",
    "val roboquant =  Roboquant(strategy, AccountSummary())"
   ]
  },
  {
   "cell_type": "markdown",
   "metadata": {},
   "source": [
    "# Single Backtest\n",
    "The most simple backtest approach is to run the backtest over all the data available in the feed. So there is only a single run. "
   ]
  },
  {
   "cell_type": "code",
   "execution_count": null,
   "metadata": {},
   "outputs": [],
   "source": [
    "roboquant.run(feed)"
   ]
  },
  {
   "cell_type": "markdown",
   "metadata": {},
   "source": [
    "# Inspect Results\n",
    "\n",
    "Likely the first thing you want to know after the run has finished is: how does the account look like? \n",
    "\n",
    "An account in roboquant is owned by the boker and contains the following 4 types of data: \n",
    "\n",
    "1. the cash balances\n",
    "2. the portfolio with its positions\n",
    "3. the orders, both open and closed orders\n",
    "4. any trades made, so orders that have been (partially) filled\n",
    "\n",
    "\n",
    "> Please note the use of the **summary()** method in the next notebook cells. Many classes in roboquant implement this method and it provides a nice summary of the state on an object, like in this case the account and portfolio object.\n"
   ]
  },
  {
   "cell_type": "code",
   "execution_count": null,
   "metadata": {},
   "outputs": [],
   "source": [
    "// get a snapshot of the current state of the account\n",
    "val account = roboquant.broker.account\n",
    "account.summary()"
   ]
  },
  {
   "cell_type": "code",
   "execution_count": null,
   "metadata": {},
   "outputs": [],
   "source": [
    "// You can also get more details, for example about the assets in the portfolio\n",
    "account.portfolio.summary()"
   ]
  },
  {
   "cell_type": "code",
   "execution_count": null,
   "metadata": {},
   "outputs": [],
   "source": [
    "val trades = account.trades\n",
    "trades[0..10].summary()"
   ]
  },
  {
   "cell_type": "code",
   "execution_count": null,
   "metadata": {},
   "outputs": [],
   "source": [
    "account.closedOrders.takeLast(20).summary()"
   ]
  },
  {
   "cell_type": "markdown",
   "metadata": {},
   "source": [
    "# Metric Results\n",
    "The account contains the state at the end of the run. Metrics are more powerful in that they capture state during each step of the run. So they give an overview how a metric evolves over time during the run. It is the logger who is responsible for storing or logging the metric results.  "
   ]
  },
  {
   "cell_type": "code",
   "execution_count": null,
   "metadata": {},
   "outputs": [],
   "source": [
    "var logger = roboquant.logger\n",
    "logger.metricNames"
   ]
  },
  {
   "cell_type": "code",
   "execution_count": null,
   "metadata": {},
   "outputs": [],
   "source": [
    "logger.getMetric(\"account.equity\").summary()"
   ]
  },
  {
   "cell_type": "markdown",
   "metadata": {},
   "source": [
    "# More detailed inspections\n",
    "\n",
    "After a quick scan of the results, you might want to dive into some more details. For example how much profit or loss did the strategy make for a single asset, like in this example Apple?"
   ]
  },
  {
   "cell_type": "code",
   "execution_count": null,
   "metadata": {},
   "outputs": [],
   "source": [
    "val appleTrades = trades.filter { it.asset.symbol == \"AAPL\" }\n",
    "appleTrades.realizedPNL"
   ]
  },
  {
   "cell_type": "markdown",
   "metadata": {},
   "source": [
    "Or how much profit did we make each year?"
   ]
  },
  {
   "cell_type": "code",
   "execution_count": null,
   "metadata": {},
   "outputs": [],
   "source": [
    "for (timeframe in trades.timeframe.split(1.years)) { \n",
    "    val pnl = trades.filter { it.time in timeframe }.realizedPNL\n",
    "    println(\"$timeframe => profit is $pnl\")\n",
    "}"
   ]
  },
  {
   "cell_type": "markdown",
   "metadata": {},
   "source": [
    "# Walk forward\n",
    "\n",
    "To move from a single run to a walk forward back test is simple and requires hardly any extra code. We just run the back test multiple times with each iteration limited to a certain timeframe. "
   ]
  },
  {
   "cell_type": "code",
   "execution_count": null,
   "metadata": {},
   "outputs": [],
   "source": [
    "// This reset will clear any state the logger has\n",
    "roboquant.reset()\n",
    "\n",
    "feed.split(1.years).forEach { \n",
    "    roboquant.run(feed, it)   \n",
    "}"
   ]
  },
  {
   "cell_type": "code",
   "execution_count": null,
   "metadata": {},
   "outputs": [],
   "source": [
    "val logger = roboquant.logger\n",
    "\n",
    "// print the max equity per run\n",
    "for (entry in logger.getMetric(\"account.equity\").groupBy { it.info.run }.max()) {\n",
    "        println(\"${entry.key} = ${entry.value.value}\")\n",
    "}"
   ]
  },
  {
   "cell_type": "markdown",
   "metadata": {},
   "source": [
    "# Random Samples\n",
    "\n",
    "An even more thorough backtest strategy is to sample many random periods of the same length and see how they compare. It provides a good insights how returns are distributes and what best and worst possible outcomes are for the given period size."
   ]
  },
  {
   "cell_type": "code",
   "execution_count": null,
   "metadata": {},
   "outputs": [],
   "source": [
    "// This reset will clear any state the logger has\n",
    "roboquant.reset()\n",
    "\n",
    "repeat(25) {\n",
    "    // get a random sample with 250 trading days \n",
    "    val tf = feed.sample(250) \n",
    "    roboquant.run(feed, tf) \n",
    "}"
   ]
  },
  {
   "cell_type": "code",
   "execution_count": null,
   "metadata": {},
   "outputs": [],
   "source": [
    "val equity = logger.getMetric(\"account.equity\")\n",
    "\n",
    "val minEquity = equity.minByOrNull { it.value }\n",
    "val maxEquity = equity.maxByOrNull { it.value }\n",
    "\n",
    "println(minEquity) // worst case scenario\n",
    "println(maxEquity) // best case scenario"
   ]
  },
  {
   "cell_type": "markdown",
   "metadata": {},
   "source": [
    "# Next Steps\n",
    "A great way to get insights into the performance of your strategies is by using one of the many included charts. If you want to find out more about that, check out the **charts notebook** next. \n"
   ]
  },
  {
   "cell_type": "code",
   "execution_count": null,
   "metadata": {},
   "outputs": [],
   "source": []
  }
 ],
 "metadata": {
  "kernelspec": {
   "display_name": "Kotlin",
   "language": "kotlin",
   "name": "kotlin"
  },
  "language_info": {
   "codemirror_mode": "text/x-kotlin",
   "file_extension": ".kt",
   "mimetype": "text/x-kotlin",
   "name": "kotlin",
   "nbconvert_exporter": "",
   "pygments_lexer": "kotlin",
   "version": "1.7.20-dev-1299"
  }
 },
 "nbformat": 4,
 "nbformat_minor": 4
}
