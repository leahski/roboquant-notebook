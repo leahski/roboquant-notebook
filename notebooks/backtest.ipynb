{
 "cells": [
  {
   "cell_type": "markdown",
   "metadata": {},
   "source": [
    "# Back Testing\n",
    "\n",
    "This notebook demonstrates several approaches to running back tests: \n",
    "\n",
    "* Single Run\n",
    "* Walk Forward \n",
    "* Monte Carlo Simulation"
   ]
  },
  {
   "cell_type": "code",
   "execution_count": null,
   "metadata": {
    "ExecuteTime": {
     "end_time": "2025-04-19T07:11:10.106244Z",
     "start_time": "2025-04-19T07:11:06.436580Z"
    }
   },
   "outputs": [],
   "source": [
    "%use roboquant(3.0.0-SNAPSHOT)\n",
    "Welcome()"
   ]
  },
  {
   "cell_type": "markdown",
   "metadata": {},
   "source": [
    "# Single Run\n",
    "For the back testing examples in this notebook, we'll use a data feed, strategy and metric that come out of the box with _roboquant_.\n",
    "\n",
    "# Single Run\n",
    "The most simple back test approach is to run a single back test over all the data available in the feed.\n"
   ]
  },
  {
   "cell_type": "code",
   "execution_count": null,
   "metadata": {
    "ExecuteTime": {
     "end_time": "2025-04-19T07:17:06.208875Z",
     "start_time": "2025-04-19T07:17:06.052718Z"
    }
   },
   "outputs": [],
   "source": [
    "// The data feed we'll be using \n",
    "val feed = AvroFeed.sp25()\n",
    "\n",
    "// Use the default included Exponential Moving Average Crossover strategy\n",
    "val strategy = EMACrossover()\n",
    "\n",
    "// For this notebook we'll only monitor some key Account metrics\n",
    "val journal = MemoryJournal(AccountMetric())\n",
    "\n",
    "val account = run(feed, strategy, journal=journal)\n",
    "account"
   ]
  },
  {
   "cell_type": "markdown",
   "metadata": {},
   "source": [
    "## Inspect the account\n",
    "\n",
    "Likely the first thing you want to know after the run has finished is: how does the account look like at the end of the run? \n",
    "\n",
    "An account in roboquant is owned by the broker and contains the following 4 types of data: \n",
    "\n",
    "1. the cash balances\n",
    "2. the open positions\n",
    "3. the open orders\n"
   ]
  },
  {
   "cell_type": "code",
   "execution_count": null,
   "metadata": {
    "ExecuteTime": {
     "end_time": "2025-04-19T07:15:09.807396Z",
     "start_time": "2025-04-19T07:15:09.613083Z"
    }
   },
   "outputs": [],
   "source": [
    "// You can also get more details, for example about the assets in the portfolio\n",
    "for ((asset,position) in account.positions) {\n",
    "    println(\"${asset.symbol} => ${position.size}\")\n",
    "}"
   ]
  },
  {
   "cell_type": "markdown",
   "metadata": {},
   "source": [
    "## Inspect metrics\n",
    "The account contains the state at the end of the run. But metrics are more powerful in that they capture state during each step of the run. So they give an overview how a metric evolves over time during the run. It is the logger who is responsible for storing or logging the metric results.  "
   ]
  },
  {
   "cell_type": "code",
   "execution_count": null,
   "metadata": {
    "ExecuteTime": {
     "end_time": "2025-04-19T07:11:22.157968Z",
     "start_time": "2025-04-19T07:11:22.030968Z"
    }
   },
   "outputs": [],
   "source": [
    "journal.getMetricNames()"
   ]
  },
  {
   "cell_type": "code",
   "execution_count": null,
   "metadata": {
    "ExecuteTime": {
     "end_time": "2025-04-19T07:11:23.577085Z",
     "start_time": "2025-04-19T07:11:23.287548Z"
    }
   },
   "outputs": [],
   "source": [
    "val equity = journal.getMetric(\"account.equity\")\n",
    "TimeSeriesChart(equity)"
   ]
  },
  {
   "cell_type": "markdown",
   "metadata": {},
   "source": [
    "# Walk Forward\n",
    "\n",
    "To move from a single run to a walk forward back test is simple and requires only a few lines of extra code. We run the back test multiple times with each iteration limited to a certain timeframe. "
   ]
  },
  {
   "cell_type": "code",
   "execution_count": null,
   "metadata": {
    "ExecuteTime": {
     "end_time": "2025-04-19T07:11:29.429298Z",
     "start_time": "2025-04-19T07:11:29.040683Z"
    }
   },
   "outputs": [],
   "source": [
    "feed.timeframe.split(1.years).forEach { \n",
    "    val account = run(feed, EMACrossover(), timeframe = it)\n",
    "    println(\"timeframe=$it equity=${account.equity()}\")\n",
    "}"
   ]
  },
  {
   "cell_type": "markdown",
   "metadata": {},
   "source": [
    "# Monte Carlo Simulation\n",
    "\n",
    "The problem with back testing is that we don't for sure which historic period is most representative for the present. So instead of selecting a set of predefined periods, we'll draw random periods (uniform distributed) from our feed. "
   ]
  },
  {
   "cell_type": "code",
   "execution_count": null,
   "metadata": {
    "ExecuteTime": {
     "end_time": "2025-04-19T07:11:31.330663Z",
     "start_time": "2025-04-19T07:11:31.053176Z"
    }
   },
   "outputs": [],
   "source": [
    "// Run 25 back-tests each of 6 months\n",
    "feed.timeframe.sample(6.months, 25).forEach {\n",
    "    val account = run(feed, EMACrossover(), timeframe = it)\n",
    "    println(\"timeframe=$it equity=${account.equity()}\")\n",
    "}"
   ]
  },
  {
   "cell_type": "code",
   "execution_count": null,
   "metadata": {},
   "outputs": [],
   "source": []
  }
 ],
 "metadata": {
  "kernelspec": {
   "display_name": "Kotlin",
   "language": "kotlin",
   "name": "kotlin"
  },
  "language_info": {
   "codemirror_mode": "text/x-kotlin",
   "file_extension": ".kt",
   "mimetype": "text/x-kotlin",
   "name": "kotlin",
   "nbconvert_exporter": "",
   "pygments_lexer": "kotlin",
   "version": "1.9.0"
  }
 },
 "nbformat": 4,
 "nbformat_minor": 4
}
