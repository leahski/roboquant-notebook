{
 "cells": [
  {
   "cell_type": "markdown",
   "metadata": {},
   "source": [
    "# Technical Analysis using TaLib\n",
    "\n",
    "Roboquant comes out of box with support for technical analysis. It does this by having dedicate support for the popular technical analysis libraries TaLib. TaLib contains over 150 technical indicators. These are indicators ranging from RSI and Bollinger Bands to Candlestick pattern recognition. \n",
    "\n",
    "Using the TA-Lib library directly can be difficult due to its C++ inspired API. But roboquant makes it easy by providing a convenient wrapper."
   ]
  },
  {
   "cell_type": "code",
   "execution_count": null,
   "metadata": {
    "ExecuteTime": {
     "end_time": "2025-05-06T08:26:33.225592Z",
     "start_time": "2025-05-06T08:26:32.504372Z"
    }
   },
   "outputs": [],
   "source": [
    "%use roboquant(3.0.0-SNAPSHOT)\n",
    "Welcome()"
   ]
  },
  {
   "cell_type": "code",
   "execution_count": null,
   "metadata": {
    "ExecuteTime": {
     "end_time": "2025-05-06T08:26:33.321639Z",
     "start_time": "2025-05-06T08:26:33.234634Z"
    }
   },
   "outputs": [],
   "source": [
    "// We first setup the feed we'll use in all examples below\n",
    "val feed = AvroFeed.sp25()"
   ]
  },
  {
   "cell_type": "markdown",
   "metadata": {},
   "source": [
    "We start by defining the  strategy using TALib indicators we want to test in combination with the `TaLibStrategy` class. There are three steps:\n",
    "\n",
    "1) Create an instance of `TaLibStrategy`.\n",
    "2) Define what you logic to use for generating BUY signals. This can be a combination of indicators, and you can also include regular Kotlin code. The only restriction is that the last statement has to be a boolean; true if you want to BUY, false otherwise.\n",
    "3) Define what you logic to use for generating SELL signals. The same rules and conditions apply as for the BUY method.\n",
    "\n",
    "The indicators in the code below just serve as an example of how to use them. They don't make much sense as a trading strategy.\n",
    "\n",
    "Also note that although not common practice, the framework doesn't stop you from using bullish indicators to generate a SELL signal and bearish indicators to generate a BUY signal. "
   ]
  },
  {
   "cell_type": "code",
   "execution_count": null,
   "metadata": {
    "ExecuteTime": {
     "end_time": "2025-05-06T08:26:33.611711Z",
     "start_time": "2025-05-06T08:26:33.327960Z"
    }
   },
   "outputs": [],
   "source": [
    "val strategy = TaLibStrategy()\n",
    "\n",
    "// We want to generate a BUY signal if we detect either one of the following two candlestick pattern: Morningstar or Three WhiteSoldiers\n",
    "strategy.buy {\n",
    "    cdlMorningStar(it) || cdl3WhiteSoldiers(it)\n",
    "}\n",
    "\n",
    "// We want to generate a SELL signal if we detect the candlestick pattern Two Crows and also observe that the 5 day weighted average is below the 9 day weighted average \n",
    "strategy.sell {\n",
    "    cdl2Crows(it) && ema(it.close, 5) < ema(it.close, 9)\n",
    "}\n"
   ]
  },
  {
   "cell_type": "markdown",
   "metadata": {},
   "source": [
    "\n",
    "Besides strategies, we can also use TALib indicators as metrics that are captured during a run. \n",
    "\n",
    "The following code creates a custom metric that calculates the Money Flow Index (aka mfi), one of the many indicators that comes with TALib. \n",
    "\n",
    "This metric will be automatically applied to each asset when used in a run."
   ]
  },
  {
   "cell_type": "markdown",
   "metadata": {
    "collapsed": false
   },
   "source": [
    "Now we can use this strategy and metric just like any other strategy and metric. \n",
    "\n",
    "In this case, we run a back-test against the S&P500 feed. \n"
   ]
  },
  {
   "cell_type": "code",
   "execution_count": null,
   "metadata": {
    "ExecuteTime": {
     "end_time": "2025-05-06T08:27:34.478346Z",
     "start_time": "2025-05-06T08:27:34.030368Z"
    },
    "tags": []
   },
   "outputs": [],
   "source": [
    "run(feed, strategy)"
   ]
  },
  {
   "cell_type": "markdown",
   "metadata": {},
   "source": [
    "Now lets see what the outcome is. Spoiler alert, this strategy won't make you rich ;)"
   ]
  },
  {
   "cell_type": "markdown",
   "metadata": {},
   "source": [
    "Let find out which trade generated most profit (realized PnL) and plot mfi for that asset"
   ]
  },
  {
   "cell_type": "markdown",
   "metadata": {},
   "source": [
    "## Bollinger Bands\n",
    "This example is more realistic and shows how to implement a strategy based on Bollinger Bands. The underlying assumptions are:\n",
    "\n",
    "1. If the current price is higher than the upper bound, it will continue to go up.\n",
    "2. If the current price is lower than lower bound, it will continue to go down.\n",
    "\n",
    "Of course you can easily reverse this logic from trend following to mean reversion if you prefer and compare the outcomes."
   ]
  },
  {
   "cell_type": "code",
   "execution_count": null,
   "metadata": {
    "ExecuteTime": {
     "end_time": "2025-05-06T08:27:51.569552Z",
     "start_time": "2025-05-06T08:27:51.429581Z"
    }
   },
   "outputs": [],
   "source": [
    "// Define a strategy with maximum of bars of history. \n",
    "val barCount = 20\n",
    "val strategy = TaLibStrategy(barCount)\n",
    "\n",
    "// We want to BUY if current price is higher than the Bollinger Bands higher bound \n",
    "strategy.buy {\n",
    "    val (h, m, l) = bbands(it, barCount)\n",
    "    it.close.last() > h \n",
    "}\n",
    "\n",
    "// We want to SELL if current price is lower than the Bollinger Bands lower bound \n",
    "strategy.sell {\n",
    "    val (h, m, l) = bbands(it, barCount)\n",
    "    it.close.last() < l   \n",
    "}"
   ]
  },
  {
   "cell_type": "code",
   "execution_count": null,
   "metadata": {
    "ExecuteTime": {
     "end_time": "2025-05-06T08:30:34.755159Z",
     "start_time": "2025-05-06T08:30:34.619343Z"
    }
   },
   "outputs": [],
   "source": [
    "val journal = MemoryJournal(AccountMetric())\n",
    "run(feed, strategy, journal = journal)"
   ]
  },
  {
   "cell_type": "code",
   "execution_count": null,
   "metadata": {
    "ExecuteTime": {
     "end_time": "2025-05-06T08:30:35.603350Z",
     "start_time": "2025-05-06T08:30:35.547023Z"
    }
   },
   "outputs": [],
   "source": [
    "val equity = journal.getMetric(\"account.equity\")\n",
    "TimeSeriesChart(equity)"
   ]
  },
  {
   "cell_type": "markdown",
   "metadata": {},
   "source": [
    "# Indicators"
   ]
  },
  {
   "cell_type": "code",
   "execution_count": null,
   "metadata": {
    "ExecuteTime": {
     "end_time": "2025-05-06T08:31:29.605007Z",
     "start_time": "2025-05-06T08:31:29.490705Z"
    }
   },
   "outputs": [],
   "source": [
    "// Indicator that returns multiple values\n",
    "val asset = Stock(\"GOOG\")\n",
    "val data = feed.apply(TaLibIndicator.bbands(), asset)\n",
    "TimeSeriesChart(data)"
   ]
  },
  {
   "cell_type": "code",
   "execution_count": null,
   "metadata": {
    "ExecuteTime": {
     "end_time": "2025-05-06T08:31:49.740999Z",
     "start_time": "2025-05-06T08:31:49.595161Z"
    }
   },
   "outputs": [],
   "source": [
    "// Compare indicators across different assets\n",
    "val rsi = TaLibIndicator.rsi(20)\n",
    "val apple = Stock(\"AAPL\")\n",
    "val tesla = Stock(\"TSLA\")\n",
    "val data = feed.apply(rsi, apple, tesla)\n",
    "TimeSeriesChart(data)"
   ]
  },
  {
   "cell_type": "code",
   "execution_count": null,
   "metadata": {
    "ExecuteTime": {
     "end_time": "2025-05-06T08:31:57.322711Z",
     "start_time": "2025-05-06T08:31:57.199437Z"
    }
   },
   "outputs": [],
   "source": [
    "// see where sma crossovers appear\n",
    "val data1 = feed.apply(TaLibIndicator.sma(15), apple)\n",
    "val data2 = feed.apply(TaLibIndicator.sma(50), apple)\n",
    "TimeSeriesChart(data1 + data2)"
   ]
  },
  {
   "cell_type": "code",
   "execution_count": null,
   "metadata": {
    "ExecuteTime": {
     "end_time": "2025-05-06T08:32:11.166497Z",
     "start_time": "2025-05-06T08:32:11.044669Z"
    }
   },
   "outputs": [],
   "source": [
    "// Plot an indicator on a PriceBarChart\n",
    "val indicators = arrayOf(TaLibIndicator.bbands(20))\n",
    "PriceBarChart(feed, tesla, indicators = indicators)"
   ]
  },
  {
   "cell_type": "code",
   "execution_count": null,
   "metadata": {},
   "outputs": [],
   "source": []
  }
 ],
 "metadata": {
  "kernelspec": {
   "display_name": "Kotlin",
   "language": "kotlin",
   "name": "kotlin"
  },
  "language_info": {
   "codemirror_mode": "text/x-kotlin",
   "file_extension": ".kt",
   "mimetype": "text/x-kotlin",
   "name": "kotlin",
   "nbconvert_exporter": "",
   "pygments_lexer": "kotlin",
   "version": "1.8.20"
  }
 },
 "nbformat": 4,
 "nbformat_minor": 4
}
