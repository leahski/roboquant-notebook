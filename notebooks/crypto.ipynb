{
 "cells": [
  {
   "cell_type": "markdown",
   "metadata": {},
   "source": [
    "# Introduction\n",
    "This notebook shows how to connect to a crypto exchange and receive a trade feed from it. We then start the run using this trade feed.  Besides the support for Binance (see also the other notebook), roboquant includes support for most other crypto exchanges using the XChange library. This notebook demonstrates how to use that library.\n",
    "\n",
    "> XChange is a Java library providing a streamlined API for interacting with 60+ Bitcoin and Altcoin exchanges providing a consistent interface for trading and accessing market data. \n"
   ]
  },
  {
   "cell_type": "code",
   "execution_count": null,
   "metadata": {},
   "outputs": [],
   "source": [
    "%use roboquant(version=2.0.0-SNAPSHOT, modules=crypto)\n",
    "\n",
    "import org.roboquant.xchange.*\n",
    "Welcome()"
   ]
  },
  {
   "cell_type": "markdown",
   "metadata": {},
   "source": [
    "# Add exchange specific libraries\n",
    "When using the XChange integration, there are a few additional steps required to use a particular exchange:\n",
    "\n",
    "1. Load the exchange specific libraries, like bitstamp in this example. You can use the **@file:DependsOn** syntax for this. Make sure the version is the same as is included with roboquant.\n",
    "2. Import the packages for the exchange that you want to connect to.\n",
    "\n",
    "Check the [XChange](https://github.com/knowm/XChange) repository for more details on all the available exchanges. In this example we use Bitstamp"
   ]
  },
  {
   "cell_type": "code",
   "execution_count": null,
   "metadata": {},
   "outputs": [],
   "source": [
    "@file:DependsOn(\"org.knowm.xchange:xchange-bitstamp:5.1.0\")\n",
    "@file:DependsOn(\"org.knowm.xchange:xchange-stream-bitstamp:5.1.0\")\n",
    "\n",
    "import info.bitrich.xchangestream.bitstamp.v2.BitstampStreamingExchange\n",
    "import info.bitrich.xchangestream.core.StreamingExchangeFactory"
   ]
  },
  {
   "cell_type": "markdown",
   "metadata": {},
   "source": [
    "# Connect to the exchange\n",
    "Now we create an instance of the Bitstamp exchange and connect to it. You can find out more on teh XChange documentation pages."
   ]
  },
  {
   "cell_type": "code",
   "execution_count": null,
   "metadata": {},
   "outputs": [],
   "source": [
    "val exchange = StreamingExchangeFactory.INSTANCE.createExchange(BitstampStreamingExchange::class.java)\n",
    "exchange.connect().blockingAwait()"
   ]
  },
  {
   "cell_type": "markdown",
   "metadata": {},
   "source": [
    "Now we are ready to use it as a feed and subscribe to one or more currency pairs using the *subscribeTicker* method."
   ]
  },
  {
   "cell_type": "code",
   "execution_count": null,
   "metadata": {},
   "outputs": [],
   "source": [
    "val feed = XChangeLiveFeed(exchange)\n",
    "feed.subscribeTicker(\"BTC_USD\", \"ETH_USD\")\n",
    "feed.assets.summary()"
   ]
  },
  {
   "cell_type": "markdown",
   "metadata": {},
   "source": [
    "# Setup a Roboquant\n",
    "We now create, as usual, the strategy we want to test. "
   ]
  },
  {
   "cell_type": "code",
   "execution_count": null,
   "metadata": {},
   "outputs": [],
   "source": [
    "val strategy = EMAStrategy.PERIODS_5_15\n",
    "val roboquant =  Roboquant(strategy, AccountMetric())"
   ]
  },
  {
   "cell_type": "markdown",
   "metadata": {},
   "source": [
    "# Run Forward Test\n",
    "All that remains, is to start run to roboquant and evaluate the strategy against the feed. We'll run it for 10 minutes."
   ]
  },
  {
   "cell_type": "code",
   "execution_count": null,
   "metadata": {},
   "outputs": [],
   "source": [
    "val timeframe = Timeframe.next(10.minutes)\n",
    "roboquant.run(feed, timeframe)"
   ]
  },
  {
   "cell_type": "markdown",
   "metadata": {},
   "source": [
    "# Disconnect\n",
    "And we disconnect from the exchange"
   ]
  },
  {
   "cell_type": "code",
   "execution_count": null,
   "metadata": {},
   "outputs": [],
   "source": [
    "exchange.disconnect().blockingAwait()"
   ]
  },
  {
   "cell_type": "code",
   "execution_count": null,
   "metadata": {},
   "outputs": [],
   "source": [
    "roboquant.broker.account.summary()"
   ]
  },
  {
   "cell_type": "code",
   "execution_count": null,
   "metadata": {},
   "outputs": [],
   "source": []
  }
 ],
 "metadata": {
  "kernelspec": {
   "display_name": "Kotlin",
   "language": "kotlin",
   "name": "kotlin"
  },
  "language_info": {
   "codemirror_mode": "text/x-kotlin",
   "file_extension": ".kt",
   "mimetype": "text/x-kotlin",
   "name": "kotlin",
   "nbconvert_exporter": "",
   "pygments_lexer": "kotlin",
   "version": "1.8.20-Beta"
  }
 },
 "nbformat": 4,
 "nbformat_minor": 4
}
