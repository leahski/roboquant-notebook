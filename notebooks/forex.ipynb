{
 "cells": [
  {
   "cell_type": "markdown",
   "metadata": {},
   "source": [
    "# Forex\n",
    "_Roboquant_ supports many type of asset classes. This notebook shows how to back test forex strategies."
   ]
  },
  {
   "cell_type": "code",
   "execution_count": null,
   "metadata": {
    "tags": []
   },
   "outputs": [],
   "source": [
    "%use roboquant\n",
    "Welcome()"
   ]
  },
  {
   "cell_type": "code",
   "execution_count": null,
   "metadata": {},
   "outputs": [],
   "source": [
    "Currency.increaseDigits(3) // We want to higher precision in reports for currencies\n",
    "val feed = AvroFeed.forex() // Use sample data containing 1 year EUR/USD 1 minute bars"
   ]
  },
  {
   "cell_type": "markdown",
   "metadata": {},
   "source": [
    "## Price Chart\n",
    "A PriceBarChart replay the stream of events found in a feed and plots the prices it finds for a particular asset."
   ]
  },
  {
   "cell_type": "code",
   "execution_count": null,
   "metadata": {
    "tags": []
   },
   "outputs": [],
   "source": [
    "val eur_usd = feed.assets.first()\n",
    "\n",
    "// if useTime = true, non-trading periods will show up as gaps\n",
    "PriceBarChart(feed, eur_usd, useTime = false) "
   ]
  },
  {
   "cell_type": "markdown",
   "metadata": {},
   "source": [
    "## Custom Policy "
   ]
  },
  {
   "cell_type": "code",
   "execution_count": null,
   "metadata": {},
   "outputs": [],
   "source": [
    "// We wan to allow shorting and since only one asset, much higer stakes per order (80%)\n",
    "class MyPolicy : FlexPolicy(shorting = true, orderPercentage = 0.8) {\n",
    "\n",
    "    /**\n",
    "     * We want to create brack orders\n",
    "     */\n",
    "    override fun createOrder(signal: Signal, size: Size, price: Double): Order? {\n",
    "        val asset = signal.asset\n",
    "        val trailPercentage = 0.02\n",
    "        val stopPercentage = 0.005\n",
    "        return BracketOrder.marketTrailStop(asset, size, price, trailPercentage, stopPercentage) \n",
    "    }\n",
    "    \n",
    "}"
   ]
  },
  {
   "cell_type": "markdown",
   "metadata": {},
   "source": [
    "## Price Bar Chart\n",
    "Roboquant charts aren't designed to be a tool where you manually draw support lines on candlestick charts to make trading decisions. But that doesn't mean candlesticks cannot come in handy. For example to validate if the data in a feed is not corrupted or has some other strange anomalies. This time we don't supply a timeframe, so all prices in the feed will be displayed. \n",
    "\n",
    "In the top right part of the plotted graph there is a toolbox that you can use to zoom into a particular area of interest."
   ]
  },
  {
   "cell_type": "code",
   "execution_count": null,
   "metadata": {
    "tags": []
   },
   "outputs": [],
   "source": [
    "val strategy = EMAStrategy()\n",
    "\n",
    "// We want to configure lower spread cost than stock trading and a margin account\n",
    "val broker = SimBroker(pricingEngine = SpreadPricingEngine(1.0), accountModel = MarginAccount())\n",
    "\n",
    "\n",
    "val roboquant =  Roboquant(strategy, AccountMetric(), broker = broker, policy = MyPolicy())\n",
    "roboquant.run(feed)"
   ]
  },
  {
   "cell_type": "code",
   "execution_count": null,
   "metadata": {},
   "outputs": [],
   "source": [
    "val account = roboquant.broker.account\n",
    "account.summary()"
   ]
  },
  {
   "cell_type": "code",
   "execution_count": null,
   "metadata": {},
   "outputs": [],
   "source": [
    "// See the trades we made in a single month\n",
    "val tf = Timeframe.parse(\"2022-05\", \"2022-06\")\n",
    "account.trades.filter { it.time in tf }.summary()"
   ]
  },
  {
   "cell_type": "code",
   "execution_count": null,
   "metadata": {},
   "outputs": [],
   "source": [
    "// Chart the trades we made in a single month and plot them against the prices\n",
    "PriceBarChart(feed, eur_usd, account.trades, timeframe = tf, useTime = false)"
   ]
  },
  {
   "cell_type": "markdown",
   "metadata": {},
   "source": [
    "# Metrics\n",
    "\n",
    "Besides the charts for account related data, we can also plot the metrics that where captured during the run. Where an Account contains only the end state after the run has finished, metrics are captured during each step of the run. This allows for charts that provide more insights into different periods of the run. We used the AccountMetric metric that keeps track of how our account performs during the back-test. We use the account value (= cash + positions), for this sample"
   ]
  },
  {
   "cell_type": "code",
   "execution_count": null,
   "metadata": {},
   "outputs": [],
   "source": [
    "val logger = roboquant.logger\n",
    "\n",
    "// What metrics are available\n",
    "logger.metricNames.summary(\"Metrics Names\")"
   ]
  },
  {
   "cell_type": "markdown",
   "metadata": {},
   "source": [
    "## Metric Chart"
   ]
  },
  {
   "cell_type": "code",
   "execution_count": null,
   "metadata": {
    "tags": []
   },
   "outputs": [],
   "source": [
    "val data = logger.getMetric(\"account.equity\")\n",
    "MetricChart(data)"
   ]
  },
  {
   "cell_type": "markdown",
   "metadata": {
    "tags": []
   },
   "source": [
    "## Calender Chart\n",
    "When evaluating the performance of a strategy, it is sometimes required to find out when the strategy was performing good and bad. A calendar charts allows you to plot a metric value per day, so it is easy to find out which days to further investigate. The slider at top of the chart allows for filtering only those days that are of interest based on their value.\n",
    "\n",
    "In the example below we plot the equity change to see when the strategy performed good (green) and when bad (red)."
   ]
  },
  {
   "cell_type": "code",
   "execution_count": null,
   "metadata": {
    "tags": []
   },
   "outputs": [],
   "source": [
    "MetricCalendarChart(data.diff())"
   ]
  },
  {
   "cell_type": "markdown",
   "metadata": {},
   "source": [
    "# Multi-run tests\n",
    "A good way to back-test your strategy is to run it multiple times over different time-frames. This section shows how charts that come in handy to better understand the results of those type of back-tests. \n",
    "\n",
    "## Walk-forward\n",
    "A commonly used approach in back-testing is the so called walk-forward. The historic data is split in a number of equal periods and then the strategy is run for each period separately. This shows how the strategy would have performed during these different periods and possible different regimes.\n",
    "\n",
    "In the following code we split the data in periods of 1 month and for each period run it. We then plot again the equity as observed during each run."
   ]
  },
  {
   "cell_type": "code",
   "execution_count": null,
   "metadata": {},
   "outputs": [],
   "source": [
    "roboquant.reset()\n",
    "\n",
    "feed.timeframe.split(1.months).forEach { \n",
    "    roboquant.run(feed, it)   \n",
    "}\n",
    "\n",
    "val data = roboquant.logger.getMetric(\"account.equity\")\n",
    "MetricChart(data)"
   ]
  },
  {
   "cell_type": "code",
   "execution_count": null,
   "metadata": {},
   "outputs": [],
   "source": []
  }
 ],
 "metadata": {
  "kernelspec": {
   "display_name": "Kotlin",
   "language": "kotlin",
   "name": "kotlin"
  },
  "language_info": {
   "codemirror_mode": "text/x-kotlin",
   "file_extension": ".kt",
   "mimetype": "text/x-kotlin",
   "name": "kotlin",
   "nbconvert_exporter": "",
   "pygments_lexer": "kotlin",
   "version": "1.8.20-Beta"
  }
 },
 "nbformat": 4,
 "nbformat_minor": 4
}
