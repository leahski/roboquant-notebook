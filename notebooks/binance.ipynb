{
 "cells": [
  {
   "cell_type": "markdown",
   "metadata": {},
   "source": [
    "# Introduction\n",
    "\n",
    "This notebook shows how to run a strategy against feeds from the Binance crypto exchange using the **roboquant** algo-trading framework. \n",
    "\n",
    "<img src=\"https://upload.wikimedia.org/wikipedia/commons/1/12/Binance_logo.svg\" alt=\"Binance\" width=\"400\"/>\n",
    "\n",
    "Roboquant includes a dedicated module for crypto trading and this module also includes the support for Binance.\n",
    "There are two types of feed supported, both based on the spot market prices:\n",
    "\n",
    "- Historic feed with price bars (candlesticks)\n",
    "- Live feed with price bars\n",
    "\n",
    "We start with the following three steps to load everything required:\n",
    "\n",
    "1. As always, we load roboquant using the ```%use``` cell magic. This will retrieve all the required roboquant packages the first time it is invoked, and imports the most commonly used functionality. Depending on your internet speed, this might take a few seconds.\n",
    "2. The Welcome() statement is optional, but it provides some insights into the used environment and available memory."
   ]
  },
  {
   "cell_type": "code",
   "execution_count": null,
   "metadata": {},
   "outputs": [],
   "source": [
    "%use @http://roboquant.org/roboquant-crypto.json\n",
    "Welcome()"
   ]
  },
  {
   "cell_type": "markdown",
   "metadata": {
    "tags": []
   },
   "source": [
    "# Binance Historic Feed\n",
    "\n",
    "We start with retrieving historic data from Binance. We have to pass two types of parameters: \n",
    "\n",
    "1. One or more currency pairs we are interested in. In this example we are interested in Bitcoin (BTC) and ether (ETH), both trading against the Binance USD (BUSD).\n",
    "> Please note how we defined a currency-pair: currency1-currency2\n",
    "2. The timeframe that we want to retrieve, in this case we select the past calendar 500 days.\n",
    "> Please note that the Binance API has limits imposed, so too large timeframes are not allowed. \n",
    "\n",
    "### Optional parameters\n",
    "There are also several optional parameters available:\n",
    "- The interval, default being DAILY. But you can define many other values. You can use code completion to see the available values.\n",
    "- Limit the number of candelsticks to be returned per currency pair, default is 1000\n",
    "\n",
    "So a more eloborate call could look something like this:\n",
    "\n",
    "```Kotlin\n",
    "feed.retrieve(\"BTCBUSD\", \"ETHBUSD\", interval = Interval.FIVE_MINUTES, timeframe = tf, limit = 250)\n",
    "```\n"
   ]
  },
  {
   "cell_type": "code",
   "execution_count": null,
   "metadata": {},
   "outputs": [],
   "source": [
    "val feed = BinanceHistoricFeed()\n",
    "val tf = Timeframe.past(500.days)\n",
    "feed.retrieve(\"BTCBUSD\", \"ETHBUSD\", timeframe = tf)\n",
    "feed.timeframe"
   ]
  },
  {
   "cell_type": "markdown",
   "metadata": {},
   "source": [
    "## Charts\n",
    "\n",
    "Lets plot the data we just received. Since the feed can contain multiple assets, we also need to tell the chart which asset to draw.\n",
    "\n",
    "Chart in roboquant are fully interactive, you can zoom and move the mouse to see details. In the top right part of the chart there is a toolbox with more options available.\n",
    "\n",
    "> There is a dedicated notebook called ```visualization.ipynb``` that shows the different available charts"
   ]
  },
  {
   "cell_type": "code",
   "execution_count": null,
   "metadata": {},
   "outputs": [],
   "source": [
    "for (asset in feed.assets) PriceBarChart(feed, asset).render()"
   ]
  },
  {
   "cell_type": "markdown",
   "metadata": {},
   "source": [
    "# Run Back-test\n",
    "We now create the other components we want to use. \n",
    "\n",
    "- We start with defining a simple strategy that uses moving average crossover to generate BUY and SELL signals.\n",
    "- Because we won't be using USD as a base currency, we create a new SimBroker instance with an initial deposit of 1.000.000,- Binance USD (BUSD). We could also have used the default ```SimBroker``` with 1 million USD initial deposit. But in that case we would have needed to define the exchange rate from USD to BUSD, since we going to trade Bitcoin and Ether denominated in BUSD. \n",
    "- We also define a metric  that will help afterwards to validate the performance: ```AccountMetric()```"
   ]
  },
  {
   "cell_type": "code",
   "execution_count": null,
   "metadata": {},
   "outputs": [],
   "source": [
    "val strategy = EMAStrategy.EMA_12_26\n",
    "val broker = SimBroker(1_000_000, \"BUSD\")\n",
    "val roboquant =  Roboquant(strategy, AccountMetric(), broker = broker)\n",
    "\n",
    "roboquant.run(feed)"
   ]
  },
  {
   "cell_type": "code",
   "execution_count": null,
   "metadata": {},
   "outputs": [],
   "source": [
    "roboquant.broker.account.summary()"
   ]
  },
  {
   "cell_type": "code",
   "execution_count": null,
   "metadata": {},
   "outputs": [],
   "source": [
    "val logger = roboquant.logger\n",
    "logger.metricNames.summary()"
   ]
  },
  {
   "cell_type": "markdown",
   "metadata": {},
   "source": [
    "Lets see how the overal value of our account (= cash + positions) did during the back test."
   ]
  },
  {
   "cell_type": "code",
   "execution_count": null,
   "metadata": {},
   "outputs": [],
   "source": [
    "MetricChart(logger.getMetric(\"account.equity\"))"
   ]
  },
  {
   "cell_type": "markdown",
   "metadata": {},
   "source": [
    "We will now plot again the historic prices but this time also plot the actual trades that happened as part of our run. So you can easily see when a trade occured in time and the amount traded."
   ]
  },
  {
   "cell_type": "code",
   "execution_count": null,
   "metadata": {},
   "outputs": [],
   "source": [
    "PriceBarChart(feed, feed.assets.last(), broker.account.trades)"
   ]
  },
  {
   "cell_type": "markdown",
   "metadata": {},
   "source": [
    "# Binance Live Feed\n",
    "Now we create an instance of the `BinanceLiveFeed` and subscribe to pricebar events (candlesticks) of the the BTC/USDT currency pair. It is also possible to subscribe to multiple currency pairs by providing additional parameters to the same ```subscribePriceBar``` method.  Optional you can also specify an interval, the default being 1 minute price-bars. "
   ]
  },
  {
   "cell_type": "code",
   "execution_count": null,
   "metadata": {},
   "outputs": [],
   "source": [
    "val feed = BinanceLiveFeed()\n",
    "feed.subscribePriceBar(\"BTCUSDT\")"
   ]
  },
  {
   "cell_type": "markdown",
   "metadata": {},
   "source": [
    "# Run Live Test"
   ]
  },
  {
   "cell_type": "markdown",
   "metadata": {},
   "source": [
    "We use almost the same setup as in the previous section using the historic data, but this time we also add the EventRecorder. This metric will capture the received events from the live feed, so we can inspect them afterwards."
   ]
  },
  {
   "cell_type": "code",
   "execution_count": null,
   "metadata": {},
   "outputs": [],
   "source": [
    "val strategy = EMAStrategy(3, 5, minEvents = 3)\n",
    "val broker = SimBroker(1_000_000.00, \"USDT\")\n",
    "val eventRecorder = EventRecorder()\n",
    "val roboquant =  Roboquant(strategy, AccountMetric(), eventRecorder, broker = broker)"
   ]
  },
  {
   "cell_type": "markdown",
   "metadata": {},
   "source": [
    "Because it is a live feed we have to specify for how long we want to run it otherwise it would run forever until interrupt the execution. In this case we run it for 60 minutes, but you can run it of course for any duration. If you run it for a short time, it is less likely that the used strategy will generate signals and as a result you won't see any trades or changes to the portfolio. \n",
    "\n",
    "All that remains is to start the run and get some coffee. "
   ]
  },
  {
   "cell_type": "code",
   "execution_count": null,
   "metadata": {},
   "outputs": [],
   "source": [
    "val timeframe = Timeframe.next(45.minutes)\n",
    "roboquant.run(feed, timeframe)"
   ]
  },
  {
   "cell_type": "code",
   "execution_count": null,
   "metadata": {},
   "outputs": [],
   "source": [
    "val asset = feed.assets.first()\n",
    "val account = roboquant.broker.account\n",
    "PriceBarChart(eventRecorder, asset)"
   ]
  },
  {
   "cell_type": "code",
   "execution_count": null,
   "metadata": {},
   "outputs": [],
   "source": [
    "PriceChart(eventRecorder, asset, account.trades)"
   ]
  },
  {
   "cell_type": "code",
   "execution_count": null,
   "metadata": {},
   "outputs": [],
   "source": [
    "val accountValue = roboquant.logger.getMetric(\"account.equity\")\n",
    "MetricChart(accountValue)"
   ]
  },
  {
   "cell_type": "markdown",
   "metadata": {},
   "source": [
    "# Binance Paper Trading\n",
    "This is still very much work in progress and is currently not available. However the goal is that once released, you can also place and manage orders on Binance using roboquant. Instead of the ```SimBroker``` used in the above examples, you only need to specify ```BinanceBroker``` and you will be able to do paper- and live trading. \n",
    "\n",
    "There is already some ground work done, so have a look at the roboquant source code if you want to see what is already there and perhaps contribute some code."
   ]
  },
  {
   "cell_type": "code",
   "execution_count": null,
   "metadata": {},
   "outputs": [],
   "source": []
  }
 ],
 "metadata": {
  "kernelspec": {
   "display_name": "Kotlin",
   "language": "kotlin",
   "name": "kotlin"
  },
  "language_info": {
   "codemirror_mode": "text/x-kotlin",
   "file_extension": ".kt",
   "mimetype": "text/x-kotlin",
   "name": "kotlin",
   "nbconvert_exporter": "",
   "pygments_lexer": "kotlin",
   "version": "1.7.20-dev-1299"
  }
 },
 "nbformat": 4,
 "nbformat_minor": 4
}
