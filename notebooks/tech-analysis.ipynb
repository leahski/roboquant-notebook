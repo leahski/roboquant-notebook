{
 "cells": [
  {
   "cell_type": "markdown",
   "metadata": {},
   "source": [
    "# Technical Analysis\n",
    "\n",
    "Roboquant comes out of box with support for technical analysis. It does this by having dedicate support for two popular technical analysis libraries:\n",
    "\n",
    "1. TaLib: contains over 150 technical indicators. These are indicators ranging from RSI and Bollinger Bands to Candlestick pattern recognition. Directly using the TA-Lib library can be difficult due to its API, but roboquant makes it fairly easy by providing a convenient wrapper.\n",
    "2. Ta4j: contains over 130 technical indicators and has a flexible engine to define your own trading rules."
   ]
  },
  {
   "cell_type": "code",
   "execution_count": null,
   "metadata": {},
   "outputs": [],
   "source": [
    "%use roboquant(1.1.0)\n",
    "Welcome()"
   ]
  },
  {
   "cell_type": "code",
   "execution_count": null,
   "metadata": {},
   "outputs": [],
   "source": [
    "// We first setup the feed we'll use in all examples below\n",
    "val feed = AvroFeed.sp500()"
   ]
  },
  {
   "cell_type": "markdown",
   "metadata": {},
   "source": [
    "# TaLib\n",
    "We start by defining the  strategy using TALib indicators we want to test in combination with the `TaLibStrategy` class. There are three steps:\n",
    "\n",
    "1) Create an instance of `TaLibStrategy` and define how much history it should maintain before invoking the indicators. If you choose this value too low, certain indicators will fail and an exception will be thrown. For example if you want a moving average over 20 days, the history should be at least 20. If you choose the history value too large, it will take longer before your strategy starts to generate signals since it will wait until it has enough history. For many of the technical indicators like candle stick patterns, 15 is sufficient (also the default value).\n",
    "\n",
    "2) Define what you logic to use for generating BUY signals. This can be a combination of indicators and you can also include regular Kotlin code. The only restriction is that the last statement has to be a boolean; true if you want to BUY, false otherwise.\n",
    "\n",
    "3) Define what you logic to use for generating SELL signals. The same rules and conditions apply as for the BUY method.\n",
    "\n",
    "Please note, that although not common practice, the framework doesn't stop you from using bullish indicators to generate a SELL signal and bearish indicators to generate a BUY signal. "
   ]
  },
  {
   "cell_type": "code",
   "execution_count": null,
   "metadata": {},
   "outputs": [],
   "source": [
    "// Define a strategy with maximum of 15 days of history. It is important that these are enough days to calculate the various indicators.\n",
    "// This example just shows how to use different indicators, they don't make much sense in this combination\n",
    "val strategy = TaLibStrategy(15)\n",
    "\n",
    "// We want to generate a BUY signal if we detect either one of the following two candlestick pattern: Morningstar or Three WhiteSoldiers\n",
    "strategy.buy {\n",
    "    cdlMorningStar(it) || cdl3WhiteSoldiers(it)\n",
    "}\n",
    "\n",
    "// We want to generate a SELL signal if we detect the candlestick pattern Two Crows and also observe that the 5 day weighted average is below the 9 day weighted average \n",
    "strategy.sell {\n",
    "    cdl2Crows(it) && ema(it.close, 5) < ema(it.close, 9)\n",
    "}\n"
   ]
  },
  {
   "cell_type": "markdown",
   "metadata": {},
   "source": [
    "Now we can use this strategy just like any other strategy. In this case we use the S&P500 feed. \n",
    "\n",
    "Besides strategies, we can also use TALib indicators as metrics that are captured during a run. The following code creates a custom metric that calculates the Money Flow Index (aka mfi), one of the many indicators that comes with TALib. "
   ]
  },
  {
   "cell_type": "code",
   "execution_count": null,
   "metadata": {},
   "outputs": [],
   "source": [
    "val mfiMetric = TaLibMetric(\"mfi\") {\n",
    "    mfi(it)    \n",
    "}"
   ]
  },
  {
   "cell_type": "code",
   "execution_count": null,
   "metadata": {
    "tags": []
   },
   "outputs": [],
   "source": [
    "val roboquant =  Roboquant(strategy, AccountMetric(), mfiMetric)\n",
    "roboquant.run(feed)"
   ]
  },
  {
   "cell_type": "markdown",
   "metadata": {},
   "source": [
    "Now lets see what the outcome is. Spoiler alert, this strategy won't make you rich ;) "
   ]
  },
  {
   "cell_type": "code",
   "execution_count": null,
   "metadata": {},
   "outputs": [],
   "source": [
    "val account = roboquant.broker.account\n",
    "account.summary()"
   ]
  },
  {
   "cell_type": "code",
   "execution_count": null,
   "metadata": {},
   "outputs": [],
   "source": [
    "account.positions.summary()"
   ]
  },
  {
   "cell_type": "markdown",
   "metadata": {},
   "source": [
    "Let find out which trade generated most profit (realized PnL) and plot the price and all the trades for that asset"
   ]
  },
  {
   "cell_type": "code",
   "execution_count": null,
   "metadata": {},
   "outputs": [],
   "source": [
    "// Lets find out the single most profitable trade and plot the asset and trades for that asset\n",
    "val mostProfitableTrade = account.trades.maxByOrNull { it.pnl.value } !!\n",
    "println(mostProfitableTrade)\n",
    "val asset = mostProfitableTrade.asset\n",
    "PriceBarChart(feed, asset, account.trades)"
   ]
  },
  {
   "cell_type": "code",
   "execution_count": null,
   "metadata": {},
   "outputs": [],
   "source": [
    "// It is always good to plot the equity (cash + assets) to see how the strategy performed\n",
    "val metricData = roboquant.logger.getMetric(\"account.equity\")\n",
    "MetricChart(metricData)"
   ]
  },
  {
   "cell_type": "code",
   "execution_count": null,
   "metadata": {},
   "outputs": [],
   "source": [
    "// Lets also plot the Money Flow Index for one of the assets\n",
    "val symbol = asset.symbol.lowercase()\n",
    "val metricData = roboquant.logger.getMetric(\"mfi.${symbol}\")\n",
    "MetricChart(metricData)"
   ]
  },
  {
   "cell_type": "markdown",
   "metadata": {},
   "source": [
    "## Bollinger Bands\n",
    "This example is more realistic and shows how to implement a strategy based on Bollinger Bands. The underlying assumptions are:\n",
    "\n",
    "1. If the current price is higher than the upper bound, it will continue to go up.\n",
    "2. If the current price is lower than lower bound, it will continue to go down.\n",
    "\n",
    "Of course you can easily reverse this logic from trend following to mean reversion if you prefer and compare the outcomes."
   ]
  },
  {
   "cell_type": "code",
   "execution_count": null,
   "metadata": {},
   "outputs": [],
   "source": [
    "// Define a strategy with maximum of 20 days of history. \n",
    "val days = 20\n",
    "val strategy = TaLibStrategy(days)\n",
    "\n",
    "// We want to BUY if current price is higher than the Bollinger Bands higher bound \n",
    "strategy.buy {\n",
    "    val (h, m, l) = bbands(it, days)\n",
    "    it.close.last() > h \n",
    "}\n",
    "\n",
    "// We want to SELL if current price is lower than the Bollinger Bands lower bound \n",
    "strategy.sell {\n",
    "    val (h, m, l) = bbands(it, days)\n",
    "    it.close.last() < l   \n",
    "}"
   ]
  },
  {
   "cell_type": "code",
   "execution_count": null,
   "metadata": {},
   "outputs": [],
   "source": [
    "val roboquant =  Roboquant(strategy, AccountMetric())\n",
    "roboquant.run(feed)"
   ]
  },
  {
   "cell_type": "code",
   "execution_count": null,
   "metadata": {},
   "outputs": [],
   "source": [
    "val equity = roboquant.logger.getMetric(\"account.equity\")\n",
    "MetricChart(equity)"
   ]
  },
  {
   "cell_type": "markdown",
   "metadata": {},
   "source": [
    "# Ta4j\n",
    "\n",
    "We'll now will define a strategy using indicators and rules found in the `ta4j` library and the roboquant `Ta4jStrategy` strategy class. The `Ta4jStrategy` allows to define flexible rules to generate BUY or SELL signals for assets using standard `ta4j` indicators and rules. Please note that indicators and rules from `ta4j` can be freely used and mixed, but defining strategies and back tests are done using roboquant constructs like the `Ta4jStrategy`, so not the `ta4j` back-test framework.\n",
    "\n",
    "You can find out more on using `ta4j` on the wiki site  https://ta4j.github.io/ta4j-wiki/Trading-strategies.html or visit the `ta4j` Discord server. \n",
    "\n",
    "The main steps to follow are:\n",
    "\n",
    "1. Import the ta4j packages that you want to use (in future releases of roboquant this might be done automatically) \n",
    "2. Create a `Ta4jStrategy` instance and (optional) indicate how much history we want to track\n",
    "3. Define the buying and selling rules\n",
    "4. Run a back test and evaluate the results (this is not specific to `ta4j` based strategies)\n",
    "\n",
    "<div class=\"alert alert-block alert-info\">\n",
    "If you are coming from `ta4j` please note: an important difference with `ta4j` back testing and `roboquant` is that in roboquant by default the buying and selling rules apply to all assets found in a feed. So in the below example the defined strategy is applied to all the S&P 500 stocks and not just a single stock. \n",
    "</div>"
   ]
  },
  {
   "cell_type": "code",
   "execution_count": null,
   "metadata": {},
   "outputs": [],
   "source": [
    "import org.ta4j.core.indicators.*\n",
    "import org.ta4j.core.rules.*\n",
    "import org.ta4j.core.indicators.helpers.*"
   ]
  },
  {
   "cell_type": "code",
   "execution_count": null,
   "metadata": {},
   "outputs": [],
   "source": [
    "val strategy = Ta4jStrategy(maxBarCount = 30)\n",
    "\n",
    "strategy.buy { series ->\n",
    "    val closePrice = ClosePriceIndicator(series)\n",
    "    val shortSma = SMAIndicator(closePrice, 5)\n",
    "    val longSma = SMAIndicator(closePrice, 30)\n",
    "    CrossedUpIndicatorRule(shortSma, longSma)\n",
    "}\n",
    "\n",
    "strategy.sell { series ->\n",
    "    val closePrice = ClosePriceIndicator(series)\n",
    "    val shortSma = SMAIndicator(closePrice, 5)\n",
    "    val longSma = SMAIndicator(closePrice, 30)\n",
    "    CrossedDownIndicatorRule(shortSma, longSma)\n",
    "        .or(StopLossRule(closePrice, 3.0))\n",
    "        .or(StopGainRule(closePrice, 2.0))\n",
    "}"
   ]
  },
  {
   "cell_type": "code",
   "execution_count": null,
   "metadata": {
    "tags": []
   },
   "outputs": [],
   "source": [
    "val roboquant =  Roboquant(strategy, AccountMetric())\n",
    "roboquant.run(feed)"
   ]
  },
  {
   "cell_type": "code",
   "execution_count": null,
   "metadata": {},
   "outputs": [],
   "source": [
    "roboquant.broker.account.summary()"
   ]
  },
  {
   "cell_type": "code",
   "execution_count": null,
   "metadata": {},
   "outputs": [],
   "source": [
    "val metricData = roboquant.logger.getMetric(\"account.equity\")\n",
    "MetricChart(metricData)"
   ]
  },
  {
   "cell_type": "markdown",
   "metadata": {},
   "source": [
    "## Bollinger Bands\n",
    "\n",
    "This is a similar Bollinger Bands strategy as the one above for Ta-Lib. "
   ]
  },
  {
   "cell_type": "code",
   "execution_count": null,
   "metadata": {},
   "outputs": [],
   "source": [
    "import org.ta4j.core.indicators.bollinger.*\n",
    "import org.ta4j.core.indicators.statistics.*\n",
    "\n",
    "// How big a look-back period should we use\n",
    "val period = 20\n",
    "\n",
    "val strategy = Ta4jStrategy(maxBarCount = period)\n",
    "\n",
    "strategy.buy { series ->\n",
    "    val closePrice = ClosePriceIndicator(series)\n",
    "    val sma = SMAIndicator(closePrice, period)\n",
    "    val bm = BollingerBandsMiddleIndicator(sma)\n",
    "    val sd = StandardDeviationIndicator(closePrice, period);\n",
    "    val bu = BollingerBandsUpperIndicator(bm, sd)\n",
    "    CrossedUpIndicatorRule(closePrice, bu)\n",
    "}\n",
    "\n",
    "strategy.sell { series ->\n",
    "    val closePrice = ClosePriceIndicator(series)\n",
    "    val sma = SMAIndicator(closePrice, period)\n",
    "    val bm = BollingerBandsMiddleIndicator(sma)\n",
    "    val sd = StandardDeviationIndicator(closePrice, period);\n",
    "    val bl = BollingerBandsLowerIndicator(bm, sd)\n",
    "    CrossedDownIndicatorRule(closePrice, bl)\n",
    "}\n"
   ]
  },
  {
   "cell_type": "code",
   "execution_count": null,
   "metadata": {},
   "outputs": [],
   "source": [
    "val roboquant =  Roboquant(strategy, AccountMetric())\n",
    "roboquant.run(feed)"
   ]
  },
  {
   "cell_type": "code",
   "execution_count": null,
   "metadata": {},
   "outputs": [],
   "source": [
    "roboquant.broker.account.summary()"
   ]
  },
  {
   "cell_type": "code",
   "execution_count": null,
   "metadata": {},
   "outputs": [],
   "source": [
    "val metricData = roboquant.logger.getMetric(\"account.equity\")\n",
    "MetricChart(metricData)"
   ]
  },
  {
   "cell_type": "code",
   "execution_count": null,
   "metadata": {},
   "outputs": [],
   "source": []
  }
 ],
 "metadata": {
  "kernelspec": {
   "display_name": "Kotlin",
   "language": "kotlin",
   "name": "kotlin"
  },
  "language_info": {
   "codemirror_mode": "text/x-kotlin",
   "file_extension": ".kt",
   "mimetype": "text/x-kotlin",
   "name": "kotlin",
   "nbconvert_exporter": "",
   "pygments_lexer": "kotlin",
   "version": "1.8.0-RC"
  }
 },
 "nbformat": 4,
 "nbformat_minor": 4
}
