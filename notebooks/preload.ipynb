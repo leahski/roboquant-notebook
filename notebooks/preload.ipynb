{
 "cells": [
  {
   "cell_type": "markdown",
   "id": "c1e58f18-c076-4254-ba2e-471db51f1243",
   "metadata": {},
   "source": [
    "Pre-load a number of libraries and Avro files on the Docker image"
   ]
  },
  {
   "cell_type": "code",
   "execution_count": null,
   "id": "70773d5b-d049-4cce-84b7-a9b719981c8e",
   "metadata": {},
   "outputs": [],
   "source": [
    "%use roboquant(version=1.4.0, modules=extra:crypto:ibkr)"
   ]
  },
  {
   "cell_type": "code",
   "execution_count": null,
   "id": "fff81ffc",
   "metadata": {},
   "outputs": [],
   "source": [
    "val feed = AvroFeed.sp500()"
   ]
  },
  {
   "cell_type": "code",
   "execution_count": null,
   "id": "3166b1d5",
   "metadata": {},
   "outputs": [],
   "source": [
    "val feed = AvroFeed.forex()"
   ]
  },
  {
   "cell_type": "code",
   "execution_count": null,
   "id": "c07582af-35f6-421d-98b0-bce708bae35a",
   "metadata": {},
   "outputs": [],
   "source": [
    "val feed = AvroFeed.sp500Quotes()"
   ]
  }
 ],
 "metadata": {
  "kernelspec": {
   "display_name": "Kotlin",
   "language": "kotlin",
   "name": "kotlin"
  },
  "language_info": {
   "codemirror_mode": "text/x-kotlin",
   "file_extension": ".kt",
   "mimetype": "text/x-kotlin",
   "name": "kotlin",
   "nbconvert_exporter": "",
   "pygments_lexer": "kotlin",
   "version": "1.8.20-Beta"
  }
 },
 "nbformat": 4,
 "nbformat_minor": 5
}
