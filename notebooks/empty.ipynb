{
 "cells": [
  {
   "cell_type": "markdown",
   "id": "c1e58f18-c076-4254-ba2e-471db51f1243",
   "metadata": {},
   "source": [
    "# Introduction\n",
    "Empty notebook wich only loads common latest packages and displays the environment setup"
   ]
  },
  {
   "cell_type": "code",
   "execution_count": null,
   "id": "70773d5b-d049-4cce-84b7-a9b719981c8e",
   "metadata": {},
   "outputs": [],
   "source": [
    "%use @http://roboquant.org/roboquant.json\n",
    "Welcome()"
   ]
  },
  {
   "cell_type": "code",
   "execution_count": null,
   "id": "63b6e975-f3b1-4d6d-9447-7cd44b2e89f5",
   "metadata": {},
   "outputs": [],
   "source": []
  }
 ],
 "metadata": {
  "kernelspec": {
   "display_name": "Kotlin",
   "language": "kotlin",
   "name": "kotlin"
  },
  "language_info": {
   "codemirror_mode": "text/x-kotlin",
   "file_extension": ".kt",
   "mimetype": "text/x-kotlin",
   "name": "kotlin",
   "nbconvert_exporter": "",
   "pygments_lexer": "kotlin",
   "version": "1.7.20-dev-1299"
  }
 },
 "nbformat": 4,
 "nbformat_minor": 5
}
