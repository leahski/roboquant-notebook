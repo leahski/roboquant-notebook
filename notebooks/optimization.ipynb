{
 "cells": [
  {
   "cell_type": "code",
   "execution_count": null,
   "id": "e476fe77-f225-4143-89d6-cd87f0bc4ebf",
   "metadata": {
    "ExecuteTime": {
     "end_time": "2023-11-18T20:17:26.550849Z",
     "start_time": "2023-11-18T20:17:19.849768Z"
    }
   },
   "outputs": [],
   "source": [
    "%use roboquant(2.1.0)\n",
    "\n",
    "// Still alpha, so need to import the backtest package manually \n",
    "import org.roboquant.backtest.*"
   ]
  },
  {
   "cell_type": "code",
   "execution_count": null,
   "id": "0a9b0e05-9c40-4f1a-8411-6ab6d6ced803",
   "metadata": {
    "ExecuteTime": {
     "end_time": "2023-11-18T20:17:36.523020Z",
     "start_time": "2023-11-18T20:17:35.750881Z"
    }
   },
   "outputs": [],
   "source": [
    "val feed = AvroFeed.sp500()"
   ]
  },
  {
   "cell_type": "code",
   "execution_count": null,
   "id": "7a670999-355b-46d7-a672-6254c1d1def2",
   "metadata": {
    "ExecuteTime": {
     "end_time": "2023-11-18T20:17:38.406587Z",
     "start_time": "2023-11-18T20:17:38.254494Z"
    }
   },
   "outputs": [],
   "source": [
    "// Define the search space\n",
    "val space = RandomSearch(100)\n",
    "space.add(\"ema1\", 5 .. 100 step 2)\n",
    "space.add(\"ema2\", 5 .. 100 step 2)\n",
    "space.add(\"rsi1\", 5.0 .. 95.0 step 1.0)\n",
    "space.add(\"rsi2\", 5.0 .. 95.0 step 1.0)"
   ]
  },
  {
   "cell_type": "code",
   "execution_count": null,
   "id": "716d4c43-ffdf-44e5-b759-96d702cb2a48",
   "metadata": {
    "ExecuteTime": {
     "end_time": "2023-11-18T20:17:39.685945Z",
     "start_time": "2023-11-18T20:17:39.498250Z"
    }
   },
   "outputs": [],
   "source": [
    "// Parameterize the strategy\n",
    "fun getStrategy(params: Params) : Strategy {\n",
    "    val ema1 = params.getInt(\"ema1\")\n",
    "    val ema2 = params.getInt(\"ema2\")\n",
    "    val rsi1 = params.getDouble(\"rsi1\")\n",
    "    val rsi2 = params.getDouble(\"rsi2\")\n",
    "    \n",
    "    val s = TaLibStrategy()\n",
    "    \n",
    "    s.buy { \n",
    "        ema(it.close, ema1) > ema(it.close, ema2) && rsi(it.close, ema1) < rsi1 \n",
    "    }\n",
    "\n",
    "    s.sell {\n",
    "        ema(it.close, ema1) < ema(it.close, ema2) && rsi(it.close, ema1) > rsi2    \n",
    "    }\n",
    "    \n",
    "    return s\n",
    "}"
   ]
  },
  {
   "cell_type": "code",
   "execution_count": null,
   "id": "72ea6f3a-2254-4a61-8d13-939098fcb2fb",
   "metadata": {
    "ExecuteTime": {
     "end_time": "2023-11-18T20:17:40.487669Z",
     "start_time": "2023-11-18T20:17:40.416446Z"
    }
   },
   "outputs": [],
   "source": [
    "// Define the Optimizer with Compound Annual Growth Rate\n",
    "// as the score function\n",
    "val opt = Optimizer(space, score = CAGR()) { params ->\n",
    "    val s = getStrategy(params)\n",
    "    Roboquant(s, logger = SilentLogger())\n",
    "}"
   ]
  },
  {
   "cell_type": "code",
   "execution_count": null,
   "id": "5c6efa93-baee-4ccd-8e4d-05a23783ed47",
   "metadata": {
    "ExecuteTime": {
     "end_time": "2023-11-18T20:17:59.669838Z",
     "start_time": "2023-11-18T20:17:41.362531Z"
    }
   },
   "outputs": [],
   "source": [
    "// Run the optimization\n",
    "val result = opt.train(feed, feed.timeframe)\n",
    "\n",
    "// What is the best score\n",
    "result.maxBy { it.score }"
   ]
  },
  {
   "cell_type": "code",
   "execution_count": null,
   "id": "23e04838-f5ec-4d84-9897-4ca396fbefeb",
   "metadata": {
    "ExecuteTime": {
     "end_time": "2023-11-18T20:17:59.783933Z",
     "start_time": "2023-11-18T20:17:59.668849Z"
    }
   },
   "outputs": [],
   "source": [
    "// Show distribution of the scores\n",
    "val data = result.map { it.score }.toDoubleArray()\n",
    "HistogramChart(data)"
   ]
  },
  {
   "cell_type": "code",
   "execution_count": null,
   "id": "e8dc033a-6fc4-45af-9fbb-9ceab75f1c82",
   "metadata": {},
   "outputs": [],
   "source": []
  }
 ],
 "metadata": {
  "kernelspec": {
   "display_name": "Kotlin",
   "language": "kotlin",
   "name": "kotlin"
  },
  "language_info": {
   "codemirror_mode": "text/x-kotlin",
   "file_extension": ".kt",
   "mimetype": "text/x-kotlin",
   "name": "kotlin",
   "nbconvert_exporter": "",
   "pygments_lexer": "kotlin",
   "version": "1.9.0"
  }
 },
 "nbformat": 4,
 "nbformat_minor": 5
}
