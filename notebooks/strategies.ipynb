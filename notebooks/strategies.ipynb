{
 "cells": [
  {
   "cell_type": "markdown",
   "metadata": {},
   "source": [
    "# Introduction\n",
    "This notebook shows how to create a simple but very silly strategy from scratch, the ** Werewolf Strategy **.\n",
    "\n",
    "Our strategy adheres to the following 3 rules: \n",
    "\n",
    "1. If it is a super moon => we buy stocks\n",
    "2. If it is a micro moon => we sell our stocks so we have no more exposure\n",
    "3. Otherwise => we do nothing\n",
    "\n",
    "Btw, a supermoon occurs when the moon’s orbit is closest to Earth at the same time it is full. So visually it is a very large moon. \n",
    "\n",
    "The main purpose of this example is obviously not to create a useful strategy that will make you a huge profit. But rather to demonstrate how easy it is to develop your own strategy.\n",
    "As always, we start with loading roboquant using the cell magic *%use*\n"
   ]
  },
  {
   "cell_type": "code",
   "execution_count": null,
   "metadata": {},
   "outputs": [],
   "source": [
    "%use roboquant(1.4.0)\n",
    "Welcome()"
   ]
  },
  {
   "cell_type": "markdown",
   "metadata": {},
   "source": [
    "## Load external libraries\n",
    "We can load any library from external repositories and import the required packages afterwards. If required we can even add repositories to the notebook. In the background the notebook kernel will download the required package and all its declared dependencies. \n",
    "\n",
    "In this case we download the *common-suncalc* package for calculating the moon phases. And because it is available in one of the standard Maven repositories, we don't need to add that first.  "
   ]
  },
  {
   "cell_type": "code",
   "execution_count": null,
   "metadata": {},
   "outputs": [],
   "source": [
    "@file:DependsOn(\"org.shredzone.commons:commons-suncalc:3.4\")\n",
    "import org.shredzone.commons.suncalc.*"
   ]
  },
  {
   "cell_type": "markdown",
   "metadata": {},
   "source": [
    "## Coding our own Strategy\n",
    "\n",
    "We're now ready to develop the custom strategy. In this case we subclass the convenience class *SingleAssetStrategy* that can be used for strategies that are only interested in a single asset at a time. We need to override the method with signature:\n",
    "\n",
    "```kotlin\n",
    "fun generate(priceAction: PriceAction, now: Instant): Signal?\n",
    "```\n",
    "    \n",
    "We get as input the price action for that asset and a timestamp for when the event occurred. We return a Signal that indicates if we want to buy or sell that asset. We return *null* if we don't want to do anything. So the whole custom strategy is just a few lines of code."
   ]
  },
  {
   "cell_type": "code",
   "execution_count": null,
   "metadata": {},
   "outputs": [],
   "source": [
    "class WerewolfStrategy(asset: Asset) : SingleAssetStrategy(asset) {\n",
    "\n",
    "    override fun generate(priceAction: PriceAction, now: Instant): Signal? {\n",
    "        val phase = MoonPhase.compute().on(now).execute()\n",
    "        return when {\n",
    "            phase.isSuperMoon -> Signal(asset, Rating.BUY)\n",
    "            phase.isMicroMoon -> Signal(asset, Rating.SELL)\n",
    "            else -> null\n",
    "        }\n",
    "    }\n",
    "    \n",
    "}"
   ]
  },
  {
   "cell_type": "markdown",
   "metadata": {},
   "source": [
    "## Create a Roboquant instance and evaluate it\n",
    "We are now ready to back-test our strategy. And we decided to test it against Apple stock. So what we need to do is:\n",
    "\n",
    "- Use a data feed that contains historic prices for the Apple stock\n",
    "- Create an instance of our strategy and tell it to focus on the Apple stock\n",
    "- Create an instance of a roboquant and run it against the available data "
   ]
  },
  {
   "cell_type": "code",
   "execution_count": null,
   "metadata": {},
   "outputs": [],
   "source": [
    "val feed = AvroFeed.sp500()\n",
    "val apple = feed.assets.getBySymbol(\"AAPL\")\n",
    "val strategy = WerewolfStrategy(apple)\n",
    "val roboquant =  Roboquant(strategy)\n",
    "\n",
    "roboquant.run(feed)"
   ]
  },
  {
   "cell_type": "markdown",
   "metadata": {},
   "source": [
    "## Get some insights\n",
    "Let's start to see how the account looks like after the experiment has run. The account holds the latest state"
   ]
  },
  {
   "cell_type": "code",
   "execution_count": null,
   "metadata": {},
   "outputs": [],
   "source": [
    "val account = roboquant.broker.account\n",
    "account.summary()"
   ]
  },
  {
   "cell_type": "markdown",
   "metadata": {},
   "source": [
    "By default, the simulated broker account contains an initial cash deposit of 1_000_000.00 USD. Lets see how much realized profit we actually made with our trades:"
   ]
  },
  {
   "cell_type": "code",
   "execution_count": null,
   "metadata": {},
   "outputs": [],
   "source": [
    "account.trades.realizedPNL"
   ]
  },
  {
   "cell_type": "markdown",
   "metadata": {},
   "source": [
    "## Lessons learned\n",
    "\n",
    "* It is not that hard to develop a new strategy and back-test it. \n",
    "* Even the most silly strategies can **appear** to make a profit if back-tests are based on unsound assumptions. In this case we are running our back test solely against Apple stocks and only going long; we were almost sure to make a decent profit.  "
   ]
  },
  {
   "cell_type": "code",
   "execution_count": null,
   "metadata": {},
   "outputs": [],
   "source": []
  }
 ],
 "metadata": {
  "kernelspec": {
   "display_name": "Kotlin",
   "language": "kotlin",
   "name": "kotlin"
  },
  "language_info": {
   "codemirror_mode": "text/x-kotlin",
   "file_extension": ".kt",
   "mimetype": "text/x-kotlin",
   "name": "kotlin",
   "nbconvert_exporter": "",
   "pygments_lexer": "kotlin",
   "version": "1.8.20-Beta"
  }
 },
 "nbformat": 4,
 "nbformat_minor": 4
}
