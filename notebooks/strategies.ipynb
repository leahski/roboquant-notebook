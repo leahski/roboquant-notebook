{
 "cells": [
  {
   "cell_type": "markdown",
   "metadata": {},
   "source": [
    "# Introduction\n",
    "This notebook shows how to create a simple but very silly strategy from scratch, the ** Werewolf Strategy **.\n",
    "\n",
    "Our strategy adheres to the following 3 rules: \n",
    "\n",
    "1. If it is a super moon => we buy stocks\n",
    "2. If it is a micro moon => we sell our stocks so we have no more exposure\n",
    "3. Otherwise => we do nothing\n",
    "\n",
    "Btw, a supermoon occurs when the moon’s orbit is closest to Earth at the same time it is full. So visually it is a very large moon. \n",
    "\n",
    "The main purpose of this example is obviously not to create a useful strategy that will make you a huge profit. But rather to demonstrate how easy it is to develop your own strategy.\n",
    "As always, we start with loading roboquant using the cell magic *%use*\n"
   ]
  },
  {
   "cell_type": "code",
   "execution_count": null,
   "metadata": {
    "ExecuteTime": {
     "end_time": "2025-05-06T10:49:16.621650Z",
     "start_time": "2025-05-06T10:49:16.356285Z"
    }
   },
   "outputs": [],
   "source": [
    "%use roboquant(3.0.0-SNAPSHOT)\n",
    "Welcome()"
   ]
  },
  {
   "cell_type": "markdown",
   "metadata": {},
   "source": [
    "## Load external libraries\n",
    "We can load any library from external repositories and import the required packages afterwards. If required we can even add repositories to the notebook. In the background the notebook kernel will download the required package and all its declared dependencies. \n",
    "\n",
    "In this case we download the *common-suncalc* package for calculating the moon phases. And because it is available in one of the standard Maven repositories, we don't need to add that first.  "
   ]
  },
  {
   "cell_type": "code",
   "execution_count": null,
   "metadata": {
    "ExecuteTime": {
     "end_time": "2025-05-06T10:49:16.672761Z",
     "start_time": "2025-05-06T10:49:16.629975Z"
    }
   },
   "outputs": [],
   "source": [
    "@file:DependsOn(\"org.shredzone.commons:commons-suncalc:3.4\")\n",
    "import org.shredzone.commons.suncalc.*"
   ]
  },
  {
   "cell_type": "markdown",
   "metadata": {},
   "source": [
    "## Coding our own Strategy\n",
    "\n",
    "We're now ready to develop the custom strategy."
   ]
  },
  {
   "cell_type": "code",
   "execution_count": null,
   "metadata": {
    "ExecuteTime": {
     "end_time": "2025-05-06T10:49:16.750234Z",
     "start_time": "2025-05-06T10:49:16.676494Z"
    }
   },
   "outputs": [],
   "source": [
    "class WerewolfStrategy(val asset: Asset) : Strategy {\n",
    "\n",
    "    override fun createSignals(event: Event): List<Signal> {\n",
    "        event.getPrice(asset) ?: return emptyList()\n",
    "        val phase = MoonPhase.compute().on(event.time).execute()\n",
    "        return when {\n",
    "            phase.isSuperMoon -> listOf(Signal.buy(asset))\n",
    "            phase.isMicroMoon -> listOf(Signal.sell(asset))\n",
    "            else -> emptyList()\n",
    "        }\n",
    "    }\n",
    "\n",
    "}"
   ]
  },
  {
   "cell_type": "markdown",
   "metadata": {},
   "source": [
    "## Run\n",
    "We are now ready to back-test our strategy. And we decided to test it against Apple stock. So what we need to do is:\n",
    "\n",
    "- Use a data feed that contains historic prices for the Apple stock\n",
    "- Create an instance of our strategy and tell it to focus on the Apple stock\n",
    "- Create a run"
   ]
  },
  {
   "cell_type": "code",
   "execution_count": null,
   "metadata": {
    "ExecuteTime": {
     "end_time": "2025-05-06T10:49:16.927130Z",
     "start_time": "2025-05-06T10:49:16.807733Z"
    }
   },
   "outputs": [],
   "source": [
    "val feed = AvroFeed.sp25()\n",
    "val apple = Stock(\"AAPL\")\n",
    "val strategy = WerewolfStrategy(apple)\n",
    "run(feed, strategy)"
   ]
  },
  {
   "cell_type": "code",
   "execution_count": null,
   "metadata": {
    "ExecuteTime": {
     "end_time": "2025-05-06T10:49:16.939120Z",
     "start_time": "2025-05-06T10:49:16.935771Z"
    }
   },
   "outputs": [],
   "source": []
  }
 ],
 "metadata": {
  "kernelspec": {
   "display_name": "Kotlin",
   "language": "kotlin",
   "name": "kotlin"
  },
  "language_info": {
   "codemirror_mode": "text/x-kotlin",
   "file_extension": ".kt",
   "mimetype": "text/x-kotlin",
   "name": "kotlin",
   "nbconvert_exporter": "",
   "pygments_lexer": "kotlin",
   "version": "1.8.20"
  }
 },
 "nbformat": 4,
 "nbformat_minor": 4
}
