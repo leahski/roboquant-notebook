{
 "cells": [
  {
   "cell_type": "markdown",
   "metadata": {
    "tags": []
   },
   "source": [
    "# Introduction\n",
    "This notebook demonstrates the integration capabilities of roboquant with OANDA. OANDA is a broker with a focus on FOREX/CFDs. \n",
    "\n",
    "There are currently four types of integration with OANDA available:\n",
    "1. Retrieve historic market data from OANDA, can be used during back testing \n",
    "2. Subscribe to live market data from OANDA, cna be used during live testing and paper trading\n",
    "3. Paper trading broker on the OANDA platform (WIP)\n",
    "4. Exchange rates from OANDA"
   ]
  },
  {
   "cell_type": "code",
   "execution_count": null,
   "metadata": {},
   "outputs": [],
   "source": [
    "%use @http://roboquant.org/roboquant-extra.json\n",
    "\n",
    "// By default the required OANDA classes are not imported, so we need to do that first. \n",
    "// This import will load the various Feed and Broker classes for integrating with OANDA.\n",
    "import org.roboquant.oanda.*\n",
    "\n",
    "// By default USD, EUR and GBP are displayed with 2 decimals, but for FOREX trading we want more precision \n",
    "// in order to see small differences. So we increase the digits for all registered currencies by 3\n",
    "Currency.increaseDigits(3)\n",
    "\n",
    "Welcome()"
   ]
  },
  {
   "cell_type": "markdown",
   "metadata": {},
   "source": [
    "# Back Testing\n",
    "The first example shows how to use historic data from OANDA in a back test. To use Oanda you'll need to authenticate with a key and optional specify the account Id. There are several ways to pass them to the feed, either directly or through system environment or a `.env` property file. \n",
    "\n",
    "\n",
    "<div class=\"alert alert-block alert-info\">\n",
    "Make sure you use always the demo account since roboquant trading functionality is still very much in Beta\n",
    "</div>"
   ]
  },
  {
   "cell_type": "code",
   "execution_count": null,
   "metadata": {},
   "outputs": [],
   "source": [
    " // Get the oanda.key from a .env file\n",
    "val feed = OANDAHistoricFeed()\n",
    "println(feed.availableAssets.summary(\"available assets\"))\n",
    "\n",
    "// Specify the key directly. Be careful not to expose this key to third parties\n",
    "// val feed = OANDAHistoricFeed() { key = \"my_secret_key\" }\n",
    "\n",
    "// Retrieve PriceBars for 1 day\n",
    "val timeframe = Timeframe.parse(\"2021-08-10\", \"2021-08-11\")\n",
    "val symbols = listOf(\"EUR_USD\", \"GBP_USD\", \"AUD_USD\").toTypedArray()\n",
    "feed.retrieve(*symbols, timeframe = timeframe)\n",
    "\n",
    "feed.assets.summary()"
   ]
  },
  {
   "cell_type": "code",
   "execution_count": null,
   "metadata": {},
   "outputs": [],
   "source": [
    "PriceBarChart(feed, feed.assets.first())"
   ]
  },
  {
   "cell_type": "markdown",
   "metadata": {},
   "source": [
    "We'll define a strategy of which the buy and sell signals are based on candlestick patterns. Although trading Forex is like any another asset class, there are some configuration parameters that deviate from assets classes (less spread, more shorting)\n",
    "OANDA.roboquant presets these parameters"
   ]
  },
  {
   "cell_type": "code",
   "execution_count": null,
   "metadata": {},
   "outputs": [],
   "source": [
    "val strategy = TaLibStrategy(15)\n",
    "\n",
    "// We want to generate a BUY signal if we detect a Three White Soldiers pattern\n",
    "strategy.buy { cdl3WhiteSoldiers(it) }\n",
    "\n",
    "// We want to generate a SELL signal if we detect the candlestick pattern Three Black Crows \n",
    "strategy.sell { cdl3BlackCrows(it) }\n",
    "\n",
    "val roboquant = OANDA.roboquant(strategy, AccountMetric())"
   ]
  },
  {
   "cell_type": "code",
   "execution_count": null,
   "metadata": {},
   "outputs": [],
   "source": [
    "roboquant.run(feed)"
   ]
  },
  {
   "cell_type": "markdown",
   "metadata": {},
   "source": [
    "## Results"
   ]
  },
  {
   "cell_type": "code",
   "execution_count": null,
   "metadata": {},
   "outputs": [],
   "source": [
    "val account = roboquant.broker.account\n",
    "account.fullSummary()"
   ]
  },
  {
   "cell_type": "code",
   "execution_count": null,
   "metadata": {},
   "outputs": [],
   "source": [
    "val metric = roboquant.logger.getMetric(\"account.equity\")\n",
    "MetricChart(metric)"
   ]
  },
  {
   "cell_type": "code",
   "execution_count": null,
   "metadata": {},
   "outputs": [],
   "source": [
    "feed.assets.forEach { \n",
    "    PriceBarChart(feed, it, account.trades).render()\n",
    "}"
   ]
  },
  {
   "cell_type": "markdown",
   "metadata": {},
   "source": [
    "# Live Testing\n",
    "Now we create an instance of the OANDALiveFeed and subscribe to same three forex pairs as before. If you run these cells when FOREX exchanges are closed, there will no orders and trades of course."
   ]
  },
  {
   "cell_type": "code",
   "execution_count": null,
   "metadata": {},
   "outputs": [],
   "source": [
    "val feed = OANDALiveFeed()\n",
    "feed.subscribeOrderBook(*symbols)"
   ]
  },
  {
   "cell_type": "code",
   "execution_count": null,
   "metadata": {},
   "outputs": [],
   "source": [
    "val strategy = EMAStrategy()\n",
    "val eventRecorder = EventCaptureMetric()\n",
    "val roboquant = OANDA.roboquant(strategy, eventRecorder, AccountMetric())"
   ]
  },
  {
   "cell_type": "markdown",
   "metadata": {},
   "source": [
    "We have all the components assembled that we need to start the test. All that remains, is to start the run and evaluate the strategy against the feed. We'll run it for 5 minutes, but you can change this. "
   ]
  },
  {
   "cell_type": "code",
   "execution_count": null,
   "metadata": {},
   "outputs": [],
   "source": [
    "val timeframe = Timeframe.next(60.minutes)\n",
    "roboquant.run(feed, timeframe)"
   ]
  },
  {
   "cell_type": "markdown",
   "metadata": {},
   "source": [
    "## Results\n",
    "The run has completed, lets see a few result. Of course if the run was outside trading hours without any price action, there will not be much to see."
   ]
  },
  {
   "cell_type": "code",
   "execution_count": null,
   "metadata": {},
   "outputs": [],
   "source": [
    "val account = roboquant.broker.account\n",
    "account.fullSummary()"
   ]
  },
  {
   "cell_type": "code",
   "execution_count": null,
   "metadata": {},
   "outputs": [],
   "source": [
    "for (asset in feed.assets) PriceChart(eventRecorder, asset, account.trades).render()"
   ]
  },
  {
   "cell_type": "markdown",
   "metadata": {},
   "source": [
    "## Charts\n",
    "Also lets plot two charts. See also the visualization notebook for examples of how to use charts to display results"
   ]
  },
  {
   "cell_type": "code",
   "execution_count": null,
   "metadata": {},
   "outputs": [],
   "source": [
    "val logger = roboquant.logger\n",
    "logger.metricNames.summary()"
   ]
  },
  {
   "cell_type": "code",
   "execution_count": null,
   "metadata": {},
   "outputs": [],
   "source": [
    "val accountValue = logger.getMetric(\"account.equity\")\n",
    "MetricChart(accountValue, useTime = false)"
   ]
  },
  {
   "cell_type": "code",
   "execution_count": null,
   "metadata": {},
   "outputs": [],
   "source": [
    "TradeAssetChart(account.trades)"
   ]
  },
  {
   "cell_type": "markdown",
   "metadata": {},
   "source": [
    "# Paper Trading\n",
    "And just as it was the case in the previous section, most live feeds will only generate data during trading hours. So if you run these code cells outside trading hours, you won't see signals and orders being generated. Besides the paper trading, this example also uses the Exchange Rates from OANDA to support multi-currency trading.\n",
    "\n",
    "<div class=\"alert alert-block alert-warning\">\n",
    "The integration with the OANDA trading and broker API is still very much work in progress, so only use this with a paper trading account\n",
    "</div>"
   ]
  },
  {
   "cell_type": "code",
   "execution_count": null,
   "metadata": {},
   "outputs": [],
   "source": [
    "Config.exchangeRates = OANDAExchangeRates()\n",
    "val broker = OANDABroker()\n",
    "val account = broker.account"
   ]
  },
  {
   "cell_type": "code",
   "execution_count": null,
   "metadata": {},
   "outputs": [],
   "source": [
    "// This provides an overview of your demo account portfolio at OANDA\n",
    "// before we started the actual paper trading run\n",
    "account.summary()"
   ]
  },
  {
   "cell_type": "markdown",
   "metadata": {},
   "source": [
    "## Run\n",
    "Get the data we want to use to feed our strategy. The setup of the feed is exactly the same as before. There is no difference in the feed if you use it for live testing with the builtin Simulated Broker or paper- and live-trading. This time we'll run it for 5 minutes."
   ]
  },
  {
   "cell_type": "code",
   "execution_count": null,
   "metadata": {},
   "outputs": [],
   "source": [
    "val feed = OANDALiveFeed()\n",
    "feed.subscribeOrderBook(*symbols)"
   ]
  },
  {
   "cell_type": "code",
   "execution_count": null,
   "metadata": {},
   "outputs": [],
   "source": [
    "val strategy = EMAStrategy.PERIODS_5_15 // Use EMA Crossover strategy\n",
    "val policy = FlexPolicy(shorting = true) // We want to allow for short positions if we do FOREX trading\n",
    "\n",
    "val eventRecorder = EventCaptureMetric()\n",
    "val roboquant = Roboquant(strategy, AccountMetric(), eventRecorder, policy = policy, broker = broker)"
   ]
  },
  {
   "cell_type": "code",
   "execution_count": null,
   "metadata": {
    "tags": []
   },
   "outputs": [],
   "source": [
    "val timeframe = Timeframe.next(60.minutes) // restrict the time we will run the paper trading\n",
    "roboquant.run(feed, timeframe)"
   ]
  },
  {
   "cell_type": "markdown",
   "metadata": {},
   "source": [
    "## Results"
   ]
  },
  {
   "cell_type": "code",
   "execution_count": null,
   "metadata": {},
   "outputs": [],
   "source": [
    "val account = roboquant.broker.account\n",
    "account.fullSummary()"
   ]
  },
  {
   "cell_type": "code",
   "execution_count": null,
   "metadata": {},
   "outputs": [],
   "source": [
    "val data = roboquant.logger.getMetric(\"account.equity\")\n",
    "MetricChart(data)"
   ]
  },
  {
   "cell_type": "code",
   "execution_count": null,
   "metadata": {},
   "outputs": [],
   "source": [
    "for (asset in feed.assets) PriceChart(eventRecorder, asset, account.trades).render()"
   ]
  },
  {
   "cell_type": "code",
   "execution_count": null,
   "metadata": {},
   "outputs": [],
   "source": [
    "TradeChart(account.trades)"
   ]
  },
  {
   "cell_type": "code",
   "execution_count": null,
   "metadata": {},
   "outputs": [],
   "source": []
  }
 ],
 "metadata": {
  "kernelspec": {
   "display_name": "Kotlin",
   "language": "kotlin",
   "name": "kotlin"
  },
  "language_info": {
   "codemirror_mode": "text/x-kotlin",
   "file_extension": ".kt",
   "mimetype": "text/x-kotlin",
   "name": "kotlin",
   "nbconvert_exporter": "",
   "pygments_lexer": "kotlin",
   "version": "1.8.0-dev-3517"
  }
 },
 "nbformat": 4,
 "nbformat_minor": 4
}
