{
 "cells": [
  {
   "cell_type": "markdown",
   "metadata": {},
   "source": [
    "# Visualization\n",
    "Roboquant Notebooks come out of the box with support for several types of charts. They will help to better understand what is going on during a run and evaluate the performance of the underlying strategy. \n",
    "\n",
    "Under the hood roboquant leverages the excellent [Apache ECharts](https://echarts.apache.org/en/index.html)  visualization library to render the charts in Notebooks. ECharts was selected because:\n",
    "\n",
    "* [x]  it has a very feature rich set of charts\n",
    "* [x]  it can handle large data sets\n",
    "* [x]  easy to add some interactive behavior like filtering and selection\n",
    "* [x]  Apache opensource project and license\n",
    "\n",
    "\n",
    "<div class=\"alert alert-block alert-info\">\n",
    "    <b>Tips: </b>\n",
    "<ul>\n",
    "    <li>\n",
    "If you double click on a chart it will resize the chart to fit the cell output space. This comes in handy if you have resized the workspace or browser window.\n",
    "    </li><li>\n",
    "Within Jupyter Lab, roboquant will by default adapt to the used theme. So if you select the dark theme in the settings menu of Jupyter Lab, the charts rendered by roboquant will use an appropiate color scheme and everything will look great.\n",
    "     </li><li>\n",
    "Roboquant auto-detects the environment it is running in, either Jupyter Classic or Jupyter Lab. However this detection is not 100% accurate. But you can always invoke *Ouput.lab()* or *Output.classic()*, so roboquant knows the environment and will generate the corresponding output. \n",
    "     </li><li>\n",
    "The best experience is with Jupyter Lab. But if you have to use the classic Jupyter Notebook environment, it is best to use a Chrome based browser or Safari since Firefox is known to have to some compatibility issues that can cause charts not to render.\n",
    "     </li>\n",
    "</ul>\n",
    "</div>"
   ]
  },
  {
   "cell_type": "code",
   "execution_count": null,
   "metadata": {
    "tags": []
   },
   "outputs": [],
   "source": [
    "%use @http://roboquant.org/roboquant.json\n",
    "Welcome()"
   ]
  },
  {
   "cell_type": "markdown",
   "metadata": {
    "tags": []
   },
   "source": [
    "# Price Feeds\n",
    "\n",
    "A feed represents a stream of events you can use in your strategies. There are several type of feeds supported, like the one for Avro files used here. \n",
    "\n",
    "The file using in this notebook contains 5 years of S&P 500 daily prices (OHLCV). The Avro file format allows to store, access and compress data efficiently and works great for historic prices used in back-testing. This feed implementation also has low memory consumption since it only loads data when required. If you want to find out more about Avro files, check out their [documentation pages](https://avro.apache.org/docs/current/index.html).\n",
    "\n",
    "\n",
    "Roboquant also supports plain CSV files as well as several third party proviers like Yahoo Finance, IEX Cloud, Binance, Alpaca and many others. More detailed examples can be found in the *Feeds Sample Notebook* and the roboquant documentation."
   ]
  },
  {
   "cell_type": "code",
   "execution_count": null,
   "metadata": {},
   "outputs": [],
   "source": [
    "val feed = AvroFeed.sp500()\n",
    "\n",
    "// Show the first 10 assets in this feed\n",
    "feed.assets.take(10).summary()"
   ]
  },
  {
   "cell_type": "markdown",
   "metadata": {},
   "source": [
    "## Asset Performance Chart\n",
    "This chart enables you to see which assets got most traded and how they performed:\n",
    "\n",
    "1. The volume decides how big the asset is plotted. The volume is the base currency time the number units traded.\n",
    "2. The return (in %) decides the color that is used. "
   ]
  },
  {
   "cell_type": "code",
   "execution_count": null,
   "metadata": {},
   "outputs": [],
   "source": [
    "AssetPerformanceChart(feed, Timeframe.fromYears(2017, 2018))"
   ]
  },
  {
   "cell_type": "markdown",
   "metadata": {},
   "source": [
    "## Price Chart\n",
    "The PriceChart replay the stream of events found in a feed and plots the prices it finds for a particular asset. In this example we'll find Apple stock (symbol name is \"AAPL\") and plot it."
   ]
  },
  {
   "cell_type": "code",
   "execution_count": null,
   "metadata": {
    "tags": []
   },
   "outputs": [],
   "source": [
    "val apple = feed.find(\"AAPL\")\n",
    "PriceChart(feed, apple)"
   ]
  },
  {
   "cell_type": "markdown",
   "metadata": {},
   "source": [
    "## PriceBar Chart\n",
    "Roboqant isn't a technical analysis tool where you draw some support lines on a candlestick chart. But that doesn't mean candlesticks cannot come in handy. For example to validate if the data in a feed is not corrupted or has some other strange anomalies."
   ]
  },
  {
   "cell_type": "code",
   "execution_count": null,
   "metadata": {
    "tags": []
   },
   "outputs": [],
   "source": [
    "PriceBarChart(feed, apple)"
   ]
  },
  {
   "cell_type": "markdown",
   "metadata": {},
   "source": [
    "## Price Correlation Chart\n",
    "This chart shows the correlation matrix of the prices of a number of assets within a feed. In this example we select some well known stocks."
   ]
  },
  {
   "cell_type": "code",
   "execution_count": null,
   "metadata": {},
   "outputs": [],
   "source": [
    "val assets = feed.assets.findBySymbols(\"AAPL\", \"GOOGL\", \"F\", \"BAC\", \"T\", \"MSFT\", \"CAT\", \"JPM\", \"IBM\", \"FB\", \"UBER\", \"PFE\")\n",
    "PriceCorrelationChart(feed, assets)"
   ]
  },
  {
   "cell_type": "markdown",
   "metadata": {},
   "source": [
    "# Account\n",
    "We run a simple strategy over the feed we just created to get some results to use for the charts. For this notebook we use the EMA crossover strategy with its default settings and capture the AccountSummary metrics. After the run has finsihed, the account contains the latest state. There are several charts that provide some insights into this. "
   ]
  },
  {
   "cell_type": "code",
   "execution_count": null,
   "metadata": {
    "tags": []
   },
   "outputs": [],
   "source": [
    "val strategy = EMACrossover()\n",
    "val roboquant =  Roboquant(strategy, AccountSummary())\n",
    "roboquant.run(feed)"
   ]
  },
  {
   "cell_type": "markdown",
   "metadata": {},
   "source": [
    "## Asset Allocation Charts\n",
    "Lets see what assets are in our portfolio at the end of the run. We can plot only the assets (pie chart) or plot the assets grouped per asset-class (sunburst chart). Optionally we can also say if the cash positions in the account should be included in the chart."
   ]
  },
  {
   "cell_type": "code",
   "execution_count": null,
   "metadata": {},
   "outputs": [],
   "source": [
    "val account = roboquant.broker.account\n",
    "AssetAllocationChart(account, includeCash = false, includeAssetClass=false)"
   ]
  },
  {
   "cell_type": "code",
   "execution_count": null,
   "metadata": {},
   "outputs": [],
   "source": [
    "AssetAllocationChart(account, includeCash = true, includeAssetClass=true)"
   ]
  },
  {
   "cell_type": "code",
   "execution_count": null,
   "metadata": {},
   "outputs": [],
   "source": [
    "// You can ofcourse also just print a summary\n",
    "account.portfolio.summary()"
   ]
  },
  {
   "cell_type": "markdown",
   "metadata": {},
   "source": [
    "## Trade Chart\n",
    "Another important aspect is to see which trades has been executed as part of the run and how they performed. "
   ]
  },
  {
   "cell_type": "code",
   "execution_count": null,
   "metadata": {},
   "outputs": [],
   "source": [
    "TradeChart(account.trades.outliers())"
   ]
  },
  {
   "cell_type": "code",
   "execution_count": null,
   "metadata": {
    "tags": []
   },
   "outputs": [],
   "source": [
    "val chart = TradeChartByAsset(account.trades[0..50])\n",
    "chart.height = 1000\n",
    "chart"
   ]
  },
  {
   "cell_type": "code",
   "execution_count": null,
   "metadata": {},
   "outputs": [],
   "source": [
    "// Lets plot biggest loosing trades\n",
    "val trades = account.trades.filter { it.pnl < -2000 }\n",
    "TradeChart(trades, aspect = \"cost\") "
   ]
  },
  {
   "cell_type": "code",
   "execution_count": null,
   "metadata": {},
   "outputs": [],
   "source": [
    "PriceBarChart(feed, apple, account.trades)"
   ]
  },
  {
   "cell_type": "markdown",
   "metadata": {},
   "source": [
    "##  Order Chart \n",
    "We can also view the orders that were created as part of the run. This time we don't plot the orders of all assets, but only of AMD."
   ]
  },
  {
   "cell_type": "code",
   "execution_count": null,
   "metadata": {},
   "outputs": [],
   "source": [
    "val orders = account.closedOrders.filter { it.asset.symbol == \"AMD\" }\n",
    "OrderChart(orders) "
   ]
  },
  {
   "cell_type": "markdown",
   "metadata": {},
   "source": [
    "# Metrics\n",
    "\n",
    "Besides the charts for account related data, we can also plot the metrics that where captured during the run. Where an Account contains only the end state after the run has finished, metrics are catured during each step of the run. This allows for charts that provide more insights into different periods of the run. We used the AccountSummary metric that keeps track of how our account performs during the back-test. We use the account value (= cash + positions), for this sample"
   ]
  },
  {
   "cell_type": "code",
   "execution_count": null,
   "metadata": {},
   "outputs": [],
   "source": [
    "val logger = roboquant.logger\n",
    "\n",
    "// What metrics are available\n",
    "logger.metricNames.summary(\"Metrics Names\")"
   ]
  },
  {
   "cell_type": "markdown",
   "metadata": {},
   "source": [
    "## Metric Chart"
   ]
  },
  {
   "cell_type": "code",
   "execution_count": null,
   "metadata": {
    "tags": []
   },
   "outputs": [],
   "source": [
    "val data = logger.getMetric(\"account.equity\")\n",
    "MetricChart(data)"
   ]
  },
  {
   "cell_type": "markdown",
   "metadata": {},
   "source": [
    "## Metric Box Chart\n",
    "If you want to inspect how volatile the performance of a strategy is, the metric box chart comes in handy. It provides insights into how a metric is distributed over a period of time. If provides the following info per box:\n",
    "\n",
    "- The minimum\n",
    "- low percentile (default is 25.0)\n",
    "- mid percentile (default is 50.0, aka median)\n",
    "- high percentile (default is 75.0)\n",
    "- the maximum \n",
    "\n",
    "So in this case it shows these statsistics of the **account value change** based on the monthly aggregate of daily values."
   ]
  },
  {
   "cell_type": "code",
   "execution_count": null,
   "metadata": {},
   "outputs": [],
   "source": [
    "MetricBoxChart(data.perc())"
   ]
  },
  {
   "cell_type": "code",
   "execution_count": null,
   "metadata": {},
   "outputs": [],
   "source": [
    "MetricBoxChart(data.diff(), period=ChronoUnit.YEARS, lowPercentile = 10.0, highPercentile = 90.0)"
   ]
  },
  {
   "cell_type": "markdown",
   "metadata": {},
   "source": [
    "## Metric Histogram\n",
    "If we want to see the distribution of the metric values, we can use the MetricHistogram chart. Besides the metric data that needs to be plot, you can also specify the number of bins. On the x-axis the upperbound of each bin is displayed and on the y-axis how many oberservations fit in that bin. "
   ]
  },
  {
   "cell_type": "code",
   "execution_count": null,
   "metadata": {},
   "outputs": [],
   "source": [
    "MetricHistogram(data.diff(), 15)"
   ]
  },
  {
   "cell_type": "markdown",
   "metadata": {
    "tags": []
   },
   "source": [
    "## Calender Chart\n",
    "When evaluating the performance of a strategy, it is sometimes required to find out when the strategy was performing good and bad. A calendar charts allows you to plot a metric value per day, so it is easy to find out which days to further investigate. The slider at top of the chart allows for filtering only those days that are of interest based on their value.\n",
    "\n",
    "In the example below we plot the daily account change and loss to see when the strategy performed good (green) and when bad (red). It also demonstrates how to display metrics only for a limited timeframe."
   ]
  },
  {
   "cell_type": "code",
   "execution_count": null,
   "metadata": {
    "tags": []
   },
   "outputs": [],
   "source": [
    "val timeframe = Timeframe.fromYears(2016, 2018)\n",
    "val data2 = data.filter { timeframe.contains(it.info.time) }\n",
    "CalendarChart(data2.diff())"
   ]
  },
  {
   "cell_type": "markdown",
   "metadata": {},
   "source": [
    "# Multi-run tests\n",
    "A good way to back-test your strategy is to run it multiple times over different time-frames. This section shows how charts that come in handy to better understand the results of those type of back-tests. \n",
    "\n",
    "## Walk-forward\n",
    "A commonly used approach in back-testing is the so called walk-forward. The historic data is split in a number of equal periods and then the strategy is run for each period seperately. This shows how the strategy would have performed during these different periods and possible different regimes.\n",
    "\n",
    "In the following code we split the data in periods of 1 year and for each period run it. We then plot again the account value as observed during each run."
   ]
  },
  {
   "cell_type": "code",
   "execution_count": null,
   "metadata": {},
   "outputs": [],
   "source": [
    "roboquant.reset()\n",
    "\n",
    "feed.split(1.years).forEach { \n",
    "    roboquant.run(feed, it)   \n",
    "}\n",
    "\n",
    "val data = roboquant.logger.getMetric(\"account.equity\")\n",
    "MetricChart(data)"
   ]
  },
  {
   "cell_type": "markdown",
   "metadata": {},
   "source": [
    "## Random sampling\n",
    "Another great way to back-test your strategy is to run it for a fixed duration at many random starting points in time. This gives you a good insight what could be a good and bad outcome of your strategy. The following piece of code runs the strategy 25 times, each time for the duration of 250 trading days. Feel free to change the number of runs from 25 to a higher value like 50 or 100. It is kept small so that also people with older or less powerfull computers don't have to wait too long.\n",
    "\n",
    "In this case we plot the *account value* (= cash + positions) again and you can see there are times we do well but there are also periods when we loose money."
   ]
  },
  {
   "cell_type": "code",
   "execution_count": null,
   "metadata": {
    "tags": []
   },
   "outputs": [],
   "source": [
    "roboquant.reset()\n",
    "\n",
    "repeat(25) {\n",
    "    val tf = feed.sample(250) // get a sample with 250 trading \n",
    "    roboquant.run(feed, tf) \n",
    "}"
   ]
  },
  {
   "cell_type": "code",
   "execution_count": null,
   "metadata": {},
   "outputs": [],
   "source": [
    "val data = roboquant.logger.getMetric(\"account.equity\")\n",
    "MetricChart(data, useTime=false)"
   ]
  },
  {
   "cell_type": "markdown",
   "metadata": {},
   "source": [
    "If you want to see the same data, but this time plotted in time, you can use the same MetricChart class and provide the *useTime=true* parameter. This shows in which periods the strategy is performing well and in which periods it is struggeling. It is similar to the walk-forward approach, but provides at each moment in time multiple samples."
   ]
  },
  {
   "cell_type": "code",
   "execution_count": null,
   "metadata": {},
   "outputs": [],
   "source": [
    "MetricChart(data, useTime=true)"
   ]
  },
  {
   "cell_type": "markdown",
   "metadata": {},
   "source": [
    "# Extra\n",
    "\n",
    "## Displaying multiple charts\n",
    "\n",
    "By using the *chart.render()* method you can display multiple charts in the output section of a single cell. The following code selects 2 random assets from the feed and renders a candlestick chart for each one of them. It also demonstrates the excellent performance of the ECharts library, since every chart contains many data points."
   ]
  },
  {
   "cell_type": "code",
   "execution_count": null,
   "metadata": {
    "tags": []
   },
   "outputs": [],
   "source": [
    "val assets = feed.assets.take(2)\n",
    "for (asset in assets) PriceBarChart(feed, asset).render()"
   ]
  },
  {
   "cell_type": "markdown",
   "metadata": {},
   "source": [
    "Another example, lets see how the correlation between 5 random assets differs over timeframes of maximum 2 years. If you see empty matrix cells, it is because there are not enough observations to calculate a correlation for those two assets."
   ]
  },
  {
   "cell_type": "code",
   "execution_count": null,
   "metadata": {},
   "outputs": [],
   "source": [
    "val assets = feed.assets.take(5)\n",
    "feed.timeframe.split(2.years).forEach { \n",
    "    val chart = PriceCorrelationChart(feed, assets, it)\n",
    "    chart.height = 300\n",
    "    chart.render()\n",
    "}"
   ]
  },
  {
   "cell_type": "code",
   "execution_count": null,
   "metadata": {},
   "outputs": [],
   "source": []
  }
 ],
 "metadata": {
  "kernelspec": {
   "display_name": "Kotlin",
   "language": "kotlin",
   "name": "kotlin"
  },
  "language_info": {
   "codemirror_mode": "text/x-kotlin",
   "file_extension": ".kt",
   "mimetype": "text/x-kotlin",
   "name": "kotlin",
   "nbconvert_exporter": "",
   "pygments_lexer": "kotlin",
   "version": "1.7.0-dev-3303"
  }
 },
 "nbformat": 4,
 "nbformat_minor": 4
}
