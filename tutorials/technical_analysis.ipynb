{
 "cells": [
  {
   "cell_type": "markdown",
   "metadata": {},
   "source": [
    "# Technical Analysis\n",
    "Roboquant comes out of box with support for 200 technical indicators. These are indicators ranging from indicators such as ADX, MACD, RSI, Stochastic, Bollinger Bands to Candlestick pattern recognition. The underlying library that is used is the excellent TA-Lib. TA-Lib can be difficult to use due to its API. But roboquant makes it easy to use it in two ways: \n",
    "\n",
    "1. Wraps the indicators with a convenient layer that removes much of the boile plate. However normally you don't have to use layer this directly, but you can if you want to (see TALib and TALibBatch in the package org.roboquant.strategiees.ta) \n",
    "2. Have a dedicated TAStrategy (Technical Analysis Strategy) that allows to use the indicators to generate BUY and SELL signals with just a few lines of code\n",
    "\n",
    "In this notebook we explore the second option"
   ]
  },
  {
   "cell_type": "code",
   "execution_count": null,
   "metadata": {},
   "outputs": [],
   "source": [
    "%use roboquant(0.9-SNAPSHOT)\n",
    "Welcome()"
   ]
  },
  {
   "cell_type": "markdown",
   "metadata": {},
   "source": [
    "# Define the strategy\n",
    "We start by defining the actual strategy we want to use. There are three essestial steps:\n",
    "\n",
    "1) Create an instance of TAStrategy  and define how much history it should maintain. If you choose this value too low, certain indicators will fail and an exception will be thrown. For example if you want a moving average over 11 days, the history should be at least 11. If you choose it too large, it will take longer before your strategy starts to generate signals since it will wait untill it hjas enough history. \n",
    "\n",
    "    For many of the technical indicators, 15 is sufficient (also the default value).\n",
    "\n",
    "2) Define what you logic to use for generating BUY signals. This can be a combination of indicators and you can also include regular Kotlin code. The only restriction is that the last statement is a boolean; true if you want to BUY, false otherwise.\n",
    "\n",
    "3) Define what you logic to use for generating SELL signals. The same rules and conditions apply as for the BUY method.\n",
    "\n",
    "Please note, that although not common practice, the framework doesn't stop you from using bullish indicators to generate a SELL signal and bearish indicators to generate a BUY signal. "
   ]
  },
  {
   "cell_type": "code",
   "execution_count": null,
   "metadata": {},
   "outputs": [],
   "source": [
    "// Define a strategy with maximum of 15 days of history. It is important that these are enough days to calculate the various indicators.\n",
    "val strategy = TAStrategy(15)\n",
    "\n",
    "// We want to generate a BUY signal if we detect either one of the following wto candlestick patternsL: Morningstar or 3WhiteSoldiers\n",
    "strategy.buy {\n",
    "    ta.cdlMorningStar(it) || ta.cdl3WhiteSoldiers(it)\n",
    "}\n",
    "\n",
    "// We want to generate a SELL signal if we detect the candlestick pattern Two Crows and also observe that the 5 day weighted average is below the 9 day weighted average \n",
    "strategy.sell {\n",
    "    ta.cdl2Crows(it) && ta.ema(it.close, 5) < ta.ema(it.close, 9)\n",
    "}\n"
   ]
  },
  {
   "cell_type": "markdown",
   "metadata": {},
   "source": [
    "# Create and run the back test\n",
    "Now we can use this strategy just like any other strategy. In this case we use the S&P500 feed."
   ]
  },
  {
   "cell_type": "code",
   "execution_count": null,
   "metadata": {},
   "outputs": [],
   "source": [
    "val roboquant =  Roboquant(strategy, AccountSummary())\n",
    "\n",
    "val feed = AvroFeed.sp500()\n",
    "roboquant.run(feed)"
   ]
  },
  {
   "cell_type": "markdown",
   "metadata": {},
   "source": [
    "# Evaluate the results\n",
    "Now lets see what the outcome is. Spoiler alert, this strategy won't make you rich ;) "
   ]
  },
  {
   "cell_type": "code",
   "execution_count": null,
   "metadata": {},
   "outputs": [],
   "source": [
    "val account = roboquant.broker.account\n",
    "account.summary()"
   ]
  },
  {
   "cell_type": "code",
   "execution_count": null,
   "metadata": {},
   "outputs": [],
   "source": [
    "account.portfolio.summary()"
   ]
  },
  {
   "cell_type": "markdown",
   "metadata": {},
   "source": [
    "Let find out which trade generated most profit (realized PnL) and plot the price and all the trades for that asset"
   ]
  },
  {
   "cell_type": "code",
   "execution_count": null,
   "metadata": {},
   "outputs": [],
   "source": [
    "val asset = account.trades.maxByOrNull { it.pnl.value }!!.asset\n",
    "PriceBarChart(feed, asset, account.trades)"
   ]
  },
  {
   "cell_type": "code",
   "execution_count": null,
   "metadata": {},
   "outputs": [],
   "source": [
    "val metricData = roboquant.logger.getMetric(\"account.equity\")\n",
    "MetricChart(metricData)"
   ]
  },
  {
   "cell_type": "code",
   "execution_count": null,
   "metadata": {},
   "outputs": [],
   "source": []
  }
 ],
 "metadata": {
  "kernelspec": {
   "display_name": "Kotlin",
   "language": "kotlin",
   "name": "kotlin"
  },
  "language_info": {
   "codemirror_mode": "text/x-kotlin",
   "file_extension": ".kt",
   "mimetype": "text/x-kotlin",
   "name": "kotlin",
   "nbconvert_exporter": "",
   "pygments_lexer": "kotlin",
   "version": "1.6.20-dev-6372"
  }
 },
 "nbformat": 4,
 "nbformat_minor": 4
}
