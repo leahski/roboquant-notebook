{
 "cells": [
  {
   "cell_type": "markdown",
   "metadata": {},
   "source": [
    "# Introduction\n",
    "This notebook shows how to create a policy"
   ]
  },
  {
   "cell_type": "code",
   "execution_count": null,
   "metadata": {},
   "outputs": [],
   "source": [
    "%use roboquant\n",
    "Welcome()"
   ]
  },
  {
   "cell_type": "markdown",
   "metadata": {},
   "source": [
    "## Coding our own Order types\n",
    "\n",
    "We're now ready to develop a \"custom policy\". For this first example we extend the DefaultPolicy and use our own Order type."
   ]
  },
  {
   "cell_type": "code",
   "execution_count": null,
   "metadata": {},
   "outputs": [],
   "source": [
    "class MyPolicy(val percentage: Double=0.05) : DefaultPolicy() {\n",
    "\n",
    "        override fun createOrder(signal: Signal, qty: Double, price: Double): Order? {\n",
    "            \n",
    "            // We don't short and all other sell orders are covered by the bracket order.\n",
    "            if (qty < 0) return null\n",
    "            \n",
    "            val asset = signal.asset\n",
    "      \n",
    "            return BracketOrder(\n",
    "                MarketOrder(asset, qty),\n",
    "                LimitOrder(asset, -qty, price * (1 + percentage)),\n",
    "                StopOrder(asset, -qty, price* (1 - percentage))\n",
    "            )\n",
    "        }\n",
    "}"
   ]
  },
  {
   "cell_type": "markdown",
   "metadata": {},
   "source": [
    "## Create a new roboquant and evaluate it\n",
    "We are now ready to back-test our strategy. And we decided to test it against Apple stock. So what we need to do is:\n",
    "\n",
    "- Use a data feed that contains historic prices for the Apple stock\n",
    "- Create an instance of our strategy and tell it to focus on the Apple stock\n",
    "- Create an instance of a roboquant and run it against the available data "
   ]
  },
  {
   "cell_type": "code",
   "execution_count": null,
   "metadata": {},
   "outputs": [],
   "source": [
    "val feed = AvroFeed.sp500()\n",
    "val strategy = EMACrossover()\n",
    "val policy = MyPolicy()\n",
    "val roboquant =  Roboquant(strategy, AccountSummary(), policy = policy)\n",
    "\n",
    "roboquant.run(feed)"
   ]
  },
  {
   "cell_type": "markdown",
   "metadata": {},
   "source": [
    "## Get some insights\n",
    "Let's start to see how the account looks like after the expirement has run. The account holds the latest state"
   ]
  },
  {
   "cell_type": "code",
   "execution_count": null,
   "metadata": {},
   "outputs": [],
   "source": [
    "val account = roboquant.broker.account\n",
    "account.summary()"
   ]
  },
  {
   "cell_type": "markdown",
   "metadata": {},
   "source": [
    "By default we start a simulated broker account with a default of 1_000_000.00 USD cash. Lets see much realized profit we actually made with out trades:"
   ]
  },
  {
   "cell_type": "code",
   "execution_count": null,
   "metadata": {},
   "outputs": [],
   "source": [
    "account.trades.realizedPnL()"
   ]
  },
  {
   "cell_type": "markdown",
   "metadata": {},
   "source": [
    "## Lessons learned\n",
    "\n",
    "* It is not that hard to develop a new strategy and back-test it. \n",
    "* Even the most silly strategies can **appear** to make a profit if testing is based on unsound assumptions. In this case running our back test solely against Apple stocks and only going long, we were almost sure to make a profit.  "
   ]
  },
  {
   "cell_type": "code",
   "execution_count": null,
   "metadata": {},
   "outputs": [],
   "source": [
    "account.trades.take(10).summary()"
   ]
  },
  {
   "cell_type": "code",
   "execution_count": null,
   "metadata": {},
   "outputs": [],
   "source": [
    "account.portfolio.summary()"
   ]
  },
  {
   "cell_type": "code",
   "execution_count": null,
   "metadata": {},
   "outputs": [],
   "source": []
  }
 ],
 "metadata": {
  "kernelspec": {
   "display_name": "Kotlin",
   "language": "kotlin",
   "name": "kotlin"
  },
  "language_info": {
   "codemirror_mode": "text/x-kotlin",
   "file_extension": ".kt",
   "mimetype": "text/x-kotlin",
   "name": "kotlin",
   "nbconvert_exporter": "",
   "pygments_lexer": "kotlin",
   "version": "1.6.20-dev-3702"
  }
 },
 "nbformat": 4,
 "nbformat_minor": 4
}
