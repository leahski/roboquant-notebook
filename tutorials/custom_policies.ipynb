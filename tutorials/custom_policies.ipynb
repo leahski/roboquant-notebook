{
 "cells": [
  {
   "cell_type": "markdown",
   "metadata": {},
   "source": [
    "# Introduction\n",
    "This notebook shows how to create a policy"
   ]
  },
  {
   "cell_type": "code",
   "execution_count": null,
   "metadata": {},
   "outputs": [],
   "source": [
    "%use roboquant(0.9-SNAPSHOT)\n",
    "Welcome()"
   ]
  },
  {
   "cell_type": "markdown",
   "metadata": {},
   "source": [
    "## Extending default policy: creating our own order types\n",
    "\n",
    "We're now ready to develop a \"custom policy\". For this first example we extend the DefaultPolicy and create our own Order type."
   ]
  },
  {
   "cell_type": "code",
   "execution_count": null,
   "metadata": {},
   "outputs": [],
   "source": [
    "class MyPolicy(var percentage: Double=0.05) : DefaultPolicy() {\n",
    "\n",
    "        override fun createOrder(signal: Signal, qty: Double, price: Double): Order? {\n",
    "            \n",
    "            // We don't short and  other sell orders are covered by the bracket order.\n",
    "            if (qty < 0) return null\n",
    "            \n",
    "            val asset = signal.asset\n",
    "      \n",
    "            return BracketOrder(\n",
    "                MarketOrder(asset, qty),\n",
    "                TrailOrder(asset, -qty, percentage/2.0),\n",
    "                StopOrder(asset, -qty, price* (1 - percentage))\n",
    "            )\n",
    "        }\n",
    "}"
   ]
  },
  {
   "cell_type": "markdown",
   "metadata": {},
   "source": [
    "## Create a new roboquant and evaluate it\n",
    "We are now ready to back-test our strategy using the just created Policy. And suppose we want to find out what is the optimal percentage to use in our policy, we'll iterate over 10 values to see what results in the best profit."
   ]
  },
  {
   "cell_type": "code",
   "execution_count": null,
   "metadata": {},
   "outputs": [],
   "source": [
    "val feed = AvroFeed.sp500()\n",
    "val strategy = EMACrossover()\n",
    "val policy = MyPolicy()\n",
    "val roboquant =  Roboquant(strategy, AccountSummary(), policy = policy)\n",
    "\n",
    "for (percentage in 1..10) {\n",
    "    policy.percentage = percentage / 100.0\n",
    "    roboquant.run(feed, runName = \"run-$percentage%\")\n",
    "}"
   ]
  },
  {
   "cell_type": "code",
   "execution_count": null,
   "metadata": {},
   "outputs": [],
   "source": [
    "var data = roboquant.logger.getMetric(\"account.equity\")\n",
    "MetricChart(data)"
   ]
  }
 ],
 "metadata": {
  "kernelspec": {
   "display_name": "Kotlin",
   "language": "kotlin",
   "name": "kotlin"
  },
  "language_info": {
   "codemirror_mode": "text/x-kotlin",
   "file_extension": ".kt",
   "mimetype": "text/x-kotlin",
   "name": "kotlin",
   "nbconvert_exporter": "",
   "pygments_lexer": "kotlin",
   "version": "1.6.20-dev-6372"
  }
 },
 "nbformat": 4,
 "nbformat_minor": 4
}
