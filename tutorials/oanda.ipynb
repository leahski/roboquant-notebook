{
 "cells": [
  {
   "cell_type": "markdown",
   "metadata": {
    "tags": []
   },
   "source": [
    "# Introduction\n",
    "This notebook demonstrates the integration capabilities of roboquant with OANDA. OANDA is a broker with a focus on FOREX, but also offers Commodity CFDs. \n",
    "\n",
    "<img src=\"https://www.oanda.com/assets/images/oanda-logo.20eebbd07880.svg\" alt=\"Binance\" width=\"200\"/>\n",
    "\n",
    "\n",
    "\n",
    "There are currently three types of integration with OANDA available:\n",
    "\n",
    "1. Historic data from OANDA, can be used during back testing \n",
    "2. Live data from OANDA, cna be used during live testing and paper trading\n",
    "3. Paper trading broker on the OANDA platform (WIP)\n"
   ]
  },
  {
   "cell_type": "code",
   "execution_count": null,
   "metadata": {},
   "outputs": [],
   "source": [
    "%use roboquant\n",
    "\n",
    "// By default the required OANDA classes are not imported, so we need to do that first. \n",
    "// This will load the various Feed and Broker classes for integrating with OANDA.\n",
    "import org.roboquant.oanda.*\n",
    "import org.roboquant.ta.*\n",
    "\n",
    "// By default USD, EUR and GBP are displayed with 2 decimals, but for FOREX trading we want more precision in order to see small differences\n",
    "// So we increase the digits for all registered currencies by 3\n",
    "Currency.increaseDigits(3)\n",
    "\n",
    "Welcome()"
   ]
  },
  {
   "cell_type": "markdown",
   "metadata": {},
   "source": [
    "# Back Testing\n",
    "The first example shows how to use historic data from OANDA in a back test. To use Alpaca you'll need to authenticate with a Key and Secret. There are several ways to pass them to the feed, either directly or through system environment or a property file. \n",
    "\n",
    "\n",
    "<div class=\"alert alert-block alert-info\">\n",
    "Make sure you use the demo account since roboquant trading functionality is still very much in Beta\n",
    "</div>"
   ]
  },
  {
   "cell_type": "code",
   "execution_count": null,
   "metadata": {},
   "outputs": [],
   "source": [
    "val feed = OANDAHistoricFeed()\n",
    "val timeframe = Timeframe.parse(\"2021-08-10\", \"2021-08-11\")\n",
    "feed.retrieveCandles(\"EUR_USD\", timeframe = timeframe)\n",
    "feed.assets.summary()"
   ]
  },
  {
   "cell_type": "code",
   "execution_count": null,
   "metadata": {},
   "outputs": [],
   "source": [
    "PriceBarChart(feed, feed.assets.first())"
   ]
  },
  {
   "cell_type": "markdown",
   "metadata": {},
   "source": [
    "We'll define strategy of which the buy and sell signals are based on candlestick patterns. Although trading Forex is like any another asset class, there are some configuration parameters that deviate from assets classes (less spread, more shorting)\n",
    "OANDA.roboquant presets these parameters"
   ]
  },
  {
   "cell_type": "code",
   "execution_count": null,
   "metadata": {},
   "outputs": [],
   "source": [
    "val strategy = TAStrategy(15)\n",
    "\n",
    "// We want to generate a BUY signal if we detect a Three White Soldiers pattern\n",
    "strategy.buy { cdl3WhiteSoldiers(it) }\n",
    "\n",
    "// We want to generate a SELL signal if we detect the candlestick pattern Three Black Crows \n",
    "strategy.sell { cdl3BlackCrows(it) }\n",
    "\n",
    "val roboquant = OANDA.roboquant(strategy, AccountSummary())"
   ]
  },
  {
   "cell_type": "code",
   "execution_count": null,
   "metadata": {},
   "outputs": [],
   "source": [
    "roboquant.run(feed)"
   ]
  },
  {
   "cell_type": "markdown",
   "metadata": {},
   "source": [
    "## Results"
   ]
  },
  {
   "cell_type": "code",
   "execution_count": null,
   "metadata": {},
   "outputs": [],
   "source": [
    "val account = roboquant.broker.account\n",
    "account.fullSummary()"
   ]
  },
  {
   "cell_type": "code",
   "execution_count": null,
   "metadata": {},
   "outputs": [],
   "source": [
    "val metric = roboquant.logger.getMetric(\"account.equity\")\n",
    "MetricChart(metric)"
   ]
  },
  {
   "cell_type": "code",
   "execution_count": null,
   "metadata": {},
   "outputs": [],
   "source": [
    "feed.assets.forEach { \n",
    "    PriceBarChart(feed, it, account.trades).render()\n",
    "}"
   ]
  },
  {
   "cell_type": "markdown",
   "metadata": {},
   "source": [
    "# Live Testing\n",
    "Now we create an instance of the OANDALiveFeed and subscribe to three forex pairs. In order to keep it simple, in this example we subscribe to pairs denoted in USD so we can trade without having to define a currency converter. \n",
    "If you run this cell will FOREX exchanges are closed, there will no orders and trades of course."
   ]
  },
  {
   "cell_type": "code",
   "execution_count": null,
   "metadata": {},
   "outputs": [],
   "source": [
    "val feed = OANDALiveFeed()\n",
    "feed.subscribeOrderBook(\"GBP_USD\", \"EUR_USD\", \"AUD_USD\")"
   ]
  },
  {
   "cell_type": "code",
   "execution_count": null,
   "metadata": {},
   "outputs": [],
   "source": [
    "val strategy = EMACrossover()\n",
    "val eventRecorder = EventRecorder()\n",
    "val roboquant = OANDA.roboquant(strategy, eventRecorder, AccountSummary())"
   ]
  },
  {
   "cell_type": "markdown",
   "metadata": {},
   "source": [
    "We have all the components assembled that we need to start the test. All that remains, is to start the run and evaluate the strategy against the feed. We'll run it for 5 minutes, but you can change this. "
   ]
  },
  {
   "cell_type": "code",
   "execution_count": null,
   "metadata": {},
   "outputs": [],
   "source": [
    "val timeframe = Timeframe.next(5.minutes)\n",
    "roboquant.run(feed, timeframe)"
   ]
  },
  {
   "cell_type": "markdown",
   "metadata": {},
   "source": [
    "## Results\n",
    "The run has completed, lets see a few result. Of course if the run was outside trading hours without any price action, there will not be much to see."
   ]
  },
  {
   "cell_type": "code",
   "execution_count": null,
   "metadata": {},
   "outputs": [],
   "source": [
    "val account = roboquant.broker.account\n",
    "account.fullSummary()"
   ]
  },
  {
   "cell_type": "code",
   "execution_count": null,
   "metadata": {},
   "outputs": [],
   "source": [
    "for (asset in feed.assets) PriceChart(eventRecorder, asset, account.trades).render()"
   ]
  },
  {
   "cell_type": "code",
   "execution_count": null,
   "metadata": {},
   "outputs": [],
   "source": [
    "val logger = roboquant.logger\n",
    "logger.metricNames.summary()"
   ]
  },
  {
   "cell_type": "markdown",
   "metadata": {},
   "source": [
    "## Charts\n",
    "Also lets plot two charts. See also the visualization notebook for examples of how to use charts to display results"
   ]
  },
  {
   "cell_type": "code",
   "execution_count": null,
   "metadata": {},
   "outputs": [],
   "source": [
    "val accountValue = logger.getMetric(\"account.equity\")\n",
    "MetricChart(accountValue, useTime = false)"
   ]
  },
  {
   "cell_type": "code",
   "execution_count": null,
   "metadata": {},
   "outputs": [],
   "source": [
    "TradeChartByAsset(account.trades)"
   ]
  },
  {
   "cell_type": "markdown",
   "metadata": {},
   "source": [
    "# Paper Trading\n",
    "And just as it was the case in the previous section, most live feeds will only generate data during trading hours. So if you run these code cells outside trading hours, you won't see signals and orders being generated.\n",
    "\n",
    "<div class=\"alert alert-block alert-warning\">\n",
    "The integration with the OANDA trading and broker API is still very much work in progress, so only use this with a paper trading account\n",
    "</div>"
   ]
  },
  {
   "cell_type": "code",
   "execution_count": null,
   "metadata": {},
   "outputs": [],
   "source": [
    "val broker = OANDABroker()\n",
    "val account = broker.account\n",
    "Config.exchangeRates = OANDAExchangeRates()"
   ]
  },
  {
   "cell_type": "code",
   "execution_count": null,
   "metadata": {},
   "outputs": [],
   "source": [
    "// This provides an overview of your demo account portfolio at OANDA\n",
    "// before we started the actual paper trading run\n",
    "account.portfolio.summary()"
   ]
  },
  {
   "cell_type": "markdown",
   "metadata": {},
   "source": [
    "## Run\n",
    "Get the data we want to use to feed our strategy. The setup of the feed is exactly the same as before. There is no difference in the feed if you use it for live testing with the builtin Simulated Broker or paper- and live-trading. This time we'll run it for 5 minutes."
   ]
  },
  {
   "cell_type": "code",
   "execution_count": null,
   "metadata": {},
   "outputs": [],
   "source": [
    "val feed = OANDALiveFeed()\n",
    "feed.subscribeOrderBook(account.assets)"
   ]
  },
  {
   "cell_type": "code",
   "execution_count": null,
   "metadata": {},
   "outputs": [],
   "source": [
    "val strategy = EMACrossover(7, 13) // Use EMA Crossover strategy\n",
    "val policy = DefaultPolicy(shorting = true) // We want to allow for short positions if we do CFD/Forex trading\n",
    "val assets = feed.assets\n",
    "\n",
    "val eventRecorder = EventRecorder()\n",
    "val roboquant = Roboquant(strategy, AccountSummary(), eventRecorder, policy = policy, broker = broker)"
   ]
  },
  {
   "cell_type": "code",
   "execution_count": null,
   "metadata": {},
   "outputs": [],
   "source": [
    "val timeframe = Timeframe.next(20.minutes) // restrict the time we will run the paper trading\n",
    "roboquant.run(feed, timeframe)"
   ]
  },
  {
   "cell_type": "markdown",
   "metadata": {},
   "source": [
    "## Results"
   ]
  },
  {
   "cell_type": "code",
   "execution_count": null,
   "metadata": {},
   "outputs": [],
   "source": [
    "val account = roboquant.broker.account\n",
    "account.fullSummary()"
   ]
  },
  {
   "cell_type": "code",
   "execution_count": null,
   "metadata": {},
   "outputs": [],
   "source": [
    "for (asset in assets) PriceChart(eventRecorder, asset, account.trades).render()"
   ]
  },
  {
   "cell_type": "code",
   "execution_count": null,
   "metadata": {},
   "outputs": [],
   "source": [
    "val metricData = roboquant.logger.getMetric(\"account.equity\")\n",
    "MetricChart(metricData)"
   ]
  },
  {
   "cell_type": "code",
   "execution_count": null,
   "metadata": {},
   "outputs": [],
   "source": [
    "TradeChart(account.trades)"
   ]
  },
  {
   "cell_type": "code",
   "execution_count": null,
   "metadata": {},
   "outputs": [],
   "source": []
  }
 ],
 "metadata": {
  "kernelspec": {
   "display_name": "Kotlin",
   "language": "kotlin",
   "name": "kotlin"
  },
  "language_info": {
   "codemirror_mode": "text/x-kotlin",
   "file_extension": ".kt",
   "mimetype": "text/x-kotlin",
   "name": "kotlin",
   "nbconvert_exporter": "",
   "pygments_lexer": "kotlin",
   "version": "1.7.0-dev-1825"
  }
 },
 "nbformat": 4,
 "nbformat_minor": 4
}
