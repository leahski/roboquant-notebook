{
 "cells": [
  {
   "cell_type": "markdown",
   "metadata": {},
   "source": [
    "# Introduction\n",
    "This notebook demonstrates the integration capabilities of roboquant with OANDA. OANDA is a broker with a focus on FOREX, but also offers CFD and several commodities. \n",
    "\n",
    "There are currently three types of integration available:\n",
    "\n",
    "1. Back testing with historic data from OANDA \n",
    "2. Live testing with live data from OANDA \n",
    "3. Paper trading on OANDA (WIP)\n",
    "\n",
    "\n",
    "By default the required OANDA classes are not imported, so we need to do that first. This will load the Feed and Broker classes for integrating with OANDA."
   ]
  },
  {
   "cell_type": "code",
   "execution_count": null,
   "metadata": {},
   "outputs": [],
   "source": [
    "%use roboquant\n",
    "import org.roboquant.oanda.*\n",
    "Welcome()"
   ]
  },
  {
   "cell_type": "code",
   "execution_count": null,
   "metadata": {},
   "outputs": [],
   "source": [
    "// By default USD are displayed with 2 decimals, but for FOREX trading we want more precision\n",
    "Currency.USD.defaultFractionDigits = 4"
   ]
  },
  {
   "cell_type": "markdown",
   "metadata": {},
   "source": [
    "# Back Testing\n",
    "The first example shows how to use historic data from OANDA in a back test. To use Alpaca you'll need to authenticate with a Key and Secret. There are several ways to pass them to the feed, either directly or through system environment or a property file:\n",
    "\n",
    "\n",
    "<div class=\"alert alert-block alert-info\">\n",
    "Make sure you use the demo account since roboquant is still very much in Beta\n",
    "</div>"
   ]
  },
  {
   "cell_type": "code",
   "execution_count": null,
   "metadata": {},
   "outputs": [],
   "source": [
    "val feed = OANDAHistoricFeed()\n",
    "val timeFrame = TimeFrame.parse(\"2021-08-10\", \"2021-08-11\")\n",
    "feed.retrieveCandles(\"EUR_USD\", \"GBP_USD\", timeFrame = timeFrame)\n",
    "feed.assets.summary()"
   ]
  },
  {
   "cell_type": "code",
   "execution_count": null,
   "metadata": {},
   "outputs": [],
   "source": [
    "PriceBarChart(feed, feed.assets.first())"
   ]
  },
  {
   "cell_type": "markdown",
   "metadata": {},
   "source": [
    "Although trading Forex is just like any another asset class, there are some aspects that are different from assets classes like stocks:\n",
    "\n",
    "- Being short is as common as being long \n",
    "- The spread (for common currency pairs) is lower than most stocks"
   ]
  },
  {
   "cell_type": "code",
   "execution_count": null,
   "metadata": {},
   "outputs": [],
   "source": [
    "fun getRoboquant(strategy: Strategy, vararg metrics: Metric) : Roboquant<MemoryLogger> {\n",
    "    \n",
    "    // We allow shorting\n",
    "    val policy = DefaultPolicy(shorting = true)\n",
    "\n",
    "    // We use a lower cost model, since the default of 10 BIPS is too much for Forex \n",
    "    // We select 2.0 BIPS (OANDA typically is around 1.5 which high peaks of 10.0)\n",
    "    val costModel = DefaultCostModel(2.0)\n",
    "    val broker = SimBroker(costModel = costModel)\n",
    "\n",
    "    return Roboquant(strategy = strategy, AccountSummary(), *metrics, policy = policy, broker = broker)\n",
    "}"
   ]
  },
  {
   "cell_type": "markdown",
   "metadata": {},
   "source": [
    "We'll define strategy of which the buy and sell signals are based on candlestick patterns"
   ]
  },
  {
   "cell_type": "code",
   "execution_count": null,
   "metadata": {},
   "outputs": [],
   "source": [
    "val strategy = TAStrategy(15)\n",
    "\n",
    "// We want to generate a BUY signal if we detect either one of the following wto candlestick patternsL: Morningstar or 3WhiteSoldiers\n",
    "strategy.buy { ta.cdl3WhiteSoldiers(it) }\n",
    "\n",
    "// We want to generate a SELL signal if we detect the candlestick pattern Two Crows \n",
    "strategy.sell { ta.cdl3BlackCrows(it) }\n",
    "\n",
    "val roboquant = getRoboquant(strategy)"
   ]
  },
  {
   "cell_type": "code",
   "execution_count": null,
   "metadata": {},
   "outputs": [],
   "source": [
    "roboquant.run(feed)"
   ]
  },
  {
   "cell_type": "code",
   "execution_count": null,
   "metadata": {},
   "outputs": [],
   "source": [
    "val account = roboquant.broker.account\n",
    "account.summary()"
   ]
  },
  {
   "cell_type": "code",
   "execution_count": null,
   "metadata": {},
   "outputs": [],
   "source": [
    "account.portfolio.summary()"
   ]
  },
  {
   "cell_type": "code",
   "execution_count": null,
   "metadata": {},
   "outputs": [],
   "source": [
    "val metric = roboquant.logger.getMetric(\"account.value\")\n",
    "MetricChart(metric)"
   ]
  },
  {
   "cell_type": "code",
   "execution_count": null,
   "metadata": {},
   "outputs": [],
   "source": [
    "feed.assets.forEach { \n",
    "    PriceBarChart(feed, it, account.trades).render()\n",
    "}"
   ]
  },
  {
   "cell_type": "markdown",
   "metadata": {},
   "source": [
    "## Results"
   ]
  },
  {
   "cell_type": "code",
   "execution_count": null,
   "metadata": {},
   "outputs": [],
   "source": [
    "val metric = roboquant.logger.getMetric(\"account.value\")\n",
    "MetricChart(metric)"
   ]
  },
  {
   "cell_type": "code",
   "execution_count": null,
   "metadata": {},
   "outputs": [],
   "source": [
    "feed.assets.forEach { \n",
    "    PriceBarChart(feed, it, account.trades).render()\n",
    "}"
   ]
  },
  {
   "cell_type": "markdown",
   "metadata": {},
   "source": [
    "# Live Testing\n",
    "Now we create an instance of the OANDALiveFeed and subscribe to three forex pairs. In order to keep it simple, in this example we subscribe to pairs denoted in USD so we can trade without having to define a currency converter. \n",
    "If you run this cell will FOREX exchanges are closed, there will no orders and trades of course."
   ]
  },
  {
   "cell_type": "code",
   "execution_count": null,
   "metadata": {},
   "outputs": [],
   "source": [
    "val feed = OANDALiveFeed()\n",
    "feed.subscribeOrderBook(\"EUR_USD\", \"GBP_USD\", \"AUD_USD\")"
   ]
  },
  {
   "cell_type": "code",
   "execution_count": null,
   "metadata": {},
   "outputs": [],
   "source": [
    "val strategy = EMACrossover()\n",
    "val metric = PriceMetric(*feed.assets.toTypedArray())\n",
    "val roboquant = getRoboquant(strategy, metric)"
   ]
  },
  {
   "cell_type": "markdown",
   "metadata": {},
   "source": [
    "We have all the components assembled that we need to start the test. All that remains, is to start the run and evaluate the strategy against the feed. We'll run it for 15 minutes, but you can change this. "
   ]
  },
  {
   "cell_type": "code",
   "execution_count": null,
   "metadata": {},
   "outputs": [],
   "source": [
    "val timeFrame = TimeFrame.nextMinutes(60)\n",
    "roboquant.run(feed, timeFrame)"
   ]
  },
  {
   "cell_type": "markdown",
   "metadata": {},
   "source": [
    "## Results\n",
    "The run has completed, lets see a few result. Of course if the run was outside trading hours without any price action, there will not be much to see."
   ]
  },
  {
   "cell_type": "code",
   "execution_count": null,
   "metadata": {},
   "outputs": [],
   "source": [
    "val account = roboquant.broker.account\n",
    "account.summary()"
   ]
  },
  {
   "cell_type": "code",
   "execution_count": null,
   "metadata": {},
   "outputs": [],
   "source": [
    "account.portfolio.summary()"
   ]
  },
  {
   "cell_type": "code",
   "execution_count": null,
   "metadata": {},
   "outputs": [],
   "source": [
    "PriceChart(metric, metric.assets.first(), account.trades)"
   ]
  },
  {
   "cell_type": "code",
   "execution_count": null,
   "metadata": {},
   "outputs": [],
   "source": [
    "val logger = roboquant.logger\n",
    "logger.summary().print()"
   ]
  },
  {
   "cell_type": "code",
   "execution_count": null,
   "metadata": {},
   "outputs": [],
   "source": [
    "logger.getMetricNames().summary()"
   ]
  },
  {
   "cell_type": "markdown",
   "metadata": {},
   "source": [
    "## Charts\n",
    "Also lets plot two charts. See also the visualization notebook for examples of how to use charts to display results"
   ]
  },
  {
   "cell_type": "code",
   "execution_count": null,
   "metadata": {},
   "outputs": [],
   "source": [
    "val accountValue = logger.getMetric(\"account.value\")\n",
    "MetricChart(accountValue, useTime = false)"
   ]
  },
  {
   "cell_type": "code",
   "execution_count": null,
   "metadata": {},
   "outputs": [],
   "source": [
    "TradeChartByAsset(account.trades)"
   ]
  },
  {
   "cell_type": "markdown",
   "metadata": {},
   "source": [
    "# Paper Trading\n",
    "And just as it was the case in the previous section, most live feeds will only generate data during trading hours. So if you run these code cells outside trading hours, you won't see signals and orders being generated.\n",
    "\n",
    "<div class=\"alert alert-block alert-warning\">\n",
    "The integration with the trading API is still very much work in progress, so only use this with a paper trading account\n",
    "</div>"
   ]
  },
  {
   "cell_type": "code",
   "execution_count": null,
   "metadata": {},
   "outputs": [],
   "source": [
    "val currencyConverter = FixedExchangeRates(Currency.EUR, \n",
    "                                          Currency.USD to 0.9, \n",
    "                                          Currency.GBP to 1.2)\n",
    "val broker = OANDABroker(currencyConverter = currencyConverter)\n",
    "val account = broker.account"
   ]
  },
  {
   "cell_type": "code",
   "execution_count": null,
   "metadata": {},
   "outputs": [],
   "source": [
    "account.summary()"
   ]
  },
  {
   "cell_type": "code",
   "execution_count": null,
   "metadata": {},
   "outputs": [],
   "source": [
    "account.portfolio.summary()"
   ]
  },
  {
   "cell_type": "code",
   "execution_count": null,
   "metadata": {},
   "outputs": [],
   "source": [
    "val strategy = EMACrossover(3, 5)\n",
    "val policy = DefaultPolicy(shorting = true)\n",
    "val roboquant = Roboquant(strategy, AccountSummary(), ProgressMetric(), policy = policy, broker = broker)"
   ]
  },
  {
   "cell_type": "markdown",
   "metadata": {},
   "source": [
    "The setup of the feed is exactly the same as before. There is no difference in the feed if you use it for live testing with the builtin Simulated Broker or paper- and live-trading. Alos this time we'll run it for 30 minutes."
   ]
  },
  {
   "cell_type": "code",
   "execution_count": null,
   "metadata": {},
   "outputs": [],
   "source": [
    "val feed = OANDALiveFeed()\n",
    "val symbols = account.portfolio.assets.map { it.symbol }.toTypedArray()\n",
    "feed.subscribeOrderBook(*symbols)"
   ]
  },
  {
   "cell_type": "code",
   "execution_count": null,
   "metadata": {},
   "outputs": [],
   "source": [
    "val timeFrame = TimeFrame.nextMinutes(5)\n",
    "roboquant.run(feed, timeFrame)"
   ]
  },
  {
   "cell_type": "markdown",
   "metadata": {},
   "source": [
    "## Results"
   ]
  },
  {
   "cell_type": "code",
   "execution_count": null,
   "metadata": {},
   "outputs": [],
   "source": [
    "account.summary()"
   ]
  },
  {
   "cell_type": "code",
   "execution_count": null,
   "metadata": {},
   "outputs": [],
   "source": []
  }
 ],
 "metadata": {
  "kernelspec": {
   "display_name": "Kotlin",
   "language": "kotlin",
   "name": "kotlin"
  },
  "language_info": {
   "codemirror_mode": "text/x-kotlin",
   "file_extension": ".kt",
   "mimetype": "text/x-kotlin",
   "name": "kotlin",
   "nbconvert_exporter": "",
   "pygments_lexer": "kotlin",
   "version": "1.6.20-dev-3702"
  }
 },
 "nbformat": 4,
 "nbformat_minor": 4
}
