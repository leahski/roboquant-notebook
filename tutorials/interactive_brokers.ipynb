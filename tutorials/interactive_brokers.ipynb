{
 "cells": [
  {
   "cell_type": "markdown",
   "metadata": {},
   "source": [
    "# Introduction\n",
    "This notebook demonstrates the integration of roboquant with Interactive Brokers (IBKR). \n",
    "<div class=\"alert alert-block alert-success\">\n",
    "<img src=\"https://advisorhub.com/wp-content/uploads/2019/04/IB-Logo-blk-text.png\" width=400 />\n",
    "</div>\n",
    "\n",
    "> Disclaimer: roboquant is not affiliated with Interactive Brokers Group, Inc.’s.\n",
    "\n",
    "\n",
    "There are currently 3 types of integration available:\n",
    "\n",
    "1. Use historic data from IBKR for back testing \n",
    "2. Use live data from IBKR for live testing \n",
    "2. Use the IBKR trading functionality (WIP) for paper trading\n",
    "\n",
    "<div class=\"alert alert-block alert-warning\">\n",
    "Make sure you always select paper trading account in your IB Gateway or Trader Workstation, since roboquant is still very much beta. If you didn't yet setup a paper trading account, click this <a href=\"https://ibkr.info/node/663\">article</a>  for some more info\n",
    "</div>\n",
    "\n",
    "\n",
    "We'll run a very simple strategy since the focus is IBKR integration for this notebook. But there are other notebooks available that focus on how to develop custom strategies and other aspect of roboquant like charting.\n",
    "\n",
    "\n",
    "# Installation\n",
    "\n",
    "The setup and integration with IBKR is a more complicated than with other brokers. The two extra steps that are required:\n",
    "\n",
    "1.You cannot connect directly to an IBKR server. You will always need to run either ```IB Gateway``` or ```Trader Workstation```, and roboquant will connect to that instance. ```IB Gateway``` is the better option of the two, since it provides nice insights into the called API's and is less heavy weight. If you don't have it yet installed, you can download IB Gateway from [here](https://www.interactivebrokers.co.uk/en/index.php?f=16454)\n",
    "\n",
    "> Because you need a running IB Gateway that is accessible, you won't be able to successfully run this notebook on public infrastructure like MyBinder.org or Datalore by JetBrains.\n",
    "\n",
    "2. The TWS-API client cannot be packaged together with roboquant due to license constraints. So you'll have to download this file yourself, and then make it available to roboquant by uploading it to the tutorials directory.  \n",
    "\n",
    "    - Download the [TWS API client](https://interactivebrokers.github.io/downloads/twsapi_macunix.976.01.zip) from the IBKR website.\n",
    "    - Unzip the downloaded file and locate the file called ```TwsApi.jar```. It can be found at following path ```IBJts/source/JavaClient/TwsApi.jar``` inside the extracted folder.\n",
    "    - Upload this single jar file to the notebook directory.\n",
    "\n",
    "\n",
    "After that, you can run the next cell and if no errors you are good to go."
   ]
  },
  {
   "cell_type": "code",
   "execution_count": null,
   "metadata": {},
   "outputs": [],
   "source": [
    "%use roboquant(0.9-SNAPSHOT)\n",
    "@file:DependsOn(\"TwsApi.jar\")\n",
    "@file:DependsOn(\"org.roboquant:roboquant-ibkr:0.9-SNAPSHOT\")\n",
    "import org.roboquant.ibkr.*\n",
    "Welcome()"
   ]
  },
  {
   "cell_type": "markdown",
   "metadata": {
    "tags": []
   },
   "source": [
    "# Back Testing\n",
    "\n",
    "The first part shows how to retrieve historic prices and run a back test. In order to keep is simple we retrieve a single asset, but you can retrieve many assets and they will all be available during the back testing. \n",
    "Because IBKR offers data for many different assets in different markets, you need to specify what specific assets you are interested in. A simple symbol name won't be sufficient. For stock type of assets, at least supply the Symbol, Currency and possible the Exchange.\n",
    "\n",
    "\n",
    "> Typically a paid subscription is required to receive market data from IBKR. Also IBKR has strict limitations on how often you can make an API call. So if you require high frequency market data for running your strategy, IBKR market data subscriptions might not be the best fit."
   ]
  },
  {
   "cell_type": "code",
   "execution_count": null,
   "metadata": {},
   "outputs": [],
   "source": [
    "// Uncomment an asset that you have a market data subscription for\n",
    "val symbols = listOf(\"TSLA\", \"MSFT\", \"GOOGL\", \"JPM\")\n",
    "val assets = symbols.map { Asset(it) }.toTypedArray()"
   ]
  },
  {
   "cell_type": "code",
   "execution_count": null,
   "metadata": {},
   "outputs": [],
   "source": [
    "val feed = IBKRHistoricFeed()\n",
    "val endDate = Instant.parse(\"2022-01-01T00:00:00Z\")\n",
    "feed.retrieve(*assets, endDate = endDate)"
   ]
  },
  {
   "cell_type": "code",
   "execution_count": null,
   "metadata": {},
   "outputs": [],
   "source": [
    "PriceBarChart(feed, assets.first())"
   ]
  },
  {
   "cell_type": "code",
   "execution_count": null,
   "metadata": {},
   "outputs": [],
   "source": [
    "val strategy = EMACrossover(3, 5)\n",
    "val roboquant =  Roboquant(strategy, AccountSummary())"
   ]
  },
  {
   "cell_type": "code",
   "execution_count": null,
   "metadata": {},
   "outputs": [],
   "source": [
    "roboquant.run(feed)"
   ]
  },
  {
   "cell_type": "code",
   "execution_count": null,
   "metadata": {},
   "outputs": [],
   "source": [
    "val account = roboquant.broker.account\n",
    "account.summary()"
   ]
  },
  {
   "cell_type": "code",
   "execution_count": null,
   "metadata": {},
   "outputs": [],
   "source": [
    "val metricResults = roboquant.logger.getMetric(\"account.equity\")\n",
    "MetricChart(metricResults)"
   ]
  },
  {
   "cell_type": "code",
   "execution_count": null,
   "metadata": {
    "tags": []
   },
   "outputs": [],
   "source": [
    "PriceChart(feed, assets.first(), account.trades)"
   ]
  },
  {
   "cell_type": "markdown",
   "metadata": {},
   "source": [
    "# Live Testing\n",
    "Now we create an instance of the IBKRFeed and subscribe to the same asset. The setup is very much identical as back testing, the only difference is that now we use a live data feed instead of a historic data feed.\n",
    "Of course, outside trading hours there won't be price data and no signals or orders will be generated.  "
   ]
  },
  {
   "cell_type": "code",
   "execution_count": null,
   "metadata": {
    "tags": []
   },
   "outputs": [],
   "source": [
    "val feed = IBKRLiveFeed()\n",
    "feed.subscribe(*assets)"
   ]
  },
  {
   "cell_type": "code",
   "execution_count": null,
   "metadata": {},
   "outputs": [],
   "source": [
    "val strategy = EMACrossover(3, 5)\n",
    "val eventRecorder = EventRecorder()\n",
    "val roboquant =  Roboquant(strategy, AccountSummary(), eventRecorder)"
   ]
  },
  {
   "cell_type": "markdown",
   "metadata": {},
   "source": [
    "We have all the components assembled that we need to start the test. All that remains, is to start the run and evaluate the strategy against the feed. \n",
    "We'll run it for 30 minutes, but you can change this. But remember the EMA Crossover is only going to evaluate after at least three observations.\n",
    "\n",
    "If the time that is displayed in the progress bar looks off by a few hours, please realize that roboquant uses a timezone independent representation for all internal time processing (same as UTC)."
   ]
  },
  {
   "cell_type": "code",
   "execution_count": null,
   "metadata": {},
   "outputs": [],
   "source": [
    "val timeframe = Timeframe.next(30.minutes)\n",
    "roboquant.run(feed, timeframe)\n",
    "feed.disconnect()"
   ]
  },
  {
   "cell_type": "markdown",
   "metadata": {},
   "source": [
    "## Results\n",
    "The run has completed, lets see a few result. Of course if the run was outside trading hours without any price action, there will not be much to see."
   ]
  },
  {
   "cell_type": "code",
   "execution_count": null,
   "metadata": {},
   "outputs": [],
   "source": [
    "val account = roboquant.broker.account\n",
    "account.summary()"
   ]
  },
  {
   "cell_type": "code",
   "execution_count": null,
   "metadata": {},
   "outputs": [],
   "source": [
    "account.portfolio.summary()"
   ]
  },
  {
   "cell_type": "code",
   "execution_count": null,
   "metadata": {},
   "outputs": [],
   "source": [
    "val logger = roboquant.logger\n",
    "logger.summary()"
   ]
  },
  {
   "cell_type": "markdown",
   "metadata": {},
   "source": [
    "## Charts\n",
    "Also lets plot two charts. See also the visualization notebook for examples of how to use charts to display results"
   ]
  },
  {
   "cell_type": "code",
   "execution_count": null,
   "metadata": {},
   "outputs": [],
   "source": [
    "logger.metricNames.summary()"
   ]
  },
  {
   "cell_type": "code",
   "execution_count": null,
   "metadata": {},
   "outputs": [],
   "source": [
    "val accountValue = logger.getMetric(\"account.equity\")\n",
    "MetricChart(accountValue, useTime = false)"
   ]
  },
  {
   "cell_type": "code",
   "execution_count": null,
   "metadata": {},
   "outputs": [],
   "source": [
    "TradeChart(account)"
   ]
  },
  {
   "cell_type": "markdown",
   "metadata": {},
   "source": [
    "# Paper Trading\n",
    "And just as it was the case in the previous sections, most live feeds will only generate data during trading hours. So if you run these code cells outside trading hours, you won't see signals and orders being generated (depending of course on the used strategy).\n",
    "\n",
    "<div class=\"alert alert-block alert-warning\">\n",
    "The integration with the trading API is still very much work in progress, so only use this with a paper trading account and even then it can lead to unwatned updates to your paper trading account.\n",
    "</div>"
   ]
  },
  {
   "cell_type": "code",
   "execution_count": null,
   "metadata": {},
   "outputs": [],
   "source": [
    "val broker = IBKRBroker(enableOrders = true)\n",
    "Thread.sleep(5000)"
   ]
  },
  {
   "cell_type": "code",
   "execution_count": null,
   "metadata": {},
   "outputs": [],
   "source": [
    "broker.account.fullSummary()"
   ]
  },
  {
   "cell_type": "markdown",
   "metadata": {},
   "source": [
    "## Place an order directly\n",
    "Besides using strategies and policies to generate orders, you can also call the `broker.place` method directly to place an order. Again, use this only with paper trading accounts. "
   ]
  },
  {
   "cell_type": "code",
   "execution_count": null,
   "metadata": {},
   "outputs": [],
   "source": [
    "val asset = broker.account.portfolio.assets.findBySymbols(\"AAPL\").first()\n",
    "val order = MarketOrder(asset, 2.0)\n",
    "broker.place(listOf(order), Event.empty())\n",
    "\n",
    "// Should show up as an open order initially\n",
    "broker.account.fullSummary()\n",
    "\n",
    "\n",
    "// Now should show up as an extra closed order (if placed during trading hours)\n",
    "// Also you might hear TWS say \"Order Filled\"\n",
    "Thread.sleep(5000)\n",
    "broker.account.fullSummary()"
   ]
  },
  {
   "cell_type": "code",
   "execution_count": null,
   "metadata": {},
   "outputs": [],
   "source": [
    "broker.account.trades"
   ]
  },
  {
   "cell_type": "code",
   "execution_count": null,
   "metadata": {},
   "outputs": [],
   "source": [
    "broker.account.trades.first().fee"
   ]
  },
  {
   "cell_type": "code",
   "execution_count": null,
   "metadata": {},
   "outputs": [],
   "source": [
    "broker.account.orders.summary()"
   ]
  },
  {
   "cell_type": "code",
   "execution_count": null,
   "metadata": {},
   "outputs": [],
   "source": [
    "val strategy = EMACrossover(3, 5)\n",
    "val roboquant = Roboquant(strategy, AccountSummary(), broker = broker)"
   ]
  },
  {
   "cell_type": "markdown",
   "metadata": {},
   "source": [
    "The setup of the feed is exactly the same as before. There is no difference in the feed if you use it for live testing with the builtin Simulated Broker or paper- and live-trading. Alos this time we'll run it for 30 minutes."
   ]
  },
  {
   "cell_type": "code",
   "execution_count": null,
   "metadata": {},
   "outputs": [],
   "source": [
    "val timeframe = Timeframe.next(30.minutes)\n",
    "roboquant.run(feed, timeframe)"
   ]
  },
  {
   "cell_type": "code",
   "execution_count": null,
   "metadata": {},
   "outputs": [],
   "source": [
    "broker.account.portfolio.summary()"
   ]
  },
  {
   "cell_type": "code",
   "execution_count": null,
   "metadata": {},
   "outputs": [],
   "source": [
    "roboquant.logger.summary()"
   ]
  },
  {
   "cell_type": "code",
   "execution_count": null,
   "metadata": {},
   "outputs": [],
   "source": [
    "feed.disconnect()"
   ]
  },
  {
   "cell_type": "code",
   "execution_count": null,
   "metadata": {},
   "outputs": [],
   "source": [
    "broker.disconnect()"
   ]
  },
  {
   "cell_type": "code",
   "execution_count": null,
   "metadata": {},
   "outputs": [],
   "source": []
  }
 ],
 "metadata": {
  "kernelspec": {
   "display_name": "Kotlin",
   "language": "kotlin",
   "name": "kotlin"
  },
  "language_info": {
   "codemirror_mode": "text/x-kotlin",
   "file_extension": ".kt",
   "mimetype": "text/x-kotlin",
   "name": "kotlin",
   "nbconvert_exporter": "",
   "pygments_lexer": "kotlin",
   "version": "1.6.20-dev-6372"
  }
 },
 "nbformat": 4,
 "nbformat_minor": 4
}
