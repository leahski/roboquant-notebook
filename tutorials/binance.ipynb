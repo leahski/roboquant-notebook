{
 "cells": [
  {
   "cell_type": "markdown",
   "metadata": {},
   "source": [
    "# Introduction\n",
    "\n",
    "This notebook shows how to run a strategy against feeds coming from the Binance crypto exchange. Roboquant includes a dedicated module for crypto trading and this module also includes the support for Binance.\n",
    "There are two types of feed supported:\n",
    "\n",
    "1) Historic feed with price bars (candlesticks)\n",
    "2) Live feed with price bars\n",
    "\n",
    "As always we load roboquant using the **%use roboquant** cell magic. This will retrieve all the required packages and imports most commonly used functionality. The Welcome() is optional, but it provides some insights into the used environment and available memory. "
   ]
  },
  {
   "cell_type": "code",
   "execution_count": null,
   "metadata": {},
   "outputs": [],
   "source": [
    "%use roboquant\n",
    "Welcome()"
   ]
  },
  {
   "cell_type": "markdown",
   "metadata": {},
   "source": [
    "# Setup \n",
    "By default the required Binance classes are not imported, as is the case with all third party integrations, so lets do that first."
   ]
  },
  {
   "cell_type": "code",
   "execution_count": null,
   "metadata": {},
   "outputs": [],
   "source": [
    "import org.roboquant.binance.*"
   ]
  },
  {
   "cell_type": "markdown",
   "metadata": {},
   "source": [
    "We now create the components we want to use. We start with defining a simple strategy that uses moving average. Because we won't be using USD as a base currency, we create a new SimBroker instance with an initial deposit of 1_000.000,- Binance USD (BUSD). We could also have used the default SimBroker with 1 million USD initial deposit. But in that case we would have needed to define the exchange rate from USD to BUSD, since we going to trade Bitcoin denominated in BUSD. "
   ]
  },
  {
   "cell_type": "code",
   "execution_count": null,
   "metadata": {},
   "outputs": [],
   "source": [
    "val strategy = EMACrossover(3, 5)\n",
    "val broker = SimBroker.withDeposit(1_000_000.00, \"BUSD\")\n",
    "val roboquant =  Roboquant(strategy, ProgressMetric(), broker = broker)"
   ]
  },
  {
   "cell_type": "markdown",
   "metadata": {},
   "source": [
    "# Binance Historic Feed\n",
    "We start with retrieving historic data from Binance. Please note how to define a currency-pair: currency1-currency2"
   ]
  },
  {
   "cell_type": "code",
   "execution_count": null,
   "metadata": {},
   "outputs": [],
   "source": [
    "val feed = BinanceHistoricFeed()\n",
    "val tf = TimeFrame.pastPeriod(800)\n",
    "feed.retrieve(\"BTC-BUSD\", timeFrame = tf)\n",
    "feed.timeFrame"
   ]
  },
  {
   "cell_type": "markdown",
   "metadata": {},
   "source": [
    "Lets plot the data we just received. Since the feed can contain multiple assets, we also need to tell the chart which asset to draw (although in this case there is only one)."
   ]
  },
  {
   "cell_type": "code",
   "execution_count": null,
   "metadata": {},
   "outputs": [],
   "source": [
    "PriceBarChart(feed, feed.assets.first())"
   ]
  },
  {
   "cell_type": "code",
   "execution_count": null,
   "metadata": {},
   "outputs": [],
   "source": [
    "roboquant.run(feed)"
   ]
  },
  {
   "cell_type": "code",
   "execution_count": null,
   "metadata": {},
   "outputs": [],
   "source": [
    "roboquant.logger.summary()"
   ]
  },
  {
   "cell_type": "code",
   "execution_count": null,
   "metadata": {},
   "outputs": [],
   "source": [
    "roboquant.broker.account.summary()"
   ]
  },
  {
   "cell_type": "markdown",
   "metadata": {},
   "source": [
    "We will now plot again the historic prices but this time also plot the actual trades that happened as part of our run. So you can easily see when a trade occured in time and the amount traded."
   ]
  },
  {
   "cell_type": "code",
   "execution_count": null,
   "metadata": {},
   "outputs": [],
   "source": [
    "PriceChart(feed, feed.assets.first(), broker.account.trades)"
   ]
  },
  {
   "cell_type": "markdown",
   "metadata": {},
   "source": [
    "# Binance Live Feed\n",
    "Now we create an instance of the BinanceFeed and subscribe to pricebar events (candlesticks) of the the BTC/BUSD currency pair. It is also possible to subscribe to multiple currency pairs by adding additional parameters to the same *subscribePriceBar* method."
   ]
  },
  {
   "cell_type": "code",
   "execution_count": null,
   "metadata": {},
   "outputs": [],
   "source": [
    "val feed = BinanceFeed()\n",
    "feed.subscribePriceBar(\"BTC-BUSD\")"
   ]
  },
  {
   "cell_type": "markdown",
   "metadata": {},
   "source": [
    "Because we won't be using USD as a base currency, we create a new Simbroker instance with an initial deposit of 1,000,000.- Binance USD (BUSD). We also define metrics that will help afterwards to validate the performance:\n",
    "\n",
    "1) ProgressMetric: overall progress of the run\n",
    "2) AccountSummary: state of the account during the run\n",
    "2) PriceMetric: capture the recorded prices for an asset"
   ]
  },
  {
   "cell_type": "code",
   "execution_count": null,
   "metadata": {},
   "outputs": [],
   "source": [
    "val strategy = EMACrossover(3, 5)\n",
    "val broker = SimBroker.withDeposit(1_000_000.00, \"BUSD\")\n",
    "val priceMetric = PriceMetric(feed.assets.first())\n",
    "val roboquant =  Roboquant(strategy, ProgressMetric(), AccountSummary(), priceMetric, broker = broker)"
   ]
  },
  {
   "cell_type": "markdown",
   "metadata": {},
   "source": [
    "All that remains is to start the run. Because it is a live feed we have to specify for how long we want to run it otherwise it would run forever or you interrupt the execution. In this case we run it for 30 minutes, but you can run it of course for any duration. If you run it for a short time, it is less likely that the used strategy will generate signals and as a result you won't see any trades or changes to the portfolio."
   ]
  },
  {
   "cell_type": "code",
   "execution_count": null,
   "metadata": {},
   "outputs": [],
   "source": [
    "val timeFrame = TimeFrame.nextMinutes(30)\n",
    "roboquant.run(feed, timeFrame)"
   ]
  },
  {
   "cell_type": "code",
   "execution_count": null,
   "metadata": {},
   "outputs": [],
   "source": [
    "roboquant.logger.summary()"
   ]
  },
  {
   "cell_type": "code",
   "execution_count": null,
   "metadata": {},
   "outputs": [],
   "source": [
    "PriceBarChart(priceMetric, priceMetric.asset)"
   ]
  },
  {
   "cell_type": "code",
   "execution_count": null,
   "metadata": {},
   "outputs": [],
   "source": [
    "PriceChart(priceMetric, priceMetric.asset, roboquant.broker.account.trades)"
   ]
  },
  {
   "cell_type": "code",
   "execution_count": null,
   "metadata": {},
   "outputs": [],
   "source": [
    "val accountValue = roboquant.logger.getMetric(\"account.value\")\n",
    "MetricChart(accountValue)"
   ]
  },
  {
   "cell_type": "markdown",
   "metadata": {},
   "source": [
    "# Binance Trading\n",
    "This is still work in progress and is currently not available. However the goal is that in the end you can also place orders on Binance using roboquant. There is already some ground work done, so have a look at the roboquant source code if you want to see what is already there and perhaps contribute some code. "
   ]
  },
  {
   "cell_type": "code",
   "execution_count": null,
   "metadata": {},
   "outputs": [],
   "source": []
  }
 ],
 "metadata": {
  "kernelspec": {
   "display_name": "Kotlin",
   "language": "kotlin",
   "name": "kotlin"
  },
  "language_info": {
   "codemirror_mode": "text/x-kotlin",
   "file_extension": ".kt",
   "mimetype": "text/x-kotlin",
   "name": "kotlin",
   "nbconvert_exporter": "",
   "pygments_lexer": "kotlin",
   "version": "1.6.0-dev-3567"
  }
 },
 "nbformat": 4,
 "nbformat_minor": 4
}
