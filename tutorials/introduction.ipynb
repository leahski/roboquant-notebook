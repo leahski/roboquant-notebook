{
 "cells": [
  {
   "cell_type": "markdown",
   "metadata": {},
   "source": [
    "# Introduction\n",
    "\n",
    "Roboquant is an open source algoritmic trading framework written in [Kotlin](https://kotlinlang.org). It enables fast and robust back-testing and live trading in a fully automatic way. You can read more about roboquant at [roboquant.org](https://roboquant.org)\n",
    "\n",
    "As an algo-trader, you can use roboquant in two different ways:\n",
    "\n",
    "1. In a Jupyter Notebook \n",
    "2. As a library in your standalone Kotlin/Java application using your IDE of choice\n",
    "\n",
    "Both share exactly the same code-base, so there is no difference how to develop your strategies or how they behave. \n",
    "\n",
    "> The Notebook approach is a great to quickly be up and running and have a more iterative approach to developing new trading strategies. It comes also with charts that visualize how your strategy is performing.\n",
    "\n",
    "> As your strategy grows, you might benefit from the power of a full-fledged IDE like IDEA and move to a standalone application. Also if you want to run it for live-trading, the standalone application might prove a more robust approach. \n",
    "\n",
    "This notebook demonstrates only the very basics of using roboquant and how to test a strategy. See the other included notebooks for a more advanced topics.\n",
    "\n",
    "We start with the cell magic **%use roboquant** to load the required packages. The **Welcome()** statement is optional, but gives usefull info on the environment we are running in."
   ]
  },
  {
   "cell_type": "code",
   "execution_count": null,
   "metadata": {},
   "outputs": [],
   "source": [
    "%use roboquant\n",
    "Welcome()"
   ]
  },
  {
   "cell_type": "markdown",
   "metadata": {},
   "source": [
    "# Define a Roboquant\n",
    "Besides the name of the software, the Roboquant class is also the engine of the framework. It ties all the components together that make-up a back-test. It also runs the actual tests and live trading.\n",
    "\n",
    "There several default parameters for a roboquant, so the only two main ingredients remaining that need to be defined to get started are:\n",
    "\n",
    "1. The strategy we want to test. For this example we use a Exponential Moving Average Crossover with its default settings. This comes out-of-the-box with roboquant.\n",
    "2. Any metrics we want to captured during the run to see how our strategy is performing. In this case we use the AccountSummary metric.\n",
    "\n",
    "roboquant allows for much more customization, but for this introduction notebook we'll keep it simple.  "
   ]
  },
  {
   "cell_type": "code",
   "execution_count": null,
   "metadata": {},
   "outputs": [],
   "source": [
    "val strategy = EMACrossover()\n",
    "val roboquant =  Roboquant(strategy, AccountSummary())"
   ]
  },
  {
   "cell_type": "markdown",
   "metadata": {},
   "source": [
    "# Feed & Run\n",
    "Now we define the data we want to use for the run. In roboqaunt data is provided by a Feed and there are many Feed providers included out of the box. They are ranging from Feeds for handling local CSV files to online data providers. In this notebook we use a the Avro Feed provider, which also comes with some S&P 500 test data. \n",
    "\n",
    "After the feed is created, we are all set to start the run. When you start a run, by default a progress bar is shown that provides visual feedback how the run is progressing. "
   ]
  },
  {
   "cell_type": "code",
   "execution_count": null,
   "metadata": {},
   "outputs": [],
   "source": [
    "val feed = AvroFeed.sp500()\n",
    "roboquant.run(feed)"
   ]
  },
  {
   "cell_type": "markdown",
   "metadata": {},
   "source": [
    "# Examine Results\n",
    "\n",
    "Likely the first thing you want to know after the run has finished is: how does the account look like? \n",
    "\n",
    "An account in roboquant is owned by the boker and contains the following 4 types of data: \n",
    "\n",
    "1. the cash balances\n",
    "2. the portfolio with its positions\n",
    "3. the orders, both open and closed orders\n",
    "4. any trades made, so orders that have been (partially) filled\n",
    "\n",
    "\n",
    "> Please note the use of the **summary()** method in the next notebook cells. Many classes in roboquant implement this method and it provides a nice summary of the state on an object, like in this case the account and portfolio object.\n"
   ]
  },
  {
   "cell_type": "code",
   "execution_count": null,
   "metadata": {},
   "outputs": [],
   "source": [
    "val account = roboquant.broker.account\n",
    "account.summary()"
   ]
  },
  {
   "cell_type": "code",
   "execution_count": null,
   "metadata": {},
   "outputs": [],
   "source": [
    "// You can also get more details, for example about the portfolio\n",
    "account.portfolio.summary()"
   ]
  },
  {
   "cell_type": "code",
   "execution_count": null,
   "metadata": {},
   "outputs": [],
   "source": [
    "val trades = account.trades\n",
    "trades[0..10].summary()"
   ]
  },
  {
   "cell_type": "markdown",
   "metadata": {},
   "source": [
    "# Metric Results\n",
    "The account contains the state at the end of the run. Metrics are more powerful in that they capture state during each step of the run. So they give an overview how a metric evolves over time during the run. It is the logger who is responsible for storing or logging the metric results.  "
   ]
  },
  {
   "cell_type": "code",
   "execution_count": null,
   "metadata": {},
   "outputs": [],
   "source": [
    "var logger = roboquant.logger\n",
    "logger.getMetricNames()"
   ]
  },
  {
   "cell_type": "code",
   "execution_count": null,
   "metadata": {},
   "outputs": [],
   "source": [
    "logger.summary(2)"
   ]
  },
  {
   "cell_type": "code",
   "execution_count": null,
   "metadata": {},
   "outputs": [],
   "source": [
    "logger.getMetric(\"account.value\").summary()"
   ]
  },
  {
   "cell_type": "markdown",
   "metadata": {},
   "source": [
    "# More detailed inspections\n",
    "\n",
    "After a quick scan of the results, you might want to dive into some more details. For example how much profit or loss did the strategy make on a single asset, like for example Apple?"
   ]
  },
  {
   "cell_type": "code",
   "execution_count": null,
   "metadata": {},
   "outputs": [],
   "source": [
    "val apple = trades.assets.getBySymbol(\"AAPL\")\n",
    "trades.realizedPnL(apple)"
   ]
  },
  {
   "cell_type": "markdown",
   "metadata": {},
   "source": [
    "Or how much profit did we make in each year?"
   ]
  },
  {
   "cell_type": "code",
   "execution_count": null,
   "metadata": {},
   "outputs": [],
   "source": [
    "trades.timeline.split(1.years).forEach {\n",
    "    val pnl = trades.realizedPnL(it)\n",
    "    println(\"$it profit: $pnl\")\n",
    "}"
   ]
  },
  {
   "cell_type": "markdown",
   "metadata": {},
   "source": [
    "# Charts\n",
    "A great way to get this overview more easy is by using one of the many included charts. If you want to find out more about that, check out the visualization Notebook. \n",
    "In this notebook we just include an example that shows how to quickly spot which days had the best and worst performance during a back test."
   ]
  },
  {
   "cell_type": "code",
   "execution_count": null,
   "metadata": {},
   "outputs": [],
   "source": [
    "CalendarChart(logger.getMetric(\"account.change\"))"
   ]
  },
  {
   "cell_type": "markdown",
   "metadata": {},
   "source": []
  }
 ],
 "metadata": {
  "kernelspec": {
   "display_name": "Kotlin",
   "language": "kotlin",
   "name": "kotlin"
  },
  "language_info": {
   "codemirror_mode": "text/x-kotlin",
   "file_extension": ".kt",
   "mimetype": "text/x-kotlin",
   "name": "kotlin",
   "nbconvert_exporter": "",
   "pygments_lexer": "kotlin",
   "version": "1.6.20-dev-3702"
  }
 },
 "nbformat": 4,
 "nbformat_minor": 4
}
