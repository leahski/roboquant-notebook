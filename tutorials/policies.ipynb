{
 "cells": [
  {
   "cell_type": "markdown",
   "metadata": {},
   "source": [
    "# Introduction\n",
    "This notebook shows how to create a new policy. There are two ways to do so:\n",
    "\n",
    "1. Extend the `DefaultPolicy`: this approach is mostly suitable if you just require some minor changes to the defautl behavior, like creating different order types.\n",
    "2. Implement the `Policy` from scratch: this approach provides full flexibility on what the policy should do."
   ]
  },
  {
   "cell_type": "code",
   "execution_count": null,
   "metadata": {},
   "outputs": [],
   "source": [
    "%use @http://roboquant.org/roboquant.json\n",
    "Welcome()"
   ]
  },
  {
   "cell_type": "markdown",
   "metadata": {},
   "source": [
    "## Extending the `DefaulPolicy`\n",
    "\n",
    "We're now ready to develop a \"custom policy\". For this first example we extend the DefaultPolicy and create our own Order type by overriding the `createOrder` method. The default behavior is to create a `MarketOrder`, but we change it to a `BracketOrder`."
   ]
  },
  {
   "cell_type": "code",
   "execution_count": null,
   "metadata": {},
   "outputs": [],
   "source": [
    "class MyPolicy(var percentage: Double=0.05) : DefaultPolicy() {\n",
    "\n",
    "        override fun createOrder(signal: Signal, qty: Size, price: Double): Order? {\n",
    "            \n",
    "            // In this example we don't short and exit orders are covered by the bracket order.\n",
    "            if (qty < 0) return null\n",
    "            \n",
    "            val asset = signal.asset\n",
    "      \n",
    "            return BracketOrder(\n",
    "                MarketOrder(asset, qty),\n",
    "                TrailOrder(asset, -qty, percentage/2.0),\n",
    "                StopOrder(asset, -qty, price* (1 - percentage))\n",
    "            )\n",
    "        }\n",
    "}"
   ]
  },
  {
   "cell_type": "markdown",
   "metadata": {},
   "source": [
    "## Create a new roboquant and evaluate it\n",
    "We are now ready to back-test our strategy using the just created Policy. And suppose we want to find out what is the optimal percentage to use in our policy, we'll iterate over 10 values to see what results in the best solution."
   ]
  },
  {
   "cell_type": "code",
   "execution_count": null,
   "metadata": {},
   "outputs": [],
   "source": [
    "val feed = AvroFeed.sp500()\n",
    "val strategy = EMACrossover()\n",
    "val policy = MyPolicy()\n",
    "val roboquant =  Roboquant(strategy, AccountSummary(), policy = policy)\n",
    "\n",
    "for (percentage in 1..10) {\n",
    "    policy.percentage = percentage / 100.0\n",
    "    roboquant.run(feed, runName = \"run-$percentage%\")\n",
    "}"
   ]
  },
  {
   "cell_type": "code",
   "execution_count": null,
   "metadata": {},
   "outputs": [],
   "source": [
    "var data = roboquant.logger.getMetric(\"account.equity\")\n",
    "MetricChart(data)"
   ]
  },
  {
   "cell_type": "code",
   "execution_count": null,
   "metadata": {},
   "outputs": [],
   "source": [
    "data.max()"
   ]
  },
  {
   "cell_type": "markdown",
   "metadata": {},
   "source": [
    "# Implementing the `Policy` interface\n",
    "\n",
    "The following cell shows a very minimal implementation of a Policy in which BUY ratings are generating buy market orders and SELL ratings are generating sell market orders if there is an open position."
   ]
  },
  {
   "cell_type": "code",
   "execution_count": null,
   "metadata": {},
   "outputs": [],
   "source": [
    "class MyPolicy2 : Policy {\n",
    "    \n",
    "    // This is the only method that is required to implement and basically tranforms signals into orders \n",
    "    override public fun act(signals: List<Signal>, account: Account, event: Event): List<Order> {\n",
    "        \n",
    "        val orders = mutableListOf<Order>()\n",
    "        \n",
    "        for (signal in signals) {\n",
    "            if (signal.rating.isPositive) \n",
    "                orders.add(MarketOrder(signal.asset, 10))\n",
    "            else if (signal.rating.isNegative && account.portfolio.containsKey(signal.asset)) \n",
    "                orders.add(MarketOrder(signal.asset, -10))\n",
    "        }\n",
    "        \n",
    "        return orders\n",
    "    }\n",
    "    \n",
    "}"
   ]
  },
  {
   "cell_type": "code",
   "execution_count": null,
   "metadata": {},
   "outputs": [],
   "source": [
    "val strategy = EMACrossover()\n",
    "val policy = MyPolicy2()\n",
    "val roboquant =  Roboquant(strategy, AccountSummary(), policy = policy)\n",
    "roboquant.run(feed)"
   ]
  },
  {
   "cell_type": "code",
   "execution_count": null,
   "metadata": {},
   "outputs": [],
   "source": [
    "roboquant.broker.account"
   ]
  },
  {
   "cell_type": "code",
   "execution_count": null,
   "metadata": {},
   "outputs": [],
   "source": [
    "var data = roboquant.logger.getMetric(\"account.equity\")\n",
    "MetricChart(data)"
   ]
  },
  {
   "cell_type": "code",
   "execution_count": null,
   "metadata": {},
   "outputs": [],
   "source": []
  }
 ],
 "metadata": {
  "kernelspec": {
   "display_name": "Kotlin",
   "language": "kotlin",
   "name": "kotlin"
  },
  "language_info": {
   "codemirror_mode": "text/x-kotlin",
   "file_extension": ".kt",
   "mimetype": "text/x-kotlin",
   "name": "kotlin",
   "nbconvert_exporter": "",
   "pygments_lexer": "kotlin",
   "version": "1.7.0-dev-3303"
  }
 },
 "nbformat": 4,
 "nbformat_minor": 4
}
